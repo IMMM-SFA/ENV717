{
 "cells": [
  {
   "cell_type": "markdown",
   "id": "45be5654",
   "metadata": {},
   "source": [
    "# ENV717 L11 - UNIT COMMITMENT PROBLEM"
   ]
  },
  {
   "cell_type": "markdown",
   "id": "18ad7778",
   "metadata": {},
   "source": [
    "#### Data from Handout Lesson 8 - 9 - 10\n",
    "##### Constraints Included:  Pmin, Pmax, Demand Balance constraints\n",
    "#### Costs included: Fixed and variable\n",
    "##### Work on your own to include ramping constraints"
   ]
  },
  {
   "cell_type": "code",
   "execution_count": 10,
   "id": "4f1c411e",
   "metadata": {},
   "outputs": [],
   "source": [
    "import os\n",
    "import pandas as pd\n",
    "import numpy as np\n",
    "import matplotlib.pyplot as plt\n",
    "from pyomo.environ import *\n",
    "opt = SolverFactory('cplex')"
   ]
  },
  {
   "cell_type": "code",
   "execution_count": 11,
   "id": "670ac82a",
   "metadata": {},
   "outputs": [],
   "source": [
    "#Read or initialize data\n",
    "#SETS AND INDEXES\n",
    "NumGen=2\n",
    "N=np.array([n for n in range(0,NumGen)]) #This array has 2 components, but the index starts at zero"
   ]
  },
  {
   "cell_type": "code",
   "execution_count": 12,
   "id": "a7ef2aad",
   "metadata": {},
   "outputs": [],
   "source": [
    "T=24\n",
    "T=np.array([t for t in range(0,T)])"
   ]
  },
  {
   "cell_type": "code",
   "execution_count": 13,
   "id": "a853c791",
   "metadata": {},
   "outputs": [],
   "source": [
    "#GENERATORS' PARAMETERS\n",
    "FixCost=np.array([1 for n in N])\n",
    "SDCost=np.array([1 for n in N])\n",
    "SUCost=np.array([1 for n in N])\n",
    "VarCost=np.array([1 for n in N])\n",
    "PMax=np.array([1 for n in N])\n",
    "PMin=np.array([1 for n in N])\n",
    "Demand=np.array([1 for n in T])"
   ]
  },
  {
   "cell_type": "code",
   "execution_count": 14,
   "id": "9c9ff4ae",
   "metadata": {},
   "outputs": [],
   "source": [
    "#DATA FOR PARAMETERS - better to read from a csv file\n",
    "FixCost=[5,6]\n",
    "SDCost=[370,400]\n",
    "SUCost=[10700,11000]\n",
    "VarCost=[25,26]\n",
    "PMax=[300,600]\n",
    "PMin=[30,60]\n",
    "Demand=[200,230,270,280,260,270,290,330,350,370,400,410,420,420,380,360,340,300,300,310,290,280,260,250]"
   ]
  },
  {
   "cell_type": "code",
   "execution_count": 15,
   "id": "2182a4a2",
   "metadata": {},
   "outputs": [],
   "source": [
    "#UC MODEL\n",
    "def Unit_Commitment():\n",
    "    m=ConcreteModel()\n",
    "    m.N=Set(initialize=N)\n",
    "    m.T=Set(initialize=T)\n",
    "    m.x=Var(m.N, m.T, bounds = (0,350))\n",
    "    m.u=Var(m.N, m.T, domain=Binary)\n",
    "    m.system_cost=Objective(expr=sum(m.x[n,t]*VarCost[n]+m.u[n,t]*FixCost[n] for n in m.N for t in m.T), sense=minimize)\n",
    "    m.DemandConstraint=Constraint(m.T, rule=lambda m, t: sum(m.x[n,t] for n in N) == Demand[t])\n",
    "    m.MinPower=Constraint(m.N, m.T, rule=lambda m, n, t: PMin[n]*m.u[n,t] <= m.x[n,t])\n",
    "    m.MaxPower=Constraint(m.N, m.T, rule=lambda m, n, t: PMax[n]*m.u[n,t] >= m.x[n,t])\n",
    "    return m"
   ]
  },
  {
   "cell_type": "code",
   "execution_count": 16,
   "id": "12df3ab3",
   "metadata": {},
   "outputs": [
    {
     "name": "stdout",
     "output_type": "stream",
     "text": [
      "# ==========================================================\n",
      "# = Solver Results                                         =\n",
      "# ==========================================================\n",
      "# ----------------------------------------------------------\n",
      "#   Problem Information\n",
      "# ----------------------------------------------------------\n",
      "Problem: \n",
      "- Name: tmppo0n19a1\n",
      "  Lower bound: 190336.0\n",
      "  Upper bound: 190336.0\n",
      "  Number of objectives: 1\n",
      "  Number of constraints: 121\n",
      "  Number of variables: 97\n",
      "  Number of nonzeros: 241\n",
      "  Sense: minimize\n",
      "# ----------------------------------------------------------\n",
      "#   Solver Information\n",
      "# ----------------------------------------------------------\n",
      "Solver: \n",
      "- Status: ok\n",
      "  User time: 0.05\n",
      "  Termination condition: optimal\n",
      "  Termination message: MIP - Integer optimal solution\\x3a Objective = 1.9033600000e+05\n",
      "  Statistics: \n",
      "    Branch and bound: \n",
      "      Number of bounded subproblems: 0\n",
      "      Number of created subproblems: 0\n",
      "  Error rc: 0\n",
      "  Time: 0.09483981132507324\n",
      "# ----------------------------------------------------------\n",
      "#   Solution Information\n",
      "# ----------------------------------------------------------\n",
      "Solution: \n",
      "- number of solutions: 0\n",
      "  number of solutions displayed: 0\n"
     ]
    }
   ],
   "source": [
    "m=Unit_Commitment()\n",
    "SolverFactory('cplex').solve(m).write() # Instead of this line, write \"opt.solve(m)\" if model's details are not important"
   ]
  },
  {
   "cell_type": "code",
   "execution_count": 23,
   "id": "e2543438",
   "metadata": {},
   "outputs": [
    {
     "name": "stdout",
     "output_type": "stream",
     "text": [
      "SOLUTION\n",
      "The total system cost is = $ 190336.0\n",
      "Commitment and Generation\n",
      "n =  0  t =  0   u[0,0] 1.0  200.00\n",
      "n =  0  t =  1   u[0,1] 1.0  230.00\n",
      "n =  0  t =  2   u[0,2] 1.0  270.00\n",
      "n =  0  t =  3   u[0,3] 1.0  280.00\n",
      "n =  0  t =  4   u[0,4] 1.0  260.00\n",
      "n =  0  t =  5   u[0,5] 1.0  270.00\n",
      "n =  0  t =  6   u[0,6] 1.0  290.00\n",
      "n =  0  t =  7   u[0,7] 1.0  270.00\n",
      "n =  0  t =  8   u[0,8] 1.0  290.00\n",
      "n =  0  t =  9   u[0,9] 1.0  300.00\n",
      "n =  0  t = 10   u[0,10] 1.0  300.00\n",
      "n =  0  t = 11   u[0,11] 1.0  300.00\n",
      "n =  0  t = 12   u[0,12] 1.0  300.00\n",
      "n =  0  t = 13   u[0,13] 1.0  300.00\n",
      "n =  0  t = 14   u[0,14] 1.0  300.00\n",
      "n =  0  t = 15   u[0,15] 1.0  300.00\n",
      "n =  0  t = 16   u[0,16] 1.0  280.00\n",
      "n =  0  t = 17   u[0,17] 1.0  300.00\n",
      "n =  0  t = 18   u[0,18] 1.0  300.00\n",
      "n =  0  t = 19   u[0,19] 1.0  250.00\n",
      "n =  0  t = 20   u[0,20] 1.0  290.00\n",
      "n =  0  t = 21   u[0,21] 1.0  280.00\n",
      "n =  0  t = 22   u[0,22] 1.0  260.00\n",
      "n =  0  t = 23   u[0,23] 1.0  250.00\n",
      "n =  1  t =  0   u[1,0] 0.0  -0.00\n",
      "n =  1  t =  1   u[1,1] 0.0  0.00\n",
      "n =  1  t =  2   u[1,2] 0.0  0.00\n",
      "n =  1  t =  3   u[1,3] 0.0  0.00\n",
      "n =  1  t =  4   u[1,4] 0.0  0.00\n",
      "n =  1  t =  5   u[1,5] 0.0  0.00\n",
      "n =  1  t =  6   u[1,6] 0.0  0.00\n",
      "n =  1  t =  7   u[1,7] 1.0  60.00\n",
      "n =  1  t =  8   u[1,8] 1.0  60.00\n",
      "n =  1  t =  9   u[1,9] 1.0  70.00\n",
      "n =  1  t = 10   u[1,10] 1.0  100.00\n",
      "n =  1  t = 11   u[1,11] 1.0  110.00\n",
      "n =  1  t = 12   u[1,12] 1.0  120.00\n",
      "n =  1  t = 13   u[1,13] 1.0  120.00\n",
      "n =  1  t = 14   u[1,14] 1.0  80.00\n",
      "n =  1  t = 15   u[1,15] 1.0  60.00\n",
      "n =  1  t = 16   u[1,16] 1.0  60.00\n",
      "n =  1  t = 17   u[1,17] 0.0  0.00\n",
      "n =  1  t = 18   u[1,18] 0.0  0.00\n",
      "n =  1  t = 19   u[1,19] 1.0  60.00\n",
      "n =  1  t = 20   u[1,20] 0.0  0.00\n",
      "n =  1  t = 21   u[1,21] 0.0  0.00\n",
      "n =  1  t = 22   u[1,22] 0.0  0.00\n",
      "n =  1  t = 23   u[1,23] 0.0  0.00\n"
     ]
    }
   ],
   "source": [
    "print('SOLUTION')\n",
    "print('The total system cost is = $',m.system_cost())\n",
    "print('Commitment and Generation')\n",
    "for n in N:\n",
    "    for t in T:\n",
    "        print(\"n = {0:2d}  t = {1:2d}   {2} {3:.1f}  {4:.2f}\".format(n, t, m.u[n,t], m.u[n,t](), m.x[n,t]()))\n",
    "        #Line above makes columns the same width and formats the numbers of decimals for u and x. Line below has a messy format\n",
    "        #print(m.x[n,t],\" = \", m.x[n,t](), \"MWh\", m.u[n,t], \" =\", m.u[n,t]()) #this works too but format is messy"
   ]
  },
  {
   "cell_type": "code",
   "execution_count": 24,
   "id": "4b6b4ee4",
   "metadata": {},
   "outputs": [
    {
     "data": {
      "image/png": "[encoded data removed]",
      "text/plain": [
       "<Figure size 576x180 with 2 Axes>"
      ]
     },
     "metadata": {
      "needs_background": "light"
     },
     "output_type": "display_data"
    }
   ],
   "source": [
    "#Graph solution\n",
    "\n",
    "fig, ax = plt.subplots(max(N)+1, 1, figsize=(8, 1.5*max(N)+1))\n",
    "for n in N:\n",
    "    ax[n].bar(T+1, [m.x[n,t]() for t in T])\n",
    "    ax[n].set_xlim(0, max(T)+2)\n",
    "    ax[n].set_ylim(0, 1.1*PMax[n])\n",
    "    ax[n].plot(ax[n].get_xlim(), np.array([PMax[n], PMax[n]]), 'r--')\n",
    "    ax[n].plot(ax[n].get_xlim(), np.array([PMin[n], PMin[n]]), 'r--')\n",
    "    ax[n].set_title('Unit ' + str(n+1))\n",
    "fig.tight_layout()"
   ]
  },
  {
   "cell_type": "code",
   "execution_count": null,
   "id": "f5998fae",
   "metadata": {},
   "outputs": [],
   "source": []
  }
 ],
 "metadata": {
  "kernelspec": {
   "display_name": "Python 3",
   "language": "python",
   "name": "python3"
  },
  "language_info": {
   "codemirror_mode": {
    "name": "ipython",
    "version": 3
   },
   "file_extension": ".py",
   "mimetype": "text/x-python",
   "name": "python",
   "nbconvert_exporter": "python",
   "pygments_lexer": "ipython3",
   "version": "3.8.8"
  }
 },
 "nbformat": 4,
 "nbformat_minor": 5
}
