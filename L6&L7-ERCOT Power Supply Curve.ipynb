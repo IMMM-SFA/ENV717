{
 "cells": [
  {
   "cell_type": "code",
   "execution_count": 42,
   "metadata": {
    "scrolled": true
   },
   "outputs": [
    {
     "data": {
      "text/html": [
       "<div>\n",
       "<style scoped>\n",
       "    .dataframe tbody tr th:only-of-type {\n",
       "        vertical-align: middle;\n",
       "    }\n",
       "\n",
       "    .dataframe tbody tr th {\n",
       "        vertical-align: top;\n",
       "    }\n",
       "\n",
       "    .dataframe thead th {\n",
       "        text-align: right;\n",
       "    }\n",
       "</style>\n",
       "<table border=\"1\" class=\"dataframe\">\n",
       "  <thead>\n",
       "    <tr style=\"text-align: right;\">\n",
       "      <th></th>\n",
       "      <th>SEQPLT19</th>\n",
       "      <th>YEAR</th>\n",
       "      <th>PSTATABB</th>\n",
       "      <th>PNAME</th>\n",
       "      <th>ORISPL</th>\n",
       "      <th>OPRNAME</th>\n",
       "      <th>OPRCODE</th>\n",
       "      <th>UTLSRVNM</th>\n",
       "      <th>UTLSRVID</th>\n",
       "      <th>SECTOR</th>\n",
       "      <th>...</th>\n",
       "      <th>PLWIPR</th>\n",
       "      <th>PLSOPR</th>\n",
       "      <th>PLGTPR</th>\n",
       "      <th>PLOFPR</th>\n",
       "      <th>PLOPPR</th>\n",
       "      <th>PLTNPR</th>\n",
       "      <th>PLTRPR</th>\n",
       "      <th>PLTHPR</th>\n",
       "      <th>PLCYPR</th>\n",
       "      <th>PLCNPR</th>\n",
       "    </tr>\n",
       "  </thead>\n",
       "  <tbody>\n",
       "    <tr>\n",
       "      <th>0</th>\n",
       "      <td>1</td>\n",
       "      <td>2019</td>\n",
       "      <td>AK</td>\n",
       "      <td>7-Mile Ridge Wind Project</td>\n",
       "      <td>60814</td>\n",
       "      <td>Alaska Power and Telephone Co</td>\n",
       "      <td>219</td>\n",
       "      <td>Alaska Power and Telephone Co</td>\n",
       "      <td>219</td>\n",
       "      <td>Electric Utility</td>\n",
       "      <td>...</td>\n",
       "      <td></td>\n",
       "      <td></td>\n",
       "      <td></td>\n",
       "      <td></td>\n",
       "      <td></td>\n",
       "      <td></td>\n",
       "      <td></td>\n",
       "      <td></td>\n",
       "      <td></td>\n",
       "      <td></td>\n",
       "    </tr>\n",
       "    <tr>\n",
       "      <th>1</th>\n",
       "      <td>2</td>\n",
       "      <td>2019</td>\n",
       "      <td>AK</td>\n",
       "      <td>Agrium Kenai Nitrogen Operations</td>\n",
       "      <td>54452</td>\n",
       "      <td>Homer Electric Assn Inc</td>\n",
       "      <td>19558</td>\n",
       "      <td>Agrium US Inc</td>\n",
       "      <td>179</td>\n",
       "      <td>Industrial CHP</td>\n",
       "      <td>...</td>\n",
       "      <td></td>\n",
       "      <td></td>\n",
       "      <td></td>\n",
       "      <td></td>\n",
       "      <td></td>\n",
       "      <td></td>\n",
       "      <td></td>\n",
       "      <td></td>\n",
       "      <td></td>\n",
       "      <td></td>\n",
       "    </tr>\n",
       "    <tr>\n",
       "      <th>2</th>\n",
       "      <td>3</td>\n",
       "      <td>2019</td>\n",
       "      <td>AK</td>\n",
       "      <td>Alakanuk</td>\n",
       "      <td>57053</td>\n",
       "      <td>Alaska Village Elec Coop, Inc</td>\n",
       "      <td>221</td>\n",
       "      <td>Alaska Village Elec Coop, Inc</td>\n",
       "      <td>221</td>\n",
       "      <td>Electric Utility</td>\n",
       "      <td>...</td>\n",
       "      <td></td>\n",
       "      <td></td>\n",
       "      <td></td>\n",
       "      <td></td>\n",
       "      <td></td>\n",
       "      <td></td>\n",
       "      <td></td>\n",
       "      <td></td>\n",
       "      <td></td>\n",
       "      <td></td>\n",
       "    </tr>\n",
       "    <tr>\n",
       "      <th>3</th>\n",
       "      <td>4</td>\n",
       "      <td>2019</td>\n",
       "      <td>AK</td>\n",
       "      <td>Allison Creek Hydro</td>\n",
       "      <td>58982</td>\n",
       "      <td>Copper Valley Elec Assn, Inc</td>\n",
       "      <td>4329</td>\n",
       "      <td>Copper Valley Elec Assn, Inc</td>\n",
       "      <td>4329</td>\n",
       "      <td>Electric Utility</td>\n",
       "      <td>...</td>\n",
       "      <td>0</td>\n",
       "      <td>0</td>\n",
       "      <td>0</td>\n",
       "      <td>0</td>\n",
       "      <td>0</td>\n",
       "      <td>0</td>\n",
       "      <td>1</td>\n",
       "      <td>0</td>\n",
       "      <td>0</td>\n",
       "      <td>1</td>\n",
       "    </tr>\n",
       "    <tr>\n",
       "      <th>4</th>\n",
       "      <td>5</td>\n",
       "      <td>2019</td>\n",
       "      <td>AK</td>\n",
       "      <td>Ambler</td>\n",
       "      <td>60243</td>\n",
       "      <td>Alaska Village Elec Coop, Inc</td>\n",
       "      <td>221</td>\n",
       "      <td>Alaska Village Elec Coop, Inc</td>\n",
       "      <td>221</td>\n",
       "      <td>Electric Utility</td>\n",
       "      <td>...</td>\n",
       "      <td>0</td>\n",
       "      <td>0</td>\n",
       "      <td>0</td>\n",
       "      <td>0</td>\n",
       "      <td>0</td>\n",
       "      <td>1</td>\n",
       "      <td>0</td>\n",
       "      <td>0</td>\n",
       "      <td>1</td>\n",
       "      <td>0</td>\n",
       "    </tr>\n",
       "  </tbody>\n",
       "</table>\n",
       "<p>5 rows × 140 columns</p>\n",
       "</div>"
      ],
      "text/plain": [
       "   SEQPLT19  YEAR PSTATABB                             PNAME  ORISPL  \\\n",
       "0         1  2019       AK         7-Mile Ridge Wind Project   60814   \n",
       "1         2  2019       AK  Agrium Kenai Nitrogen Operations   54452   \n",
       "2         3  2019       AK                          Alakanuk   57053   \n",
       "3         4  2019       AK               Allison Creek Hydro   58982   \n",
       "4         5  2019       AK                            Ambler   60243   \n",
       "\n",
       "                         OPRNAME  OPRCODE                       UTLSRVNM  \\\n",
       "0  Alaska Power and Telephone Co      219  Alaska Power and Telephone Co   \n",
       "1        Homer Electric Assn Inc    19558                  Agrium US Inc   \n",
       "2  Alaska Village Elec Coop, Inc      221  Alaska Village Elec Coop, Inc   \n",
       "3   Copper Valley Elec Assn, Inc     4329   Copper Valley Elec Assn, Inc   \n",
       "4  Alaska Village Elec Coop, Inc      221  Alaska Village Elec Coop, Inc   \n",
       "\n",
       "   UTLSRVID            SECTOR  ... PLWIPR PLSOPR PLGTPR PLOFPR PLOPPR PLTNPR  \\\n",
       "0       219  Electric Utility  ...                                             \n",
       "1       179    Industrial CHP  ...                                             \n",
       "2       221  Electric Utility  ...                                             \n",
       "3      4329  Electric Utility  ...      0      0      0      0      0      0   \n",
       "4       221  Electric Utility  ...      0      0      0      0      0      1   \n",
       "\n",
       "   PLTRPR PLTHPR PLCYPR PLCNPR  \n",
       "0                               \n",
       "1                               \n",
       "2                               \n",
       "3       1      0      0      1  \n",
       "4       0      0      1      0  \n",
       "\n",
       "[5 rows x 140 columns]"
      ]
     },
     "execution_count": 42,
     "metadata": {},
     "output_type": "execute_result"
    }
   ],
   "source": [
    "##################################################################################################\n",
    "#       ENV717 - S2022                                                                           #                            \n",
    "#       This script explores the PLANTS in eGRID and                                             #\n",
    "#       finds the power supply curve from ERCOT'S baseload generators                            #\n",
    "##################################################################################################\n",
    "import os\n",
    "import pandas as pd\n",
    "import numpy as np\n",
    "import matplotlib.pyplot as plt\n",
    "\n",
    "### INCLUDES SEVERAL STEPS THAT ARE NOT NECESSARY TO GENERATE THE SUPPLY CURVE BUT HELP US KNOW ERCOT BETTER\n",
    "### BY EXPLORING EGRID WITH pandas DataFrames\n",
    "\n",
    "##################################################################################################################\n",
    "## 1. Read eGRID19 file                                                                                          #\n",
    "##         Read the PLNT19 sheet of the excel file into a pandas DataFrame.                                      #\n",
    "##         A DataFrame is a two-dimensional labeled data structure with columns of potentially different types   #\n",
    "##         Specify that the headers are on the second row of the excel file (i.e., row 1 in Python)              #\n",
    "## 2. Confirm we read all columns by printing the first five rows                                                #\n",
    "###################################################################################################################\n",
    "egrid=pd.read_excel(\"egrid2019_data.xlsx\",sheet_name=\"PLNT19\",keep_default_na=False,header=1) #1.\n",
    "egrid.head(5) #2."
   ]
  },
  {
   "cell_type": "code",
   "execution_count": 43,
   "metadata": {},
   "outputs": [
    {
     "data": {
      "text/plain": [
       "11865"
      ]
     },
     "execution_count": 43,
     "metadata": {},
     "output_type": "execute_result"
    }
   ],
   "source": [
    "## 3. Confirm we read all rows by printing the lenght of the DataFrame  (the lenght excludes the header and the row above it)\n",
    "len(egrid)"
   ]
  },
  {
   "cell_type": "code",
   "execution_count": 44,
   "metadata": {},
   "outputs": [
    {
     "name": "stdout",
     "output_type": "stream",
     "text": [
      "There are 549 plants in ERCO\n"
     ]
    }
   ],
   "source": [
    "## 4. Extract the plants in ERCOT using BACODE ERCO\n",
    "ercot=egrid[egrid['BACODE']==\"ERCO\"]\n",
    "print(\"There are\",len(ercot),\"plants in ERCO\")"
   ]
  },
  {
   "cell_type": "code",
   "execution_count": 45,
   "metadata": {},
   "outputs": [
    {
     "name": "stdout",
     "output_type": "stream",
     "text": [
      "The total nameplate capacity of the plants in ERCOT is 175107.0 MW\n"
     ]
    }
   ],
   "source": [
    "## 5. Q1a. Find the total installed capacity in ERCOT \n",
    "ercotCap=ercot.NAMEPCAP.sum()\n",
    "print(\"The total nameplate capacity of the plants in ERCOT is\",ercotCap,\"MW\")"
   ]
  },
  {
   "cell_type": "code",
   "execution_count": 46,
   "metadata": {
    "scrolled": true
   },
   "outputs": [
    {
     "data": {
      "text/plain": [
       "SEQPLT19     int64\n",
       "YEAR         int64\n",
       "PSTATABB    object\n",
       "PNAME       object\n",
       "ORISPL       int64\n",
       "             ...  \n",
       "PLTNPR      object\n",
       "PLTRPR      object\n",
       "PLTHPR      object\n",
       "PLCYPR      object\n",
       "PLCNPR      object\n",
       "Length: 140, dtype: object"
      ]
     },
     "execution_count": 46,
     "metadata": {},
     "output_type": "execute_result"
    }
   ],
   "source": [
    "## 6. Find total generation in ISONE in 2019 - to calculate percentage generation by fuel later\n",
    "## But using pjmGen=pjm.PLNGENAN.sum() will result in a type error.\n",
    "## This type error ocurrs because PLNGENAN is an object and not a float\n",
    "## We can ceck the types of all the columns with dtypes\n",
    "ercot.dtypes"
   ]
  },
  {
   "cell_type": "code",
   "execution_count": 47,
   "metadata": {},
   "outputs": [
    {
     "name": "stderr",
     "output_type": "stream",
     "text": [
      "C:\\ProgramData\\Anaconda3\\lib\\site-packages\\pandas\\core\\indexing.py:1676: SettingWithCopyWarning: \n",
      "A value is trying to be set on a copy of a slice from a DataFrame.\n",
      "Try using .loc[row_indexer,col_indexer] = value instead\n",
      "\n",
      "See the caveats in the documentation: https://pandas.pydata.org/pandas-docs/stable/user_guide/indexing.html#returning-a-view-versus-a-copy\n",
      "  self._setitem_single_column(ilocs[0], value, pi)\n"
     ]
    },
    {
     "data": {
      "text/plain": [
       "dtype('float64')"
      ]
     },
     "execution_count": 47,
     "metadata": {},
     "output_type": "execute_result"
    }
   ],
   "source": [
    "## We convert PLNGENAN to a number using dataframe.to_numeric\n",
    "##We can check the type of PLNGENAN is now a float:\n",
    "#ercot[\"PLNGENAN\"].dtype\n",
    "ercot.loc[:,\"PLNGENAN\"]=pd.to_numeric(ercot.loc[:,\"PLNGENAN\"])\n",
    "ercot[\"PLNGENAN\"].dtype"
   ]
  },
  {
   "cell_type": "code",
   "execution_count": 48,
   "metadata": {},
   "outputs": [
    {
     "name": "stdout",
     "output_type": "stream",
     "text": [
      "The total generation in ERCOT in 2019 was 412623347.76900005 MWh\n"
     ]
    }
   ],
   "source": [
    "## Now we can obtain the total generation using sum\n",
    "ercotGen=ercot.PLNGENAN.sum()\n",
    "print(\"The total generation in ERCOT in 2019 was\",ercotGen,\"MWh\")"
   ]
  },
  {
   "cell_type": "code",
   "execution_count": 49,
   "metadata": {},
   "outputs": [
    {
     "data": {
      "text/plain": [
       "array(['GAS', '', 'HYDRO', 'SOLAR', 'WIND', 'BIOMASS', 'COAL', 'OTHF',\n",
       "       'OFSL', 'NUCLEAR', 'OIL'], dtype=object)"
      ]
     },
     "execution_count": 49,
     "metadata": {},
     "output_type": "execute_result"
    }
   ],
   "source": [
    "## To find the capacity and generation by fuel we first need to findout the names of fuel categories PLFUELCT in the DataFrame\n",
    "ercot.PLFUELCT.unique()"
   ]
  },
  {
   "cell_type": "code",
   "execution_count": 60,
   "metadata": {},
   "outputs": [
    {
     "name": "stdout",
     "output_type": "stream",
     "text": [
      "FUEL                INSTALLED CAPACITY        GENERATION IN 2019\n",
      "Biomass           1146.10 MW.  0.655 %.  368991.00 MWh.  0.089 %. \r\n",
      "\n",
      "Coal              26325.80 MW.  15.034 %.  76608860.00 MWh.  18.566 %. \r\n",
      "\n",
      "Gas               88338.10 MW.  50.448 %.  206663959.21 MWh.  50.085 %. \r\n",
      "\n",
      "Geothermal        0.00 MW.  0.000 %.  0.00 MWh.  0.000 %. \r\n",
      "\n",
      "Hydro             567.00 MW.  0.324 %.  852038.00 MWh.  0.206 %. \r\n",
      "\n",
      "Nuclear           5138.60 MW.  2.935 %.  41298007.00 MWh.  10.009 %. \r\n",
      "\n",
      "Oil               105.80 MW.  0.060 %.  217825.56 MWh.  0.053 %. \r\n",
      "\n",
      "Other Fossil Fuel 923.80 MW.  0.528 %.  4176244.00 MWh.  1.012 %. \r\n",
      "\n",
      "Solar             11408.10 MW.  6.515 %.  4321989.00 MWh.  1.047 %. \r\n",
      "\n",
      "Wind              36936.80 MW.  21.094 %.  76153043.00 MWh.  18.456 %. \r\n",
      "\n",
      "Other Fuel        1020.80 MW.  0.583 %.  1714998.00 MWh.  0.416 %. \r\n",
      "\n"
     ]
    }
   ],
   "source": [
    "## 6. Q1b. Find the total installed capacity in MW and total electricity generation from power plants of different fuels\n",
    "## and as a percentage of ERCOT capacity and generation\n",
    "\n",
    "biomass=ercot[ercot['PLFUELCT']==\"BIOMASS\"]\n",
    "coal=ercot[ercot['PLFUELCT']==\"COAL\"]\n",
    "gas=ercot[ercot['PLFUELCT']==\"GAS\"]\n",
    "geothermal=ercot[ercot['PLFUELCT']==\"GEOTHERMAL\"]\n",
    "hydro=ercot[ercot['PLFUELCT']==\"HYDRO\"]\n",
    "nuclear=ercot[ercot['PLFUELCT']==\"NUCLEAR\"]\n",
    "oil=ercot[ercot['PLFUELCT']==\"OIL\"]\n",
    "otherff=ercot[ercot['PLFUELCT']==\"OFSL\"]\n",
    "solar=ercot[ercot['PLFUELCT']==\"SOLAR\"]\n",
    "wind=ercot[ercot['PLFUELCT']==\"WIND\"]\n",
    "other=ercot[ercot['PLFUELCT']==\"OTHF\"]\n",
    "\n",
    "bioCap=biomass.NAMEPCAP.sum()\n",
    "bioGen=biomass.PLNGENAN.sum()\n",
    "bioCapPer=bioCap/ercotCap*100\n",
    "bioGenPer=bioGen/ercotGen*100\n",
    "\n",
    "coalCap=coal.NAMEPCAP.sum()\n",
    "coalGen=coal.PLNGENAN.sum()\n",
    "coalCapPer=coalCap/ercotCap*100\n",
    "coalGenPer=coalGen/ercotGen*100\n",
    "\n",
    "gasCap=gas.NAMEPCAP.sum()\n",
    "gasGen=gas.PLNGENAN.sum()\n",
    "gasCapPer=gasCap/ercotCap*100\n",
    "gasGenPer=gasGen/ercotGen*100\n",
    "\n",
    "geoCap=geothermal.NAMEPCAP.sum()\n",
    "geoGen=geothermal.PLNGENAN.sum()\n",
    "geoCapPer=geoCap/ercotCap*100\n",
    "geoGenPer=geoGen/ercotGen*100\n",
    "\n",
    "hydCap=hydro.NAMEPCAP.sum()\n",
    "hydGen=hydro.PLNGENAN.sum()\n",
    "hydCapPer=hydCap/ercotCap*100\n",
    "hydGenPer=hydGen/ercotGen*100\n",
    "\n",
    "nucCap=nuclear.NAMEPCAP.sum()\n",
    "nucGen=nuclear.PLNGENAN.sum()\n",
    "nucCapPer=nucCap/ercotCap*100\n",
    "nucGenPer=nucGen/ercotGen*100\n",
    "\n",
    "oilCap=oil.NAMEPCAP.sum()\n",
    "oilGen=oil.PLNGENAN.sum()\n",
    "oilCapPer=oilCap/ercotCap*100\n",
    "oilGenPer=oilGen/ercotGen*100\n",
    "\n",
    "ofsCap=otherff.NAMEPCAP.sum()\n",
    "ofsGen=otherff.PLNGENAN.sum()\n",
    "ofsCapPer=ofsCap/ercotCap*100\n",
    "ofsGenPer=ofsGen/ercotGen*100\n",
    "\n",
    "solCap=solar.NAMEPCAP.sum()\n",
    "solGen=solar.PLNGENAN.sum()\n",
    "solCapPer=solCap/ercotCap*100\n",
    "solGenPer=solGen/ercotGen*100\n",
    "\n",
    "winCap=wind.NAMEPCAP.sum()\n",
    "winGen=wind.PLNGENAN.sum()\n",
    "winCapPer=winCap/ercotCap*100\n",
    "winGenPer=winGen/ercotGen*100\n",
    "\n",
    "othCap=other.NAMEPCAP.sum()\n",
    "othGen=other.PLNGENAN.sum()\n",
    "othCapPer=othCap/ercotCap*100\n",
    "othGenPer=othGen/ercotGen*100\n",
    "\n",
    "print(\"FUEL                INSTALLED CAPACITY        GENERATION IN 2019\")\n",
    "print(\"Biomass          \",'%.2f' % bioCap,\"MW. \",'%.3f' % bioCapPer,\"%. \",'%.2f' % bioGen,\"MWh. \",'%.3f' % bioGenPer,\"%. \\r\\n\")\n",
    "print(\"Coal             \",'%.2f' % coalCap,\"MW. \",'%.3f' % coalCapPer,\"%. \",'%.2f' % coalGen,\"MWh. \",'%.3f' % coalGenPer,\"%. \\r\\n\")\n",
    "print(\"Gas              \",'%.2f' % gasCap,\"MW. \",'%.3f' % gasCapPer,\"%. \",'%.2f' % gasGen,\"MWh. \",'%.3f' % gasGenPer,\"%. \\r\\n\")\n",
    "print(\"Geothermal       \",'%.2f' % geoCap,\"MW. \",'%.3f' % geoCapPer,\"%. \",'%.2f' % geoGen,\"MWh. \",'%.3f' % geoGenPer,\"%. \\r\\n\")\n",
    "print(\"Hydro            \",'%.2f' % hydCap,\"MW. \",'%.3f' % hydCapPer,\"%. \",'%.2f' % hydGen,\"MWh. \",'%.3f' % hydGenPer,\"%. \\r\\n\")\n",
    "print(\"Nuclear          \",'%.2f' % nucCap,\"MW. \",'%.3f' % nucCapPer,\"%. \",'%.2f' % nucGen,\"MWh. \",'%.3f' % nucGenPer,\"%. \\r\\n\")\n",
    "print(\"Oil              \",'%.2f' % oilCap,\"MW. \",'%.3f' % oilCapPer,\"%. \",'%.2f' % oilGen,\"MWh. \",'%.3f' % oilGenPer,\"%. \\r\\n\")\n",
    "print(\"Other Fossil Fuel\",'%.2f' % ofsCap,\"MW. \",'%.3f' % ofsCapPer,\"%. \",'%.2f' % ofsGen,\"MWh. \",'%.3f' % ofsGenPer,\"%. \\r\\n\")\n",
    "print(\"Solar            \",'%.2f' % solCap,\"MW. \",'%.3f' % solCapPer,\"%. \",'%.2f' % solGen,\"MWh. \",'%.3f' % solGenPer,\"%. \\r\\n\")\n",
    "print(\"Wind             \",'%.2f' % winCap,\"MW. \",'%.3f' % winCapPer,\"%. \",'%.2f' % winGen,\"MWh. \",'%.3f' % winGenPer,\"%. \\r\\n\")\n",
    "print(\"Other Fuel       \",'%.2f' % othCap,\"MW. \",'%.3f' % othCapPer,\"%. \",'%.2f' % othGen,\"MWh. \",'%.3f' % othGenPer,\"%. \\r\\n\")"
   ]
  },
  {
   "cell_type": "code",
   "execution_count": 61,
   "metadata": {},
   "outputs": [
    {
     "data": {
      "text/plain": [
       "dtype('float64')"
      ]
     },
     "execution_count": 61,
     "metadata": {},
     "output_type": "execute_result"
    }
   ],
   "source": [
    "#7. Q2a. Find the total installed capacity of a subset of PJM plants that meet these requirements:\n",
    "# Fuel = Coal Gas Nuclear Hydro Oil\n",
    "# Plant Capacity Factor >= 0.1\n",
    "# Plant Nameplate capacity >= 10 MW\n",
    "# before filtering, need to make sure the type of CAPFAC is numeric\n",
    "ercot[\"CAPFAC\"].dtype"
   ]
  },
  {
   "cell_type": "code",
   "execution_count": 64,
   "metadata": {},
   "outputs": [],
   "source": [
    "# Change CAPFAC to numeric\n",
    "ercot.loc[:,\"CAPFAC\"]=pd.to_numeric(ercot.loc[:,\"CAPFAC\"])"
   ]
  },
  {
   "cell_type": "code",
   "execution_count": 65,
   "metadata": {},
   "outputs": [
    {
     "name": "stdout",
     "output_type": "stream",
     "text": [
      "The subset contains 207 plants\n"
     ]
    }
   ],
   "source": [
    "# I will filter by one criteria each time to see how many plants are excluded at each time\n",
    "# but you can combine the criteria using &\n",
    "ercotSub=ercot[(ercot.PLFUELCT==\"GAS\")|(ercot.PLFUELCT==\"COAL\")|(ercot.PLFUELCT==\"NUCLEAR\")|(ercot.PLFUELCT==\"OIL\")|(ercot.PLFUELCT==\"HYDRO\")]\n",
    "print(\"The subset contains\",len(ercotSub),\"plants\")"
   ]
  },
  {
   "cell_type": "code",
   "execution_count": 66,
   "metadata": {},
   "outputs": [
    {
     "name": "stdout",
     "output_type": "stream",
     "text": [
      "The subset contains 184 plants\n"
     ]
    }
   ],
   "source": [
    "ercotSub=ercotSub[ercotSub.NAMEPCAP>=10]\n",
    "print(\"The subset contains\",len(ercotSub),\"plants\")"
   ]
  },
  {
   "cell_type": "code",
   "execution_count": 67,
   "metadata": {},
   "outputs": [
    {
     "name": "stdout",
     "output_type": "stream",
     "text": [
      "The subset contains 102 plants\n"
     ]
    }
   ],
   "source": [
    "ercotSub=ercotSub[ercotSub.CAPFAC>=0.1]  # This excludes that plants that have blanks as CF (which is ok)\n",
    "print(\"The subset contains\",len(ercotSub),\"plants\")"
   ]
  },
  {
   "cell_type": "code",
   "execution_count": 68,
   "metadata": {},
   "outputs": [
    {
     "name": "stdout",
     "output_type": "stream",
     "text": [
      "The total installed capacity of ERCOT plants with more than 10% of CF and more than 10 MW of nameplate is 76855.30 MW\n"
     ]
    }
   ],
   "source": [
    "ercotSubCap=ercotSub.NAMEPCAP.sum()\n",
    "print(\"The total installed capacity of ERCOT plants with more than 10% of CF and more than 10 MW of nameplate is\",'%.2f' %ercotSubCap,\"MW\")"
   ]
  },
  {
   "cell_type": "code",
   "execution_count": 69,
   "metadata": {},
   "outputs": [
    {
     "data": {
      "text/html": [
       "<div>\n",
       "<style scoped>\n",
       "    .dataframe tbody tr th:only-of-type {\n",
       "        vertical-align: middle;\n",
       "    }\n",
       "\n",
       "    .dataframe tbody tr th {\n",
       "        vertical-align: top;\n",
       "    }\n",
       "\n",
       "    .dataframe thead th {\n",
       "        text-align: right;\n",
       "    }\n",
       "</style>\n",
       "<table border=\"1\" class=\"dataframe\">\n",
       "  <thead>\n",
       "    <tr style=\"text-align: right;\">\n",
       "      <th></th>\n",
       "      <th>PNAME</th>\n",
       "      <th>NAMEPCAP</th>\n",
       "      <th>PLFUELCT</th>\n",
       "      <th>PLHTIAN</th>\n",
       "      <th>PLNGENAN</th>\n",
       "      <th>PLCO2EQA</th>\n",
       "    </tr>\n",
       "  </thead>\n",
       "  <tbody>\n",
       "    <tr>\n",
       "      <th>9222</th>\n",
       "      <td>Tenaska Kiamichi Generating Station</td>\n",
       "      <td>1370</td>\n",
       "      <td>GAS</td>\n",
       "      <td>40797705</td>\n",
       "      <td>5500881.0</td>\n",
       "      <td>2427069.204</td>\n",
       "    </tr>\n",
       "    <tr>\n",
       "      <th>10282</th>\n",
       "      <td>Air Liquide Bayport Complex</td>\n",
       "      <td>623</td>\n",
       "      <td>GAS</td>\n",
       "      <td>31085006.5</td>\n",
       "      <td>2288739.0</td>\n",
       "      <td>1810848.663</td>\n",
       "    </tr>\n",
       "    <tr>\n",
       "      <th>10289</th>\n",
       "      <td>Amistad Dam &amp; Power</td>\n",
       "      <td>66</td>\n",
       "      <td>HYDRO</td>\n",
       "      <td></td>\n",
       "      <td>96244.0</td>\n",
       "      <td></td>\n",
       "    </tr>\n",
       "    <tr>\n",
       "      <th>10295</th>\n",
       "      <td>Ascend Performance Materials Texas Inc.</td>\n",
       "      <td>55.3</td>\n",
       "      <td>GAS</td>\n",
       "      <td>1371351.382</td>\n",
       "      <td>264139.0</td>\n",
       "      <td>80230.825</td>\n",
       "    </tr>\n",
       "    <tr>\n",
       "      <th>10298</th>\n",
       "      <td>Austin</td>\n",
       "      <td>18</td>\n",
       "      <td>HYDRO</td>\n",
       "      <td></td>\n",
       "      <td>37665.0</td>\n",
       "      <td></td>\n",
       "    </tr>\n",
       "  </tbody>\n",
       "</table>\n",
       "</div>"
      ],
      "text/plain": [
       "                                         PNAME NAMEPCAP PLFUELCT      PLHTIAN  \\\n",
       "9222       Tenaska Kiamichi Generating Station     1370      GAS     40797705   \n",
       "10282              Air Liquide Bayport Complex      623      GAS   31085006.5   \n",
       "10289                      Amistad Dam & Power       66    HYDRO                \n",
       "10295  Ascend Performance Materials Texas Inc.     55.3      GAS  1371351.382   \n",
       "10298                                   Austin       18    HYDRO                \n",
       "\n",
       "        PLNGENAN     PLCO2EQA  \n",
       "9222   5500881.0  2427069.204  \n",
       "10282  2288739.0  1810848.663  \n",
       "10289    96244.0               \n",
       "10295   264139.0    80230.825  \n",
       "10298    37665.0               "
      ]
     },
     "execution_count": 69,
     "metadata": {},
     "output_type": "execute_result"
    }
   ],
   "source": [
    "#8. Q2b. Plot the supply curve assuming all plants are those in the subset\n",
    "# Before proceeding let's take just the columns that will be used\n",
    "ercotSub=ercotSub.loc[:,[\"PNAME\",\"NAMEPCAP\",\"PLFUELCT\",\"PLHTIAN\",\"PLNGENAN\",\"PLCO2EQA\"]]\n",
    "ercotSub.head(5)"
   ]
  },
  {
   "cell_type": "code",
   "execution_count": 70,
   "metadata": {},
   "outputs": [
    {
     "data": {
      "text/plain": [
       "dtype('O')"
      ]
     },
     "execution_count": 70,
     "metadata": {},
     "output_type": "execute_result"
    }
   ],
   "source": [
    "# check the type of PLHTIAN\n",
    "ercotSub[\"PLHTIAN\"].dtype"
   ]
  },
  {
   "cell_type": "code",
   "execution_count": 71,
   "metadata": {},
   "outputs": [
    {
     "data": {
      "text/plain": [
       "dtype('float64')"
      ]
     },
     "execution_count": 71,
     "metadata": {},
     "output_type": "execute_result"
    }
   ],
   "source": [
    "# convert PLHTIAN to numeric\n",
    "ercotSub[\"PLHTIAN\"]=pd.to_numeric(ercotSub.loc[:,\"PLHTIAN\"])\n",
    "ercotSub[\"PLHTIAN\"].dtype"
   ]
  },
  {
   "cell_type": "code",
   "execution_count": 72,
   "metadata": {},
   "outputs": [],
   "source": [
    "# To build the supply curve we need to find the marginal cost of each plant first\n",
    "# will assume marginal cost for coal/gas plants is fuel cost only\n",
    "# Need to calculate fuel cost by multiplying heat-rate and fuel price\n",
    "# First calculate HEAT RATE -->HEAT RATE (MMBTU/MWH) = ANNUAL HEAT INPUT (MMBTU)/ANNUAL GENERATION (MWH)\n",
    "# Add heat-rate as a new column to pjmSub\n",
    "ercotSub[\"HEATRATE\"]=ercotSub[\"PLHTIAN\"] / ercotSub[\"PLNGENAN\"]"
   ]
  },
  {
   "cell_type": "code",
   "execution_count": 73,
   "metadata": {},
   "outputs": [
    {
     "data": {
      "text/html": [
       "<div>\n",
       "<style scoped>\n",
       "    .dataframe tbody tr th:only-of-type {\n",
       "        vertical-align: middle;\n",
       "    }\n",
       "\n",
       "    .dataframe tbody tr th {\n",
       "        vertical-align: top;\n",
       "    }\n",
       "\n",
       "    .dataframe thead th {\n",
       "        text-align: right;\n",
       "    }\n",
       "</style>\n",
       "<table border=\"1\" class=\"dataframe\">\n",
       "  <thead>\n",
       "    <tr style=\"text-align: right;\">\n",
       "      <th></th>\n",
       "      <th>PNAME</th>\n",
       "      <th>NAMEPCAP</th>\n",
       "      <th>PLFUELCT</th>\n",
       "      <th>PLHTIAN</th>\n",
       "      <th>PLNGENAN</th>\n",
       "      <th>PLCO2EQA</th>\n",
       "      <th>HEATRATE</th>\n",
       "    </tr>\n",
       "  </thead>\n",
       "  <tbody>\n",
       "    <tr>\n",
       "      <th>9222</th>\n",
       "      <td>Tenaska Kiamichi Generating Station</td>\n",
       "      <td>1370</td>\n",
       "      <td>GAS</td>\n",
       "      <td>4.079770e+07</td>\n",
       "      <td>5500881.0</td>\n",
       "      <td>2427069.204</td>\n",
       "      <td>7.416577</td>\n",
       "    </tr>\n",
       "    <tr>\n",
       "      <th>10282</th>\n",
       "      <td>Air Liquide Bayport Complex</td>\n",
       "      <td>623</td>\n",
       "      <td>GAS</td>\n",
       "      <td>3.108501e+07</td>\n",
       "      <td>2288739.0</td>\n",
       "      <td>1810848.663</td>\n",
       "      <td>13.581717</td>\n",
       "    </tr>\n",
       "    <tr>\n",
       "      <th>10289</th>\n",
       "      <td>Amistad Dam &amp; Power</td>\n",
       "      <td>66</td>\n",
       "      <td>HYDRO</td>\n",
       "      <td>NaN</td>\n",
       "      <td>96244.0</td>\n",
       "      <td></td>\n",
       "      <td>NaN</td>\n",
       "    </tr>\n",
       "    <tr>\n",
       "      <th>10295</th>\n",
       "      <td>Ascend Performance Materials Texas Inc.</td>\n",
       "      <td>55.3</td>\n",
       "      <td>GAS</td>\n",
       "      <td>1.371351e+06</td>\n",
       "      <td>264139.0</td>\n",
       "      <td>80230.825</td>\n",
       "      <td>5.191779</td>\n",
       "    </tr>\n",
       "    <tr>\n",
       "      <th>10298</th>\n",
       "      <td>Austin</td>\n",
       "      <td>18</td>\n",
       "      <td>HYDRO</td>\n",
       "      <td>NaN</td>\n",
       "      <td>37665.0</td>\n",
       "      <td></td>\n",
       "      <td>NaN</td>\n",
       "    </tr>\n",
       "  </tbody>\n",
       "</table>\n",
       "</div>"
      ],
      "text/plain": [
       "                                         PNAME NAMEPCAP PLFUELCT  \\\n",
       "9222       Tenaska Kiamichi Generating Station     1370      GAS   \n",
       "10282              Air Liquide Bayport Complex      623      GAS   \n",
       "10289                      Amistad Dam & Power       66    HYDRO   \n",
       "10295  Ascend Performance Materials Texas Inc.     55.3      GAS   \n",
       "10298                                   Austin       18    HYDRO   \n",
       "\n",
       "            PLHTIAN   PLNGENAN     PLCO2EQA   HEATRATE  \n",
       "9222   4.079770e+07  5500881.0  2427069.204   7.416577  \n",
       "10282  3.108501e+07  2288739.0  1810848.663  13.581717  \n",
       "10289           NaN    96244.0                     NaN  \n",
       "10295  1.371351e+06   264139.0    80230.825   5.191779  \n",
       "10298           NaN    37665.0                     NaN  "
      ]
     },
     "execution_count": 73,
     "metadata": {},
     "output_type": "execute_result"
    }
   ],
   "source": [
    "# let's check that we added the new column heat rate by looking at the first 5 rows\n",
    "#The non-thermal plants (e.g., nucclear did not consume BTUs as fuel so the heatrate will be meaningless but that is ok)\n",
    "ercotSub.head(5)"
   ]
  },
  {
   "cell_type": "code",
   "execution_count": 74,
   "metadata": {},
   "outputs": [
    {
     "data": {
      "text/html": [
       "<div>\n",
       "<style scoped>\n",
       "    .dataframe tbody tr th:only-of-type {\n",
       "        vertical-align: middle;\n",
       "    }\n",
       "\n",
       "    .dataframe tbody tr th {\n",
       "        vertical-align: top;\n",
       "    }\n",
       "\n",
       "    .dataframe thead th {\n",
       "        text-align: right;\n",
       "    }\n",
       "</style>\n",
       "<table border=\"1\" class=\"dataframe\">\n",
       "  <thead>\n",
       "    <tr style=\"text-align: right;\">\n",
       "      <th></th>\n",
       "      <th>PNAME</th>\n",
       "      <th>NAMEPCAP</th>\n",
       "      <th>PLFUELCT</th>\n",
       "      <th>PLHTIAN</th>\n",
       "      <th>PLNGENAN</th>\n",
       "      <th>PLCO2EQA</th>\n",
       "      <th>HEATRATE</th>\n",
       "      <th>MARGCOST</th>\n",
       "    </tr>\n",
       "  </thead>\n",
       "  <tbody>\n",
       "    <tr>\n",
       "      <th>9222</th>\n",
       "      <td>Tenaska Kiamichi Generating Station</td>\n",
       "      <td>1370</td>\n",
       "      <td>GAS</td>\n",
       "      <td>4.079770e+07</td>\n",
       "      <td>5500881.0</td>\n",
       "      <td>2427069.204</td>\n",
       "      <td>7.416577</td>\n",
       "      <td>0</td>\n",
       "    </tr>\n",
       "    <tr>\n",
       "      <th>10282</th>\n",
       "      <td>Air Liquide Bayport Complex</td>\n",
       "      <td>623</td>\n",
       "      <td>GAS</td>\n",
       "      <td>3.108501e+07</td>\n",
       "      <td>2288739.0</td>\n",
       "      <td>1810848.663</td>\n",
       "      <td>13.581717</td>\n",
       "      <td>0</td>\n",
       "    </tr>\n",
       "    <tr>\n",
       "      <th>10289</th>\n",
       "      <td>Amistad Dam &amp; Power</td>\n",
       "      <td>66</td>\n",
       "      <td>HYDRO</td>\n",
       "      <td>NaN</td>\n",
       "      <td>96244.0</td>\n",
       "      <td></td>\n",
       "      <td>NaN</td>\n",
       "      <td>0</td>\n",
       "    </tr>\n",
       "    <tr>\n",
       "      <th>10295</th>\n",
       "      <td>Ascend Performance Materials Texas Inc.</td>\n",
       "      <td>55.3</td>\n",
       "      <td>GAS</td>\n",
       "      <td>1.371351e+06</td>\n",
       "      <td>264139.0</td>\n",
       "      <td>80230.825</td>\n",
       "      <td>5.191779</td>\n",
       "      <td>0</td>\n",
       "    </tr>\n",
       "    <tr>\n",
       "      <th>10298</th>\n",
       "      <td>Austin</td>\n",
       "      <td>18</td>\n",
       "      <td>HYDRO</td>\n",
       "      <td>NaN</td>\n",
       "      <td>37665.0</td>\n",
       "      <td></td>\n",
       "      <td>NaN</td>\n",
       "      <td>0</td>\n",
       "    </tr>\n",
       "  </tbody>\n",
       "</table>\n",
       "</div>"
      ],
      "text/plain": [
       "                                         PNAME NAMEPCAP PLFUELCT  \\\n",
       "9222       Tenaska Kiamichi Generating Station     1370      GAS   \n",
       "10282              Air Liquide Bayport Complex      623      GAS   \n",
       "10289                      Amistad Dam & Power       66    HYDRO   \n",
       "10295  Ascend Performance Materials Texas Inc.     55.3      GAS   \n",
       "10298                                   Austin       18    HYDRO   \n",
       "\n",
       "            PLHTIAN   PLNGENAN     PLCO2EQA   HEATRATE  MARGCOST  \n",
       "9222   4.079770e+07  5500881.0  2427069.204   7.416577         0  \n",
       "10282  3.108501e+07  2288739.0  1810848.663  13.581717         0  \n",
       "10289           NaN    96244.0                     NaN         0  \n",
       "10295  1.371351e+06   264139.0    80230.825   5.191779         0  \n",
       "10298           NaN    37665.0                     NaN         0  "
      ]
     },
     "execution_count": 74,
     "metadata": {},
     "output_type": "execute_result"
    }
   ],
   "source": [
    "# Now lets create a column of marginal cost in $MWh\n",
    "# Initialize the new column in zeros\n",
    "ercotSub[\"MARGCOST\"]=0      \n",
    "ercotSub.head(5)"
   ]
  },
  {
   "cell_type": "code",
   "execution_count": 75,
   "metadata": {},
   "outputs": [
    {
     "data": {
      "text/html": [
       "<div>\n",
       "<style scoped>\n",
       "    .dataframe tbody tr th:only-of-type {\n",
       "        vertical-align: middle;\n",
       "    }\n",
       "\n",
       "    .dataframe tbody tr th {\n",
       "        vertical-align: top;\n",
       "    }\n",
       "\n",
       "    .dataframe thead th {\n",
       "        text-align: right;\n",
       "    }\n",
       "</style>\n",
       "<table border=\"1\" class=\"dataframe\">\n",
       "  <thead>\n",
       "    <tr style=\"text-align: right;\">\n",
       "      <th></th>\n",
       "      <th>PNAME</th>\n",
       "      <th>NAMEPCAP</th>\n",
       "      <th>PLFUELCT</th>\n",
       "      <th>PLHTIAN</th>\n",
       "      <th>PLNGENAN</th>\n",
       "      <th>PLCO2EQA</th>\n",
       "      <th>HEATRATE</th>\n",
       "      <th>MARGCOST</th>\n",
       "    </tr>\n",
       "  </thead>\n",
       "  <tbody>\n",
       "    <tr>\n",
       "      <th>9222</th>\n",
       "      <td>Tenaska Kiamichi Generating Station</td>\n",
       "      <td>1370</td>\n",
       "      <td>GAS</td>\n",
       "      <td>4.079770e+07</td>\n",
       "      <td>5500881.0</td>\n",
       "      <td>2427069.204</td>\n",
       "      <td>7.416577</td>\n",
       "      <td>21.433906</td>\n",
       "    </tr>\n",
       "    <tr>\n",
       "      <th>10282</th>\n",
       "      <td>Air Liquide Bayport Complex</td>\n",
       "      <td>623</td>\n",
       "      <td>GAS</td>\n",
       "      <td>3.108501e+07</td>\n",
       "      <td>2288739.0</td>\n",
       "      <td>1810848.663</td>\n",
       "      <td>13.581717</td>\n",
       "      <td>39.251164</td>\n",
       "    </tr>\n",
       "    <tr>\n",
       "      <th>10289</th>\n",
       "      <td>Amistad Dam &amp; Power</td>\n",
       "      <td>66</td>\n",
       "      <td>HYDRO</td>\n",
       "      <td>NaN</td>\n",
       "      <td>96244.0</td>\n",
       "      <td></td>\n",
       "      <td>NaN</td>\n",
       "      <td>6.000000</td>\n",
       "    </tr>\n",
       "    <tr>\n",
       "      <th>10295</th>\n",
       "      <td>Ascend Performance Materials Texas Inc.</td>\n",
       "      <td>55.3</td>\n",
       "      <td>GAS</td>\n",
       "      <td>1.371351e+06</td>\n",
       "      <td>264139.0</td>\n",
       "      <td>80230.825</td>\n",
       "      <td>5.191779</td>\n",
       "      <td>15.004242</td>\n",
       "    </tr>\n",
       "    <tr>\n",
       "      <th>10298</th>\n",
       "      <td>Austin</td>\n",
       "      <td>18</td>\n",
       "      <td>HYDRO</td>\n",
       "      <td>NaN</td>\n",
       "      <td>37665.0</td>\n",
       "      <td></td>\n",
       "      <td>NaN</td>\n",
       "      <td>6.000000</td>\n",
       "    </tr>\n",
       "  </tbody>\n",
       "</table>\n",
       "</div>"
      ],
      "text/plain": [
       "                                         PNAME NAMEPCAP PLFUELCT  \\\n",
       "9222       Tenaska Kiamichi Generating Station     1370      GAS   \n",
       "10282              Air Liquide Bayport Complex      623      GAS   \n",
       "10289                      Amistad Dam & Power       66    HYDRO   \n",
       "10295  Ascend Performance Materials Texas Inc.     55.3      GAS   \n",
       "10298                                   Austin       18    HYDRO   \n",
       "\n",
       "            PLHTIAN   PLNGENAN     PLCO2EQA   HEATRATE   MARGCOST  \n",
       "9222   4.079770e+07  5500881.0  2427069.204   7.416577  21.433906  \n",
       "10282  3.108501e+07  2288739.0  1810848.663  13.581717  39.251164  \n",
       "10289           NaN    96244.0                     NaN   6.000000  \n",
       "10295  1.371351e+06   264139.0    80230.825   5.191779  15.004242  \n",
       "10298           NaN    37665.0                     NaN   6.000000  "
      ]
     },
     "execution_count": 75,
     "metadata": {},
     "output_type": "execute_result"
    }
   ],
   "source": [
    "coal_price=2.02 # $/MMBTU\n",
    "gas_price=2.89 # $/MMBTU\n",
    "nuclear_mc=9 # $/MWh\n",
    "hydro_mc=6 # $/MWh\n",
    "oil_price=15 #$MMBTU\n",
    "# walk through all the rows of plants and change the MARGCOST depending on fuel\n",
    "\n",
    "for i in range(0,len(ercotSub)):\n",
    "    if ercotSub.iloc[i,2]==\"COAL\":                     # Remember to use == to compare and = to assign\n",
    "        ercotSub.iloc[i,7]=coal_price*ercotSub.iloc[i,6] # MARGCOST is column 7 because python starts counting from 0\n",
    "    elif ercotSub.iloc[i,2]==\"GAS\":                     \n",
    "         ercotSub.iloc[i,7]=gas_price*ercotSub.iloc[i,6]\n",
    "    elif ercotSub.iloc[i,2]==\"NUCLEAR\":                     \n",
    "         ercotSub.iloc[i,7]=nuclear_mc \n",
    "    elif ercotSub.iloc[i,2]==\"HYDRO\":                     \n",
    "         ercotSub.iloc[i,7]=hydro_mc \n",
    "    else:                   \n",
    "         ercotSub.iloc[i,7]=oil_price*ercotSub.iloc[i,6] \n",
    "ercotSub.head(5)"
   ]
  },
  {
   "cell_type": "code",
   "execution_count": 76,
   "metadata": {},
   "outputs": [
    {
     "data": {
      "text/html": [
       "<div>\n",
       "<style scoped>\n",
       "    .dataframe tbody tr th:only-of-type {\n",
       "        vertical-align: middle;\n",
       "    }\n",
       "\n",
       "    .dataframe tbody tr th {\n",
       "        vertical-align: top;\n",
       "    }\n",
       "\n",
       "    .dataframe thead th {\n",
       "        text-align: right;\n",
       "    }\n",
       "</style>\n",
       "<table border=\"1\" class=\"dataframe\">\n",
       "  <thead>\n",
       "    <tr style=\"text-align: right;\">\n",
       "      <th></th>\n",
       "      <th>PNAME</th>\n",
       "      <th>NAMEPCAP</th>\n",
       "      <th>PLFUELCT</th>\n",
       "      <th>PLHTIAN</th>\n",
       "      <th>PLNGENAN</th>\n",
       "      <th>PLCO2EQA</th>\n",
       "      <th>HEATRATE</th>\n",
       "      <th>MARGCOST</th>\n",
       "      <th>CUMCAP</th>\n",
       "    </tr>\n",
       "  </thead>\n",
       "  <tbody>\n",
       "    <tr>\n",
       "      <th>10609</th>\n",
       "      <td>Marshall Ford</td>\n",
       "      <td>108</td>\n",
       "      <td>HYDRO</td>\n",
       "      <td>NaN</td>\n",
       "      <td>157452.000</td>\n",
       "      <td></td>\n",
       "      <td>NaN</td>\n",
       "      <td>6.0</td>\n",
       "      <td>0</td>\n",
       "    </tr>\n",
       "    <tr>\n",
       "      <th>10289</th>\n",
       "      <td>Amistad Dam &amp; Power</td>\n",
       "      <td>66</td>\n",
       "      <td>HYDRO</td>\n",
       "      <td>NaN</td>\n",
       "      <td>96244.000</td>\n",
       "      <td></td>\n",
       "      <td>NaN</td>\n",
       "      <td>6.0</td>\n",
       "      <td>0</td>\n",
       "    </tr>\n",
       "    <tr>\n",
       "      <th>10298</th>\n",
       "      <td>Austin</td>\n",
       "      <td>18</td>\n",
       "      <td>HYDRO</td>\n",
       "      <td>NaN</td>\n",
       "      <td>37665.000</td>\n",
       "      <td></td>\n",
       "      <td>NaN</td>\n",
       "      <td>6.0</td>\n",
       "      <td>0</td>\n",
       "    </tr>\n",
       "    <tr>\n",
       "      <th>10537</th>\n",
       "      <td>Inks</td>\n",
       "      <td>15</td>\n",
       "      <td>HYDRO</td>\n",
       "      <td>NaN</td>\n",
       "      <td>21846.000</td>\n",
       "      <td></td>\n",
       "      <td>NaN</td>\n",
       "      <td>6.0</td>\n",
       "      <td>0</td>\n",
       "    </tr>\n",
       "    <tr>\n",
       "      <th>10453</th>\n",
       "      <td>Falcon Dam &amp; Power</td>\n",
       "      <td>31.5</td>\n",
       "      <td>HYDRO</td>\n",
       "      <td>NaN</td>\n",
       "      <td>62510.001</td>\n",
       "      <td></td>\n",
       "      <td>NaN</td>\n",
       "      <td>6.0</td>\n",
       "      <td>0</td>\n",
       "    </tr>\n",
       "  </tbody>\n",
       "</table>\n",
       "</div>"
      ],
      "text/plain": [
       "                     PNAME NAMEPCAP PLFUELCT  PLHTIAN    PLNGENAN PLCO2EQA  \\\n",
       "10609        Marshall Ford      108    HYDRO      NaN  157452.000            \n",
       "10289  Amistad Dam & Power       66    HYDRO      NaN   96244.000            \n",
       "10298               Austin       18    HYDRO      NaN   37665.000            \n",
       "10537                 Inks       15    HYDRO      NaN   21846.000            \n",
       "10453   Falcon Dam & Power     31.5    HYDRO      NaN   62510.001            \n",
       "\n",
       "       HEATRATE  MARGCOST  CUMCAP  \n",
       "10609       NaN       6.0       0  \n",
       "10289       NaN       6.0       0  \n",
       "10298       NaN       6.0       0  \n",
       "10537       NaN       6.0       0  \n",
       "10453       NaN       6.0       0  "
      ]
     },
     "execution_count": 76,
     "metadata": {},
     "output_type": "execute_result"
    }
   ],
   "source": [
    "# Now create three new datasets of coal and gas with the new columns\n",
    "coal2=ercotSub[ercotSub[\"PLFUELCT\"]==\"COAL\"]\n",
    "gas2=ercotSub[ercotSub[\"PLFUELCT\"]==\"GAS\"]\n",
    "nuclear2=ercotSub[ercotSub[\"PLFUELCT\"]==\"NUCLEAR\"]\n",
    "oil2=ercotSub[ercotSub[\"PLFUELCT\"]==\"OIL\"]\n",
    "hydro2=ercotSub[ercotSub[\"PLFUELCT\"]==\"HYDRO\"]\n",
    "# now sort all the plants in ASCENDING order by MARGCOST using sort_values\n",
    "ercotSubSorted=ercotSub.sort_values(\"MARGCOST\")\n",
    "# now create a column with the cummulative capacity [MW] offered at that MARGCOST or less and initialize in zero\n",
    "ercotSubSorted[\"CUMCAP\"]=0\n",
    "ercotSubSorted.head(5)"
   ]
  },
  {
   "cell_type": "code",
   "execution_count": 77,
   "metadata": {},
   "outputs": [
    {
     "data": {
      "text/html": [
       "<div>\n",
       "<style scoped>\n",
       "    .dataframe tbody tr th:only-of-type {\n",
       "        vertical-align: middle;\n",
       "    }\n",
       "\n",
       "    .dataframe tbody tr th {\n",
       "        vertical-align: top;\n",
       "    }\n",
       "\n",
       "    .dataframe thead th {\n",
       "        text-align: right;\n",
       "    }\n",
       "</style>\n",
       "<table border=\"1\" class=\"dataframe\">\n",
       "  <thead>\n",
       "    <tr style=\"text-align: right;\">\n",
       "      <th></th>\n",
       "      <th>PNAME</th>\n",
       "      <th>NAMEPCAP</th>\n",
       "      <th>PLFUELCT</th>\n",
       "      <th>PLHTIAN</th>\n",
       "      <th>PLNGENAN</th>\n",
       "      <th>PLCO2EQA</th>\n",
       "      <th>HEATRATE</th>\n",
       "      <th>MARGCOST</th>\n",
       "      <th>CUMCAP</th>\n",
       "    </tr>\n",
       "  </thead>\n",
       "  <tbody>\n",
       "    <tr>\n",
       "      <th>10609</th>\n",
       "      <td>Marshall Ford</td>\n",
       "      <td>108</td>\n",
       "      <td>HYDRO</td>\n",
       "      <td>NaN</td>\n",
       "      <td>157452.000</td>\n",
       "      <td></td>\n",
       "      <td>NaN</td>\n",
       "      <td>6.0</td>\n",
       "      <td>108.0</td>\n",
       "    </tr>\n",
       "    <tr>\n",
       "      <th>10289</th>\n",
       "      <td>Amistad Dam &amp; Power</td>\n",
       "      <td>66</td>\n",
       "      <td>HYDRO</td>\n",
       "      <td>NaN</td>\n",
       "      <td>96244.000</td>\n",
       "      <td></td>\n",
       "      <td>NaN</td>\n",
       "      <td>6.0</td>\n",
       "      <td>174.0</td>\n",
       "    </tr>\n",
       "    <tr>\n",
       "      <th>10298</th>\n",
       "      <td>Austin</td>\n",
       "      <td>18</td>\n",
       "      <td>HYDRO</td>\n",
       "      <td>NaN</td>\n",
       "      <td>37665.000</td>\n",
       "      <td></td>\n",
       "      <td>NaN</td>\n",
       "      <td>6.0</td>\n",
       "      <td>192.0</td>\n",
       "    </tr>\n",
       "    <tr>\n",
       "      <th>10537</th>\n",
       "      <td>Inks</td>\n",
       "      <td>15</td>\n",
       "      <td>HYDRO</td>\n",
       "      <td>NaN</td>\n",
       "      <td>21846.000</td>\n",
       "      <td></td>\n",
       "      <td>NaN</td>\n",
       "      <td>6.0</td>\n",
       "      <td>207.0</td>\n",
       "    </tr>\n",
       "    <tr>\n",
       "      <th>10453</th>\n",
       "      <td>Falcon Dam &amp; Power</td>\n",
       "      <td>31.5</td>\n",
       "      <td>HYDRO</td>\n",
       "      <td>NaN</td>\n",
       "      <td>62510.001</td>\n",
       "      <td></td>\n",
       "      <td>NaN</td>\n",
       "      <td>6.0</td>\n",
       "      <td>238.5</td>\n",
       "    </tr>\n",
       "  </tbody>\n",
       "</table>\n",
       "</div>"
      ],
      "text/plain": [
       "                     PNAME NAMEPCAP PLFUELCT  PLHTIAN    PLNGENAN PLCO2EQA  \\\n",
       "10609        Marshall Ford      108    HYDRO      NaN  157452.000            \n",
       "10289  Amistad Dam & Power       66    HYDRO      NaN   96244.000            \n",
       "10298               Austin       18    HYDRO      NaN   37665.000            \n",
       "10537                 Inks       15    HYDRO      NaN   21846.000            \n",
       "10453   Falcon Dam & Power     31.5    HYDRO      NaN   62510.001            \n",
       "\n",
       "       HEATRATE  MARGCOST  CUMCAP  \n",
       "10609       NaN       6.0   108.0  \n",
       "10289       NaN       6.0   174.0  \n",
       "10298       NaN       6.0   192.0  \n",
       "10537       NaN       6.0   207.0  \n",
       "10453       NaN       6.0   238.5  "
      ]
     },
     "execution_count": 77,
     "metadata": {},
     "output_type": "execute_result"
    }
   ],
   "source": [
    "# The first row of the CUMCAP column is just the NAMECAP of that plant (in that row)\n",
    "ercotSubSorted.iloc[0,8]=ercotSubSorted.iloc[0,1]\n",
    "# Now walk through all the rows adding the cumulative capacity. Start at row 1 since row 0 has already the right CUMCAP\n",
    "for i in range (1,len(ercotSubSorted)):  \n",
    "               ercotSubSorted.iloc[i,8]=ercotSubSorted.iloc[i-1,8]+ercotSubSorted.iloc[i,1]\n",
    "ercotSubSorted.head(5)"
   ]
  },
  {
   "cell_type": "code",
   "execution_count": 78,
   "metadata": {},
   "outputs": [],
   "source": [
    "# Now create three new datasets of coal and gas with the new columns MARGCOST and CUMCAP sorted so we can differentiate them\n",
    "# in the plot\n",
    "coalSorted=ercotSubSorted[ercotSubSorted[\"PLFUELCT\"]==\"COAL\"]\n",
    "gasSorted=ercotSubSorted[ercotSubSorted[\"PLFUELCT\"]==\"GAS\"]\n",
    "nuclearSorted=ercotSubSorted[ercotSubSorted[\"PLFUELCT\"]==\"NUCLEAR\"]\n",
    "oilSorted=ercotSubSorted[ercotSubSorted[\"PLFUELCT\"]==\"OIL\"]\n",
    "hydroSorted=ercotSubSorted[ercotSubSorted[\"PLFUELCT\"]==\"HYDRO\"]"
   ]
  },
  {
   "cell_type": "code",
   "execution_count": 79,
   "metadata": {},
   "outputs": [
    {
     "data": {
      "text/html": [
       "<div>\n",
       "<style scoped>\n",
       "    .dataframe tbody tr th:only-of-type {\n",
       "        vertical-align: middle;\n",
       "    }\n",
       "\n",
       "    .dataframe tbody tr th {\n",
       "        vertical-align: top;\n",
       "    }\n",
       "\n",
       "    .dataframe thead th {\n",
       "        text-align: right;\n",
       "    }\n",
       "</style>\n",
       "<table border=\"1\" class=\"dataframe\">\n",
       "  <thead>\n",
       "    <tr style=\"text-align: right;\">\n",
       "      <th></th>\n",
       "      <th>PNAME</th>\n",
       "      <th>NAMEPCAP</th>\n",
       "      <th>PLFUELCT</th>\n",
       "      <th>PLHTIAN</th>\n",
       "      <th>PLNGENAN</th>\n",
       "      <th>PLCO2EQA</th>\n",
       "      <th>HEATRATE</th>\n",
       "      <th>MARGCOST</th>\n",
       "      <th>CUMCAP</th>\n",
       "    </tr>\n",
       "  </thead>\n",
       "  <tbody>\n",
       "    <tr>\n",
       "      <th>10609</th>\n",
       "      <td>Marshall Ford</td>\n",
       "      <td>108</td>\n",
       "      <td>HYDRO</td>\n",
       "      <td>NaN</td>\n",
       "      <td>157452.000</td>\n",
       "      <td></td>\n",
       "      <td>NaN</td>\n",
       "      <td>6.0</td>\n",
       "      <td>108.0</td>\n",
       "    </tr>\n",
       "    <tr>\n",
       "      <th>10289</th>\n",
       "      <td>Amistad Dam &amp; Power</td>\n",
       "      <td>66</td>\n",
       "      <td>HYDRO</td>\n",
       "      <td>NaN</td>\n",
       "      <td>96244.000</td>\n",
       "      <td></td>\n",
       "      <td>NaN</td>\n",
       "      <td>6.0</td>\n",
       "      <td>174.0</td>\n",
       "    </tr>\n",
       "    <tr>\n",
       "      <th>10298</th>\n",
       "      <td>Austin</td>\n",
       "      <td>18</td>\n",
       "      <td>HYDRO</td>\n",
       "      <td>NaN</td>\n",
       "      <td>37665.000</td>\n",
       "      <td></td>\n",
       "      <td>NaN</td>\n",
       "      <td>6.0</td>\n",
       "      <td>192.0</td>\n",
       "    </tr>\n",
       "    <tr>\n",
       "      <th>10537</th>\n",
       "      <td>Inks</td>\n",
       "      <td>15</td>\n",
       "      <td>HYDRO</td>\n",
       "      <td>NaN</td>\n",
       "      <td>21846.000</td>\n",
       "      <td></td>\n",
       "      <td>NaN</td>\n",
       "      <td>6.0</td>\n",
       "      <td>207.0</td>\n",
       "    </tr>\n",
       "    <tr>\n",
       "      <th>10453</th>\n",
       "      <td>Falcon Dam &amp; Power</td>\n",
       "      <td>31.5</td>\n",
       "      <td>HYDRO</td>\n",
       "      <td>NaN</td>\n",
       "      <td>62510.001</td>\n",
       "      <td></td>\n",
       "      <td>NaN</td>\n",
       "      <td>6.0</td>\n",
       "      <td>238.5</td>\n",
       "    </tr>\n",
       "  </tbody>\n",
       "</table>\n",
       "</div>"
      ],
      "text/plain": [
       "                     PNAME NAMEPCAP PLFUELCT  PLHTIAN    PLNGENAN PLCO2EQA  \\\n",
       "10609        Marshall Ford      108    HYDRO      NaN  157452.000            \n",
       "10289  Amistad Dam & Power       66    HYDRO      NaN   96244.000            \n",
       "10298               Austin       18    HYDRO      NaN   37665.000            \n",
       "10537                 Inks       15    HYDRO      NaN   21846.000            \n",
       "10453   Falcon Dam & Power     31.5    HYDRO      NaN   62510.001            \n",
       "\n",
       "       HEATRATE  MARGCOST  CUMCAP  \n",
       "10609       NaN       6.0   108.0  \n",
       "10289       NaN       6.0   174.0  \n",
       "10298       NaN       6.0   192.0  \n",
       "10537       NaN       6.0   207.0  \n",
       "10453       NaN       6.0   238.5  "
      ]
     },
     "execution_count": 79,
     "metadata": {},
     "output_type": "execute_result"
    }
   ],
   "source": [
    "hydroSorted.head(5)"
   ]
  },
  {
   "cell_type": "code",
   "execution_count": 80,
   "metadata": {},
   "outputs": [
    {
     "data": {
      "image/png": "[encoded data removed]",
      "text/plain": [
       "<Figure size 432x288 with 1 Axes>"
      ]
     },
     "metadata": {
      "needs_background": "light"
     },
     "output_type": "display_data"
    }
   ],
   "source": [
    "plt.scatter(coalSorted[\"CUMCAP\"],coalSorted[\"MARGCOST\"],marker=\"o\",label=\"COAL PLANTS\")\n",
    "plt.scatter(gasSorted[\"CUMCAP\"],gasSorted[\"MARGCOST\"],marker=\"+\",label=\"GAS PLANTS\")\n",
    "plt.scatter(oilSorted[\"CUMCAP\"],oilSorted[\"MARGCOST\"],marker=\"*\",label=\"OIL PLANTS\")\n",
    "plt.scatter(nuclearSorted[\"CUMCAP\"],nuclearSorted[\"MARGCOST\"],marker=\".\",label=\"NUCLEAR PLANTS\")\n",
    "plt.scatter(hydroSorted[\"CUMCAP\"],hydroSorted[\"MARGCOST\"],marker=\"s\",label=\"HYDRO PLANTS\")\n",
    "plt.title(\"ERCOT power supply curve from coal, gas, oil, nuclear, and hydro\",fontsize=16)\n",
    "plt.xlabel(\"Cumulative Power Capacity (MW))\", fontsize=14)\n",
    "plt.ylabel(\"$/MWh\",fontsize=14)\n",
    "plt.legend(fontsize=12)\n",
    "plt.show()\n"
   ]
  },
  {
   "cell_type": "code",
   "execution_count": 81,
   "metadata": {},
   "outputs": [
    {
     "name": "stdout",
     "output_type": "stream",
     "text": [
      "there are a total of  102 plants\n"
     ]
    }
   ],
   "source": [
    "#Let's remove the last five plants in the merit order so we can see the distribution of prices more clearly without these outliers\n",
    "print(\"there are a total of \", len(ercotSubSorted),\"plants\")"
   ]
  },
  {
   "cell_type": "code",
   "execution_count": 82,
   "metadata": {},
   "outputs": [],
   "source": [
    "ercotSubSorted=ercotSubSorted.iloc[0:len(ercotSubSorted)-5]"
   ]
  },
  {
   "cell_type": "code",
   "execution_count": 83,
   "metadata": {},
   "outputs": [],
   "source": [
    "coalSorted=ercotSubSorted[ercotSubSorted[\"PLFUELCT\"]==\"COAL\"]\n",
    "gasSorted=ercotSubSorted[ercotSubSorted[\"PLFUELCT\"]==\"GAS\"]\n",
    "nuclearSorted=ercotSubSorted[ercotSubSorted[\"PLFUELCT\"]==\"NUCLEAR\"]\n",
    "oilSorted=ercotSubSorted[ercotSubSorted[\"PLFUELCT\"]==\"OIL\"]\n",
    "hydroSorted=ercotSubSorted[ercotSubSorted[\"PLFUELCT\"]==\"HYDRO\"]"
   ]
  },
  {
   "cell_type": "code",
   "execution_count": 84,
   "metadata": {},
   "outputs": [
    {
     "data": {
      "image/png": "[encoded data removed]",
      "text/plain": [
       "<Figure size 432x288 with 1 Axes>"
      ]
     },
     "metadata": {
      "needs_background": "light"
     },
     "output_type": "display_data"
    }
   ],
   "source": [
    "plt.scatter(coalSorted[\"CUMCAP\"],coalSorted[\"MARGCOST\"],marker=\"o\",label=\"COAL PLANTS\")\n",
    "plt.scatter(gasSorted[\"CUMCAP\"],gasSorted[\"MARGCOST\"],marker=\"+\",label=\"GAS PLANTS\")\n",
    "plt.scatter(oilSorted[\"CUMCAP\"],oilSorted[\"MARGCOST\"],marker=\"*\",label=\"OIL PLANTS\")\n",
    "plt.scatter(nuclearSorted[\"CUMCAP\"],nuclearSorted[\"MARGCOST\"],marker=\".\",label=\"NUCLEAR PLANTS\")\n",
    "plt.scatter(hydroSorted[\"CUMCAP\"],hydroSorted[\"MARGCOST\"],marker=\"s\",label=\"HYDRO PLANTS\")\n",
    "plt.title(\"ERCOT's power supply curve from coal, gas, oil, nuclear, and hydro\",fontsize=16)\n",
    "plt.xlabel(\"Cumulative Power Capacity (MW))\", fontsize=14)\n",
    "plt.ylabel(\"$/MWh\",fontsize=14)\n",
    "plt.legend(fontsize=12)\n",
    "#Make sure to add a caption that makes this plot a stand-alone piece of information\n",
    "txt=\"Based on eGRID2019 data. Excluding plants with capacity < 10MW or Capacity Factor < 10%, and the 5 most expensive plants\"\n",
    "plt.figtext(0.5, -0.05, txt, wrap=True, horizontalalignment='center', fontsize=10)\n",
    "txt2=\"Assumes the following prices: Coal 2.02 $/MMBTU, Natural Gas 2.89 $/MMBTU, Oil 15 $/MMBTU, Nuclear 9/MWh, Hydro 6/MWh \"\n",
    "plt.figtext(0.5, -0.1, txt2, wrap=True, horizontalalignment='center', fontsize=10)\n",
    "plt.show()"
   ]
  }
 ],
 "metadata": {
  "kernelspec": {
   "display_name": "Python 3",
   "language": "python",
   "name": "python3"
  },
  "language_info": {
   "codemirror_mode": {
    "name": "ipython",
    "version": 3
   },
   "file_extension": ".py",
   "mimetype": "text/x-python",
   "name": "python",
   "nbconvert_exporter": "python",
   "pygments_lexer": "ipython3",
   "version": "3.8.8"
  }
 },
 "nbformat": 4,
 "nbformat_minor": 2
}
