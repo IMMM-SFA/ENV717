{
 "cells": [
  {
   "cell_type": "markdown",
   "id": "45be5654",
   "metadata": {},
   "source": [
    "# ENV717 A5-Q3 - UNIT COMMITMENT PROBLEM with RESERVES"
   ]
  },
  {
   "cell_type": "markdown",
   "id": "18ad7778",
   "metadata": {},
   "source": [
    "#### Assignment 5 - Problem 3\n",
    "##### Constraints Included:  Pmin, Pmax, Demand Balance constraints, On-Off logic constraints, No simultaneous SU and SD, Ramp, Reserves\n",
    "#### Costs included: Fixed, variable, startUp and shutDown\n",
    "##### Does not include RAMP FEASIBLE reserves\n",
    "#### Results are printed in the screen and written into a new excel file - include a calculation of system generation and ramp-feasible reserves. With the data for A5Q3 the system has enough ramp-feasible reserves for all times, despite these constraints not being considered"
   ]
  },
  {
   "cell_type": "code",
   "execution_count": 213,
   "id": "4f1c411e",
   "metadata": {},
   "outputs": [],
   "source": [
    "import os\n",
    "import pandas as pd\n",
    "import numpy as np\n",
    "import matplotlib.pyplot as plt\n",
    "from pyomo.environ import *\n",
    "opt = SolverFactory('cplex') #The CPLEX license is free for students - In Colab you can use CBC"
   ]
  },
  {
   "cell_type": "code",
   "execution_count": 214,
   "id": "4ed9cb3a",
   "metadata": {},
   "outputs": [],
   "source": [
    "#Read data\n",
    "df_genData=pd.read_excel(io=\"A5Q3UCData.xlsx\",sheet_name=\"GeneratorsData\",skiprows=1) #read data from generators tab and skip the first row\n",
    "df_demandData=pd.read_excel(io=\"A5Q3UCData.xlsx\",sheet_name=\"DemandData\",skiprows=1) #read data from demand tab and skip the first row\n",
    "df_reservesData=pd.read_excel(io=\"A5Q3UCData.xlsx\",sheet_name=\"ReservesData\",skiprows=1) #read data from reserves tab and skip the first row"
   ]
  },
  {
   "cell_type": "code",
   "execution_count": 215,
   "id": "925e990c",
   "metadata": {},
   "outputs": [
    {
     "name": "stdout",
     "output_type": "stream",
     "text": [
      "We read data for 3 power generating units\n",
      "We read data for 6 time periods\n"
     ]
    }
   ],
   "source": [
    "#define the size of the sets\n",
    "NumGen=len(df_genData)\n",
    "NumPeriods=len(df_demandData)\n",
    "T=len(df_demandData)\n",
    "print(\"We read data for\", NumGen, \"power generating units\")\n",
    "print(\"We read data for\", T, \"time periods\")"
   ]
  },
  {
   "cell_type": "code",
   "execution_count": 216,
   "id": "670ac82a",
   "metadata": {},
   "outputs": [],
   "source": [
    "#Define Indexes\n",
    "N=np.array([n for n in range(0,NumGen)]) #This array has 2 components, but the index starts at zero\n",
    "T=np.array([t for t in range(0,NumPeriods)])\n",
    "T2=np.array([t2 for t2 in range(1,NumPeriods)])#Need this t2 index to write the ramp-up constraints"
   ]
  },
  {
   "cell_type": "code",
   "execution_count": 217,
   "id": "76a1828d",
   "metadata": {},
   "outputs": [
    {
     "name": "stdout",
     "output_type": "stream",
     "text": [
      "[1 2 3 4 5]\n"
     ]
    }
   ],
   "source": [
    "print(T2)"
   ]
  },
  {
   "cell_type": "code",
   "execution_count": 218,
   "id": "399505a0",
   "metadata": {},
   "outputs": [
    {
     "data": {
      "text/plain": [
       "Index(['FixedCost', 'SDCost', 'SUCost', 'VarCost', 'MaxGen', 'MinGen',\n",
       "       'RampDown', 'RampSD', 'RampSU', 'RampUp', 'MinUpTime', 'MinDownTime',\n",
       "       'ReqUp', 'ReqDown', 'InitialStatus', 'InitialGen'],\n",
       "      dtype='object')"
      ]
     },
     "execution_count": 218,
     "metadata": {},
     "output_type": "execute_result"
    }
   ],
   "source": [
    "df_genData.columns"
   ]
  },
  {
   "cell_type": "code",
   "execution_count": 219,
   "id": "254474ec",
   "metadata": {},
   "outputs": [],
   "source": [
    "##Declare the generator's parameters and assign them the data we read before\n",
    "FixCost=df_genData.loc[:,'FixedCost'].to_numpy()\n",
    "SDCost=df_genData.loc[:,'SDCost'].to_numpy()\n",
    "SUCost=df_genData.loc[:,'SUCost'].to_numpy()\n",
    "VarCost=df_genData.loc[:,'VarCost'].to_numpy()\n",
    "PMax=df_genData.loc[:,'MaxGen'].to_numpy()\n",
    "PMin=df_genData.loc[:,'MinGen'].to_numpy()\n",
    "UpRamp=df_genData.loc[:,'RampUp'].to_numpy()\n",
    "DownRamp=df_genData.loc[:,'RampDown'].to_numpy()\n",
    "SURamp=df_genData.loc[:,'RampSU'].to_numpy()\n",
    "SDRamp=df_genData.loc[:,'RampSD'].to_numpy()\n",
    "MinUpTime=df_genData.loc[:,'MinUpTime'].to_numpy()\n",
    "MinDownTime=df_genData.loc[:,'MinDownTime'].to_numpy()\n",
    "ReqOn=df_genData.loc[:,'ReqUp'].to_numpy()\n",
    "ReqOff=df_genData.loc[:,'ReqDown'].to_numpy()\n",
    "InitialOnOff=df_genData.loc[:,'InitialStatus'].to_numpy()\n",
    "InitialGen=df_genData.loc[:,'InitialGen'].to_numpy()\n",
    "##Declare the system's parameters and assign them the data we read\n",
    "Demand=df_demandData.loc[:,'Demand'].to_numpy()\n",
    "ReqReserves=df_reservesData.loc[:,'Reserves'].to_numpy()"
   ]
  },
  {
   "cell_type": "code",
   "execution_count": 220,
   "id": "2182a4a2",
   "metadata": {},
   "outputs": [],
   "source": [
    "#UC MODEL\n",
    "def Unit_Commitment():\n",
    "    m=ConcreteModel()\n",
    "    m.N=Set(initialize=N)\n",
    "    m.T=Set(initialize=T)\n",
    "    m.T2=Set(initialize=T2)\n",
    "    m.x=Var(m.N, m.T, bounds = (0,350))\n",
    "    m.u=Var(m.N, m.T, domain=Binary)\n",
    "    m.y=Var(m.N, m.T, domain=Binary)\n",
    "    m.z=Var(m.N, m.T, domain=Binary)\n",
    "    m.system_cost=Objective(expr=sum(m.x[n,t]*VarCost[n]+m.u[n,t]*FixCost[n]+m.y[n,t]*SUCost[n]+m.z[n,t]*SDCost[n] for n in m.N for t in m.T), sense=minimize)\n",
    "    m.DemandConstraint=Constraint(m.T, rule=lambda m, t: sum(m.x[n,t] for n in N) == Demand[t])\n",
    "    m.MinPower=Constraint(m.N, m.T, rule=lambda m, n, t: PMin[n]*m.u[n,t] <= m.x[n,t])\n",
    "    m.MaxPower=Constraint(m.N, m.T, rule=lambda m, n, t: PMax[n]*m.u[n,t] >= m.x[n,t])\n",
    "    m.OnOfflogict1=Constraint(m.N, rule=lambda m, n: m.y[n,0]-m.z[n,0]==m.u[n,0]-InitialOnOff[n])\n",
    "    m.OnOfflogic=Constraint(m.N, m.T2, rule=lambda m, n, t2: m.y[n,t2]-m.z[n,t2]==m.u[n,t2]-m.u[n,t2-1])\n",
    "    m.RampUpt1=Constraint(m.N, rule=lambda m, n: m.x[n,0]-InitialGen[n]<=InitialOnOff[n]*UpRamp[n]+m.y[n,0]*SURamp[n])\n",
    "    m.RampUp=Constraint(m.N, m.T2, rule=lambda m, n, t2: m.x[n,t2]-m.x[n,t2-1]<=m.u[n,t2-1]*UpRamp[n]+m.y[n,t2]*SURamp[n])\n",
    "    m.RampDownt1=Constraint(m.N, rule=lambda m, n: InitialGen[n]-m.x[n,0]<=m.u[n,0]*DownRamp[n]+m.z[n,0]*SDRamp[n])\n",
    "    m.RampDown=Constraint(m.N, m.T2, rule=lambda m, n, t2: m.x[n,t2-1]-m.x[n,t2]<=m.u[n,t2]*DownRamp[n]+m.z[n,t2]*SDRamp[n])\n",
    "    m.NoSuSD=Constraint(m.N,m.T, rule=lambda m,n,t: m.y[n,t]+m.z[n,t]<=1)\n",
    "    m.Reserves=Constraint(m.T, rule=lambda m, t: sum(m.u[n,t]*PMax[n] for n in N)>= Demand[t]+ReqReserves[t])\n",
    "    return m"
   ]
  },
  {
   "cell_type": "code",
   "execution_count": 221,
   "id": "12df3ab3",
   "metadata": {},
   "outputs": [
    {
     "name": "stdout",
     "output_type": "stream",
     "text": [
      "# ==========================================================\n",
      "# = Solver Results                                         =\n",
      "# ==========================================================\n",
      "# ----------------------------------------------------------\n",
      "#   Problem Information\n",
      "# ----------------------------------------------------------\n",
      "Problem: \n",
      "- Name: tmpb2c__g3u\n",
      "  Lower bound: 10299.999999999998\n",
      "  Upper bound: 10299.999999999998\n",
      "  Number of objectives: 1\n",
      "  Number of constraints: 121\n",
      "  Number of variables: 73\n",
      "  Number of nonzeros: 349\n",
      "  Sense: minimize\n",
      "# ----------------------------------------------------------\n",
      "#   Solver Information\n",
      "# ----------------------------------------------------------\n",
      "Solver: \n",
      "- Status: ok\n",
      "  User time: 0.02\n",
      "  Termination condition: optimal\n",
      "  Termination message: MIP - Integer optimal solution\\x3a Objective = 1.0300000000e+04\n",
      "  Statistics: \n",
      "    Branch and bound: \n",
      "      Number of bounded subproblems: 0\n",
      "      Number of created subproblems: 0\n",
      "  Error rc: 0\n",
      "  Time: 0.08079814910888672\n",
      "# ----------------------------------------------------------\n",
      "#   Solution Information\n",
      "# ----------------------------------------------------------\n",
      "Solution: \n",
      "- number of solutions: 0\n",
      "  number of solutions displayed: 0\n"
     ]
    }
   ],
   "source": [
    "m=Unit_Commitment()\n",
    "SolverFactory('cplex').solve(m).write() # Instead of this line, write \"opt.solve(m)\" if model's details are not important"
   ]
  },
  {
   "cell_type": "code",
   "execution_count": 222,
   "id": "e2543438",
   "metadata": {},
   "outputs": [
    {
     "name": "stdout",
     "output_type": "stream",
     "text": [
      "SOLUTION\n",
      "The total system cost is = $ 10300\n",
      "Commitment and Generation\n",
      "n =  0  t =  0   u[0,0] 1 y[0,0] 0.00 z[0,0] 0.00 180.00\n",
      "n =  0  t =  1   u[0,1] 1 y[0,1] 0.00 z[0,1] 0.00 180.00\n",
      "n =  0  t =  2   u[0,2] 1 y[0,2] 0.00 z[0,2] 0.00 150.00\n",
      "n =  0  t =  3   u[0,3] 1 y[0,3] 0.00 z[0,3] 0.00 120.00\n",
      "n =  0  t =  4   u[0,4] 1 y[0,4] 0.00 z[0,4] 0.00 170.00\n",
      "n =  0  t =  5   u[0,5] 1 y[0,5] 0.00 z[0,5] 0.00 140.00\n",
      "n =  1  t =  0   u[1,0] 1 y[1,0] 1.00 z[1,0] 0.00 60.00\n",
      "n =  1  t =  1   u[1,1] 1 y[1,1] 0.00 z[1,1] 0.00 70.00\n",
      "n =  1  t =  2   u[1,2] 1 y[1,2] 0.00 z[1,2] 0.00 50.00\n",
      "n =  1  t =  3   u[1,3] 1 y[1,3] 0.00 z[1,3] 0.00 50.00\n",
      "n =  1  t =  4   u[1,4] 1 y[1,4] 0.00 z[1,4] 0.00 60.00\n",
      "n =  1  t =  5   u[1,5] 1 y[1,5] 0.00 z[1,5] 0.00 50.00\n",
      "n =  2  t =  0   u[2,0] 0 y[2,0] 0.00 z[2,0] 0.00 0.00\n",
      "n =  2  t =  1   u[2,1] 0 y[2,1] 0.00 z[2,1] 0.00 0.00\n",
      "n =  2  t =  2   u[2,2] 0 y[2,2] -0.00 z[2,2] 0.00 0.00\n",
      "n =  2  t =  3   u[2,3] 0 y[2,3] 0.00 z[2,3] 0.00 0.00\n",
      "n =  2  t =  4   u[2,4] 0 y[2,4] 0.00 z[2,4] 0.00 0.00\n",
      "n =  2  t =  5   u[2,5] 0 y[2,5] 0.00 z[2,5] 0.00 0.00\n"
     ]
    }
   ],
   "source": [
    "print('SOLUTION')\n",
    "print('The total system cost is = $',round(m.system_cost()))\n",
    "print('Commitment and Generation')\n",
    "for n in N:\n",
    "    for t in T:\n",
    "        print(\"n = {0:2d}  t = {1:2d}   {2} {3:.0f} {4} {5:.2f} {6} {7:.2f} {8:.2f}\".format(n, t, m.u[n,t], m.u[n,t](), m.y[n,t], m.y[n,t](), m.z[n,t], m.z[n,t](),m.x[n,t]()))"
   ]
  },
  {
   "cell_type": "code",
   "execution_count": 223,
   "id": "1f83f0ce",
   "metadata": {},
   "outputs": [],
   "source": [
    "Results = pd.DataFrame()#(index=range(numRows),columns=range(numCols))\n",
    "for n in N:\n",
    "    genNumber=n+1\n",
    "    colName=\"[\" + str(genNumber)+\",t]\"  #n must be converted into a string \n",
    "    for t in T:\n",
    "        Results.loc[t,\"t\"]= t+1\n",
    "        Results.loc[t,\"u\"+colName] = m.u[n,t].value\n",
    "        Results.loc[t,\"y\"+colName] = m.y[n,t].value\n",
    "        Results.loc[t,\"z\"+colName] = m.z[n,t].value\n",
    "        Results.loc[t,\"x\"+colName] = m.x[n,t].value\n",
    "        Results.loc[t,\"Reserves\"+colName] = m.u[n,t].value*PMax[n]-m.x[n,t].value\n",
    "        Results.loc[t,\"RampFeasibleReserves\"+colName] = np.minimum(m.u[n,t].value*PMax[n]-m.x[n,t].value,UpRamp[n])\n",
    "PerGenNumCols=6 #There are six columns of results per generator: u,y,z,x,reserves,rampfeasiblereserves\n",
    "GenerationPosition=4 #The position of the generation variable is 4 \n",
    "RampFeasiblePosition=6 #The position of the rampFeasible column is 6\n",
    "Results[\"TotalGeneration\"]=sum(Results.iloc[:,n*PerGenNumCols+GenerationPosition] for n in N)\n",
    "Results[\"TotalRampFeasibleReserves\"]=sum(Results.iloc[:,n*PerGenNumCols+RampFeasiblePosition] for n in N)\n",
    "Results\n",
    "Results.to_excel(\"A5Q3UCResults.xlsx\",sheet_name='ResultsFromPyomo',index=False)"
   ]
  },
  {
   "cell_type": "code",
   "execution_count": 224,
   "id": "4b6b4ee4",
   "metadata": {},
   "outputs": [
    {
     "data": {
      "image/png": "[encoded data removed]",
      "text/plain": [
       "<Figure size 576x288 with 3 Axes>"
      ]
     },
     "metadata": {
      "needs_background": "light"
     },
     "output_type": "display_data"
    }
   ],
   "source": [
    "#Graph solution\n",
    "fig, ax = plt.subplots(max(N)+1, 1, figsize=(8, 1.5*max(N)+1))\n",
    "for n in N:\n",
    "    ax[n].bar(T+1, [m.x[n,t]() for t in T])\n",
    "    ax[n].set_xlim(0, max(T)+2)\n",
    "    ax[n].set_ylim(0, 1.1*PMax[n])\n",
    "    ax[n].plot(ax[n].get_xlim(), np.array([PMax[n], PMax[n]]), 'r--')\n",
    "    ax[n].plot(ax[n].get_xlim(), np.array([PMin[n], PMin[n]]), 'r--')\n",
    "    ax[n].set_title('Unit ' + str(n+1))\n",
    "fig.tight_layout()"
   ]
  },
  {
   "cell_type": "code",
   "execution_count": null,
   "id": "2b22db28",
   "metadata": {},
   "outputs": [],
   "source": []
  }
 ],
 "metadata": {
  "kernelspec": {
   "display_name": "Python 3",
   "language": "python",
   "name": "python3"
  },
  "language_info": {
   "codemirror_mode": {
    "name": "ipython",
    "version": 3
   },
   "file_extension": ".py",
   "mimetype": "text/x-python",
   "name": "python",
   "nbconvert_exporter": "python",
   "pygments_lexer": "ipython3",
   "version": "3.8.8"
  }
 },
 "nbformat": 4,
 "nbformat_minor": 5
}
