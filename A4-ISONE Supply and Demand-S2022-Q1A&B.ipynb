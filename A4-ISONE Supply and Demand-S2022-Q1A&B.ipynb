{
 "cells": [
  {
   "cell_type": "markdown",
   "metadata": {
    "scrolled": true
   },
   "source": [
    "# ENV717 - S2022\n",
    "A4\n",
    "Q1. a & b."
   ]
  },
  {
   "cell_type": "code",
   "execution_count": 131,
   "metadata": {},
   "outputs": [
    {
     "data": {
      "text/html": [
       "<div>\n",
       "<style scoped>\n",
       "    .dataframe tbody tr th:only-of-type {\n",
       "        vertical-align: middle;\n",
       "    }\n",
       "\n",
       "    .dataframe tbody tr th {\n",
       "        vertical-align: top;\n",
       "    }\n",
       "\n",
       "    .dataframe thead th {\n",
       "        text-align: right;\n",
       "    }\n",
       "</style>\n",
       "<table border=\"1\" class=\"dataframe\">\n",
       "  <thead>\n",
       "    <tr style=\"text-align: right;\">\n",
       "      <th></th>\n",
       "      <th>SEQPLT19</th>\n",
       "      <th>YEAR</th>\n",
       "      <th>PSTATABB</th>\n",
       "      <th>PNAME</th>\n",
       "      <th>ORISPL</th>\n",
       "      <th>OPRNAME</th>\n",
       "      <th>OPRCODE</th>\n",
       "      <th>UTLSRVNM</th>\n",
       "      <th>UTLSRVID</th>\n",
       "      <th>SECTOR</th>\n",
       "      <th>...</th>\n",
       "      <th>PLWIPR</th>\n",
       "      <th>PLSOPR</th>\n",
       "      <th>PLGTPR</th>\n",
       "      <th>PLOFPR</th>\n",
       "      <th>PLOPPR</th>\n",
       "      <th>PLTNPR</th>\n",
       "      <th>PLTRPR</th>\n",
       "      <th>PLTHPR</th>\n",
       "      <th>PLCYPR</th>\n",
       "      <th>PLCNPR</th>\n",
       "    </tr>\n",
       "  </thead>\n",
       "  <tbody>\n",
       "    <tr>\n",
       "      <th>0</th>\n",
       "      <td>1</td>\n",
       "      <td>2019</td>\n",
       "      <td>AK</td>\n",
       "      <td>7-Mile Ridge Wind Project</td>\n",
       "      <td>60814</td>\n",
       "      <td>Alaska Power and Telephone Co</td>\n",
       "      <td>219</td>\n",
       "      <td>Alaska Power and Telephone Co</td>\n",
       "      <td>219</td>\n",
       "      <td>Electric Utility</td>\n",
       "      <td>...</td>\n",
       "      <td></td>\n",
       "      <td></td>\n",
       "      <td></td>\n",
       "      <td></td>\n",
       "      <td></td>\n",
       "      <td></td>\n",
       "      <td></td>\n",
       "      <td></td>\n",
       "      <td></td>\n",
       "      <td></td>\n",
       "    </tr>\n",
       "    <tr>\n",
       "      <th>1</th>\n",
       "      <td>2</td>\n",
       "      <td>2019</td>\n",
       "      <td>AK</td>\n",
       "      <td>Agrium Kenai Nitrogen Operations</td>\n",
       "      <td>54452</td>\n",
       "      <td>Homer Electric Assn Inc</td>\n",
       "      <td>19558</td>\n",
       "      <td>Agrium US Inc</td>\n",
       "      <td>179</td>\n",
       "      <td>Industrial CHP</td>\n",
       "      <td>...</td>\n",
       "      <td></td>\n",
       "      <td></td>\n",
       "      <td></td>\n",
       "      <td></td>\n",
       "      <td></td>\n",
       "      <td></td>\n",
       "      <td></td>\n",
       "      <td></td>\n",
       "      <td></td>\n",
       "      <td></td>\n",
       "    </tr>\n",
       "    <tr>\n",
       "      <th>2</th>\n",
       "      <td>3</td>\n",
       "      <td>2019</td>\n",
       "      <td>AK</td>\n",
       "      <td>Alakanuk</td>\n",
       "      <td>57053</td>\n",
       "      <td>Alaska Village Elec Coop, Inc</td>\n",
       "      <td>221</td>\n",
       "      <td>Alaska Village Elec Coop, Inc</td>\n",
       "      <td>221</td>\n",
       "      <td>Electric Utility</td>\n",
       "      <td>...</td>\n",
       "      <td></td>\n",
       "      <td></td>\n",
       "      <td></td>\n",
       "      <td></td>\n",
       "      <td></td>\n",
       "      <td></td>\n",
       "      <td></td>\n",
       "      <td></td>\n",
       "      <td></td>\n",
       "      <td></td>\n",
       "    </tr>\n",
       "    <tr>\n",
       "      <th>3</th>\n",
       "      <td>4</td>\n",
       "      <td>2019</td>\n",
       "      <td>AK</td>\n",
       "      <td>Allison Creek Hydro</td>\n",
       "      <td>58982</td>\n",
       "      <td>Copper Valley Elec Assn, Inc</td>\n",
       "      <td>4329</td>\n",
       "      <td>Copper Valley Elec Assn, Inc</td>\n",
       "      <td>4329</td>\n",
       "      <td>Electric Utility</td>\n",
       "      <td>...</td>\n",
       "      <td>0</td>\n",
       "      <td>0</td>\n",
       "      <td>0</td>\n",
       "      <td>0</td>\n",
       "      <td>0</td>\n",
       "      <td>0</td>\n",
       "      <td>1</td>\n",
       "      <td>0</td>\n",
       "      <td>0</td>\n",
       "      <td>1</td>\n",
       "    </tr>\n",
       "    <tr>\n",
       "      <th>4</th>\n",
       "      <td>5</td>\n",
       "      <td>2019</td>\n",
       "      <td>AK</td>\n",
       "      <td>Ambler</td>\n",
       "      <td>60243</td>\n",
       "      <td>Alaska Village Elec Coop, Inc</td>\n",
       "      <td>221</td>\n",
       "      <td>Alaska Village Elec Coop, Inc</td>\n",
       "      <td>221</td>\n",
       "      <td>Electric Utility</td>\n",
       "      <td>...</td>\n",
       "      <td>0</td>\n",
       "      <td>0</td>\n",
       "      <td>0</td>\n",
       "      <td>0</td>\n",
       "      <td>0</td>\n",
       "      <td>1</td>\n",
       "      <td>0</td>\n",
       "      <td>0</td>\n",
       "      <td>1</td>\n",
       "      <td>0</td>\n",
       "    </tr>\n",
       "  </tbody>\n",
       "</table>\n",
       "<p>5 rows × 140 columns</p>\n",
       "</div>"
      ],
      "text/plain": [
       "   SEQPLT19  YEAR PSTATABB                             PNAME  ORISPL  \\\n",
       "0         1  2019       AK         7-Mile Ridge Wind Project   60814   \n",
       "1         2  2019       AK  Agrium Kenai Nitrogen Operations   54452   \n",
       "2         3  2019       AK                          Alakanuk   57053   \n",
       "3         4  2019       AK               Allison Creek Hydro   58982   \n",
       "4         5  2019       AK                            Ambler   60243   \n",
       "\n",
       "                         OPRNAME  OPRCODE                       UTLSRVNM  \\\n",
       "0  Alaska Power and Telephone Co      219  Alaska Power and Telephone Co   \n",
       "1        Homer Electric Assn Inc    19558                  Agrium US Inc   \n",
       "2  Alaska Village Elec Coop, Inc      221  Alaska Village Elec Coop, Inc   \n",
       "3   Copper Valley Elec Assn, Inc     4329   Copper Valley Elec Assn, Inc   \n",
       "4  Alaska Village Elec Coop, Inc      221  Alaska Village Elec Coop, Inc   \n",
       "\n",
       "   UTLSRVID            SECTOR  ... PLWIPR PLSOPR PLGTPR PLOFPR PLOPPR PLTNPR  \\\n",
       "0       219  Electric Utility  ...                                             \n",
       "1       179    Industrial CHP  ...                                             \n",
       "2       221  Electric Utility  ...                                             \n",
       "3      4329  Electric Utility  ...      0      0      0      0      0      0   \n",
       "4       221  Electric Utility  ...      0      0      0      0      0      1   \n",
       "\n",
       "   PLTRPR PLTHPR PLCYPR PLCNPR  \n",
       "0                               \n",
       "1                               \n",
       "2                               \n",
       "3       1      0      0      1  \n",
       "4       0      0      1      0  \n",
       "\n",
       "[5 rows x 140 columns]"
      ]
     },
     "execution_count": 131,
     "metadata": {},
     "output_type": "execute_result"
    }
   ],
   "source": [
    "##################################################################################################\n",
    "#       ENV717 - S2022                                                                           #                            \n",
    "#       This script explores eGRID and \n",
    "#       finds the power supply curve from ISO NEW ENGLAND's baseload generators                #\n",
    "##################################################################################################\n",
    "import os\n",
    "import pandas as pd\n",
    "import numpy as np\n",
    "import matplotlib.pyplot as plt\n",
    "\n",
    "### THIS IS NOT THE MOST ELEGANT SOLUTION OF THIS ASSIGNMENT. MANY OF THE LINES OF CODE COULD HAVE BEEN OBVIATED IF WE \n",
    "### HAD DEFINED SOME BETTER DATA STRUCTURES TO HANDLE PLANTS BY TYPE AND HAD DEFINED THE FUNCTIONS THAT WILL BE USED \n",
    "### MORE THAN ONCE.\n",
    "\n",
    "##################################################################################################################\n",
    "## 1. Read eGRID19 file                                                                                          #\n",
    "##         Read the PLNT19 sheet of the excel file into a pandas DataFrame.                                      #\n",
    "##         A DataFrame is a two-dimensional labeled data structure with columns of potentially different types   #\n",
    "##         Specify that the headers are on the second row of the excel file (i.e., row 1 in Python)              #\n",
    "## 2. Confirm we read all columns by printing the first five rows                                                #\n",
    "###################################################################################################################\n",
    "egrid=pd.read_excel(\"egrid2019_data.xlsx\",sheet_name=\"PLNT19\",keep_default_na=False,header=1) #1.\n",
    "egrid.head(5) #2."
   ]
  },
  {
   "cell_type": "code",
   "execution_count": 132,
   "metadata": {},
   "outputs": [
    {
     "data": {
      "text/plain": [
       "11865"
      ]
     },
     "execution_count": 132,
     "metadata": {},
     "output_type": "execute_result"
    }
   ],
   "source": [
    "## 3. Confirm we read all rows by printing the lenght of the DataFrame  (the lenght excludes the header and the row above it)\n",
    "len(egrid)"
   ]
  },
  {
   "cell_type": "code",
   "execution_count": 133,
   "metadata": {},
   "outputs": [
    {
     "name": "stdout",
     "output_type": "stream",
     "text": [
      "There are 1009 plants in  ISO New England\n"
     ]
    }
   ],
   "source": [
    "## 4. Extract the plants using BACODE\n",
    "subset=egrid[egrid['BACODE']==\"ISNE\"]\n",
    "ISOName=\"ISO New England\"\n",
    "print(\"There are\",len(subset),\"plants in \", ISOName)"
   ]
  },
  {
   "cell_type": "code",
   "execution_count": 134,
   "metadata": {},
   "outputs": [
    {
     "name": "stdout",
     "output_type": "stream",
     "text": [
      "The total nameplate capacity of the plants in ISO New England is 46010.30 MW\n"
     ]
    }
   ],
   "source": [
    "## 5. Q1a. Find the total installed capacity \n",
    "subsetCap=subset.NAMEPCAP.sum()\n",
    "print(\"The total nameplate capacity of the plants in\", ISOName,  \"is\", \"{:.2f}\".format(subsetCap),\"MW\")"
   ]
  },
  {
   "cell_type": "code",
   "execution_count": 135,
   "metadata": {
    "scrolled": true
   },
   "outputs": [
    {
     "data": {
      "text/plain": [
       "SEQPLT19     int64\n",
       "YEAR         int64\n",
       "PSTATABB    object\n",
       "PNAME       object\n",
       "ORISPL       int64\n",
       "             ...  \n",
       "PLTNPR      object\n",
       "PLTRPR      object\n",
       "PLTHPR      object\n",
       "PLCYPR      object\n",
       "PLCNPR      object\n",
       "Length: 140, dtype: object"
      ]
     },
     "execution_count": 135,
     "metadata": {},
     "output_type": "execute_result"
    }
   ],
   "source": [
    "## 6. Find total generation in 2019 - to calculate percentage generation by fuel later\n",
    "## But using subset=subset.PLNGENAN.sum() will result in a type error.\n",
    "## This type error ocurrs because PLNGENAN is an object and not a float\n",
    "## We can ceck the types of all the columns with dtypes\n",
    "subset.dtypes"
   ]
  },
  {
   "cell_type": "code",
   "execution_count": 136,
   "metadata": {},
   "outputs": [
    {
     "name": "stderr",
     "output_type": "stream",
     "text": [
      "C:\\ProgramData\\Anaconda3\\lib\\site-packages\\pandas\\core\\indexing.py:1676: SettingWithCopyWarning: \n",
      "A value is trying to be set on a copy of a slice from a DataFrame.\n",
      "Try using .loc[row_indexer,col_indexer] = value instead\n",
      "\n",
      "See the caveats in the documentation: https://pandas.pydata.org/pandas-docs/stable/user_guide/indexing.html#returning-a-view-versus-a-copy\n",
      "  self._setitem_single_column(ilocs[0], value, pi)\n"
     ]
    },
    {
     "data": {
      "text/plain": [
       "dtype('float64')"
      ]
     },
     "execution_count": 136,
     "metadata": {},
     "output_type": "execute_result"
    }
   ],
   "source": [
    "## We convert PLNGENAN to a number using dataframe.to_numeric\n",
    "# Note that instead of the line below you could use : subset[\"PLNGENAN\"]=pd.to_numeric(subset[\"PLNGENAN\"])\n",
    "# but using .loc is preferred\n",
    "##We can check the type of PLNGENAN is now a float:\n",
    "#subset[\"PLNGENAN\"].dtype\n",
    "subset.loc[:,\"PLNGENAN\"]=pd.to_numeric(subset[\"PLNGENAN\"])\n",
    "subset[\"PLNGENAN\"].dtype"
   ]
  },
  {
   "cell_type": "code",
   "execution_count": 137,
   "metadata": {},
   "outputs": [
    {
     "name": "stdout",
     "output_type": "stream",
     "text": [
      "The total generation in ISO New England in 2019 was 99302794.40 MWh\n"
     ]
    }
   ],
   "source": [
    "## Now we can obtain the total generation using sum\n",
    "subsetGen=subset.PLNGENAN.sum()\n",
    "print(\"The total generation in\", ISOName,\"in 2019 was\",'%.2f' %subsetGen, \"MWh\")"
   ]
  },
  {
   "cell_type": "code",
   "execution_count": 138,
   "metadata": {},
   "outputs": [
    {
     "data": {
      "text/plain": [
       "array(['SOLAR', 'GAS', 'OIL', 'HYDRO', 'BIOMASS', 'OFSL', 'NUCLEAR', '',\n",
       "       'WIND', 'OTHF', 'COAL'], dtype=object)"
      ]
     },
     "execution_count": 138,
     "metadata": {},
     "output_type": "execute_result"
    }
   ],
   "source": [
    "## To find the capacity and generation by fuel we first need to findout the names of fuel categories PLFUELCT in the DataFrame\n",
    "subset.PLFUELCT.unique()"
   ]
  },
  {
   "cell_type": "code",
   "execution_count": 139,
   "metadata": {},
   "outputs": [
    {
     "name": "stdout",
     "output_type": "stream",
     "text": [
      "FUEL                INSTALLED CAPACITY        GENERATION IN 2019\n",
      "Biomass           1941.90 MW.  4.221 %.  7576022.04 MWh.  7.629 %. \n",
      "\n",
      "Coal              632.40 MW.  1.374 %.  301655.00 MWh.  0.304 %. \n",
      "\n",
      "Gas               23246.70 MW.  50.525 %.  49047932.54 MWh.  49.392 %. \n",
      "\n",
      "Geothermal        0.00 MW.  0.000 %.  0.00 MWh.  0.000 %. \n",
      "\n",
      "Hydro             3869.30 MW.  8.410 %.  7160246.99 MWh.  7.211 %. \n",
      "\n",
      "Nuclear           4074.90 MW.  8.856 %.  29817525.00 MWh.  30.027 %. \n",
      "\n",
      "Oil               6720.20 MW.  14.606 %.  298590.83 MWh.  0.301 %. \n",
      "\n",
      "Other Fossil Fuel 31.30 MW.  0.068 %.  0.00 MWh.  0.000 %. \n",
      "\n",
      "Solar             1648.80 MW.  3.584 %.  1509999.00 MWh.  1.521 %. \n",
      "\n",
      "Wind              2616.80 MW.  5.687 %.  3592687.00 MWh.  3.618 %. \n",
      "\n",
      "Other Fuel        203.20 MW.  0.442 %.  -1864.00 MWh.  -0.002 %. \n",
      "\n"
     ]
    }
   ],
   "source": [
    "## 6. Q1a. Find the total installed capacity in MW and total electricity generation from power plants of different fuels\n",
    "## and as a percentage of PJM capacity and generation\n",
    "\n",
    "## Note this is not the most elegant way to calculate these numbers, but for now it is ok.\n",
    "biomass=subset[subset['PLFUELCT']==\"BIOMASS\"]\n",
    "coal=subset[subset['PLFUELCT']==\"COAL\"]\n",
    "gas=subset[subset['PLFUELCT']==\"GAS\"]\n",
    "geothermal=subset[subset['PLFUELCT']==\"GEOTHERMAL\"]\n",
    "hydro=subset[subset['PLFUELCT']==\"HYDRO\"]\n",
    "nuclear=subset[subset['PLFUELCT']==\"NUCLEAR\"]\n",
    "oil=subset[subset['PLFUELCT']==\"OIL\"]\n",
    "otherff=subset[subset['PLFUELCT']==\"OFSL\"]\n",
    "solar=subset[subset['PLFUELCT']==\"SOLAR\"]\n",
    "wind=subset[subset['PLFUELCT']==\"WIND\"]\n",
    "other=subset[subset['PLFUELCT']==\"OTHF\"]\n",
    "\n",
    "bioCap=biomass.NAMEPCAP.sum()\n",
    "bioGen=biomass.PLNGENAN.sum()\n",
    "bioCapPer=bioCap/subsetCap*100\n",
    "bioGenPer=bioGen/subsetGen*100\n",
    "\n",
    "coalCap=coal.NAMEPCAP.sum()\n",
    "coalGen=coal.PLNGENAN.sum()\n",
    "coalCapPer=coalCap/subsetCap*100\n",
    "coalGenPer=coalGen/subsetGen*100\n",
    "\n",
    "gasCap=gas.NAMEPCAP.sum()\n",
    "gasGen=gas.PLNGENAN.sum()\n",
    "gasCapPer=gasCap/subsetCap*100\n",
    "gasGenPer=gasGen/subsetGen*100\n",
    "\n",
    "geoCap=geothermal.NAMEPCAP.sum()\n",
    "geoGen=geothermal.PLNGENAN.sum()\n",
    "geoCapPer=geoCap/subsetCap*100\n",
    "geoGenPer=geoGen/subsetGen*100\n",
    "\n",
    "hydCap=hydro.NAMEPCAP.sum()\n",
    "hydGen=hydro.PLNGENAN.sum()\n",
    "hydCapPer=hydCap/subsetCap*100\n",
    "hydGenPer=hydGen/subsetGen*100\n",
    "\n",
    "nucCap=nuclear.NAMEPCAP.sum()\n",
    "nucGen=nuclear.PLNGENAN.sum()\n",
    "nucCapPer=nucCap/subsetCap*100\n",
    "nucGenPer=nucGen/subsetGen*100\n",
    "\n",
    "oilCap=oil.NAMEPCAP.sum()\n",
    "oilGen=oil.PLNGENAN.sum()\n",
    "oilCapPer=oilCap/subsetCap*100\n",
    "oilGenPer=oilGen/subsetGen*100\n",
    "\n",
    "ofsCap=otherff.NAMEPCAP.sum()\n",
    "ofsGen=otherff.PLNGENAN.sum()\n",
    "ofsCapPer=ofsCap/subsetCap*100\n",
    "ofsGenPer=ofsGen/subsetGen*100\n",
    "\n",
    "solCap=solar.NAMEPCAP.sum()\n",
    "solGen=solar.PLNGENAN.sum()\n",
    "solCapPer=solCap/subsetCap*100\n",
    "solGenPer=solGen/subsetGen*100\n",
    "\n",
    "winCap=wind.NAMEPCAP.sum()\n",
    "winGen=wind.PLNGENAN.sum()\n",
    "winCapPer=winCap/subsetCap*100\n",
    "winGenPer=winGen/subsetGen*100\n",
    "\n",
    "othCap=other.NAMEPCAP.sum()\n",
    "othGen=other.PLNGENAN.sum()\n",
    "othCapPer=othCap/subsetCap*100\n",
    "othGenPer=othGen/subsetGen*100\n",
    "\n",
    "print(\"FUEL                INSTALLED CAPACITY        GENERATION IN 2019\")\n",
    "print(\"Biomass          \",'%.2f' % bioCap,\"MW. \",'%.3f' % bioCapPer,\"%. \",'%.2f' % bioGen,\"MWh. \",'%.3f' % bioGenPer,\"%. \\r\\n\")\n",
    "print(\"Coal             \",'%.2f' % coalCap,\"MW. \",'%.3f' % coalCapPer,\"%. \",'%.2f' % coalGen,\"MWh. \",'%.3f' % coalGenPer,\"%. \\r\\n\")\n",
    "print(\"Gas              \",'%.2f' % gasCap,\"MW. \",'%.3f' % gasCapPer,\"%. \",'%.2f' % gasGen,\"MWh. \",'%.3f' % gasGenPer,\"%. \\r\\n\")\n",
    "print(\"Geothermal       \",'%.2f' % geoCap,\"MW. \",'%.3f' % geoCapPer,\"%. \",'%.2f' % geoGen,\"MWh. \",'%.3f' % geoGenPer,\"%. \\r\\n\")\n",
    "print(\"Hydro            \",'%.2f' % hydCap,\"MW. \",'%.3f' % hydCapPer,\"%. \",'%.2f' % hydGen,\"MWh. \",'%.3f' % hydGenPer,\"%. \\r\\n\")\n",
    "print(\"Nuclear          \",'%.2f' % nucCap,\"MW. \",'%.3f' % nucCapPer,\"%. \",'%.2f' % nucGen,\"MWh. \",'%.3f' % nucGenPer,\"%. \\r\\n\")\n",
    "print(\"Oil              \",'%.2f' % oilCap,\"MW. \",'%.3f' % oilCapPer,\"%. \",'%.2f' % oilGen,\"MWh. \",'%.3f' % oilGenPer,\"%. \\r\\n\")\n",
    "print(\"Other Fossil Fuel\",'%.2f' % ofsCap,\"MW. \",'%.3f' % ofsCapPer,\"%. \",'%.2f' % ofsGen,\"MWh. \",'%.3f' % ofsGenPer,\"%. \\r\\n\")\n",
    "print(\"Solar            \",'%.2f' % solCap,\"MW. \",'%.3f' % solCapPer,\"%. \",'%.2f' % solGen,\"MWh. \",'%.3f' % solGenPer,\"%. \\r\\n\")\n",
    "print(\"Wind             \",'%.2f' % winCap,\"MW. \",'%.3f' % winCapPer,\"%. \",'%.2f' % winGen,\"MWh. \",'%.3f' % winGenPer,\"%. \\r\\n\")\n",
    "print(\"Other Fuel       \",'%.2f' % othCap,\"MW. \",'%.3f' % othCapPer,\"%. \",'%.2f' % othGen,\"MWh. \",'%.3f' % othGenPer,\"%. \\r\\n\")"
   ]
  },
  {
   "cell_type": "code",
   "execution_count": 140,
   "metadata": {},
   "outputs": [
    {
     "data": {
      "text/plain": [
       "dtype('O')"
      ]
     },
     "execution_count": 140,
     "metadata": {},
     "output_type": "execute_result"
    }
   ],
   "source": [
    "#7. Q2a. Find the total installed capacity of a subset of PJM plants that meet these requirements:\n",
    "# Fuel = Coal Gas Nuclear Hydro Oil\n",
    "# Plant Capacity Factor >= 0.01\n",
    "# Plant Nameplate capacity >= 1 MW\n",
    "# before filtering, need to make sure the type of CAPFAC is numeric\n",
    "subset[\"CAPFAC\"].dtype"
   ]
  },
  {
   "cell_type": "code",
   "execution_count": 141,
   "metadata": {},
   "outputs": [],
   "source": [
    "# Change CAPFAC to numeric\n",
    "subset.loc[:,\"CAPFAC\"]=pd.to_numeric(subset[\"CAPFAC\"])"
   ]
  },
  {
   "cell_type": "code",
   "execution_count": 142,
   "metadata": {},
   "outputs": [
    {
     "name": "stdout",
     "output_type": "stream",
     "text": [
      "The subset contains 426 plants\n"
     ]
    }
   ],
   "source": [
    "# We will filter by one criteria each time to see how many plants are excluded at each time\n",
    "# but you can combine the criteria using &\n",
    "subsetSub=subset[(subset.PLFUELCT==\"GAS\")|(subset.PLFUELCT==\"COAL\")|(subset.PLFUELCT==\"NUCLEAR\")|(subset.PLFUELCT==\"OIL\")|(subset.PLFUELCT==\"HYDRO\")|(subset.PLFUELCT==\"BIOMASS\")]\n",
    "print(\"The subset contains\",len(subsetSub),\"plants\")"
   ]
  },
  {
   "cell_type": "code",
   "execution_count": 143,
   "metadata": {},
   "outputs": [
    {
     "name": "stdout",
     "output_type": "stream",
     "text": [
      "The subset contains 418 plants\n"
     ]
    }
   ],
   "source": [
    "subsetSub=subsetSub[subsetSub.NAMEPCAP>1]\n",
    "print(\"The subset contains\",len(subsetSub),\"plants\")"
   ]
  },
  {
   "cell_type": "code",
   "execution_count": 144,
   "metadata": {},
   "outputs": [
    {
     "name": "stdout",
     "output_type": "stream",
     "text": [
      "The subset contains 322 plants\n"
     ]
    }
   ],
   "source": [
    "subsetSub=subsetSub[subsetSub.CAPFAC>0.01]  # This excludes that plants that have blanks as CF (which is ok)\n",
    "print(\"The subset contains\",len(subsetSub),\"plants\")"
   ]
  },
  {
   "cell_type": "code",
   "execution_count": 146,
   "metadata": {},
   "outputs": [
    {
     "name": "stdout",
     "output_type": "stream",
     "text": [
      "The total installed capacity of ISO New England plants with more than 1% of CF and more than 1 MW of nameplate is 30833.80 MW\n"
     ]
    }
   ],
   "source": [
    "subsetSubCap=subsetSub.NAMEPCAP.sum()\n",
    "print(\"The total installed capacity of\",ISOName,\"plants with more than 1% of CF and more than 1 MW of nameplate is\",'%.2f' %subsetSubCap,\"MW\")"
   ]
  },
  {
   "cell_type": "code",
   "execution_count": 147,
   "metadata": {},
   "outputs": [
    {
     "data": {
      "text/html": [
       "<div>\n",
       "<style scoped>\n",
       "    .dataframe tbody tr th:only-of-type {\n",
       "        vertical-align: middle;\n",
       "    }\n",
       "\n",
       "    .dataframe tbody tr th {\n",
       "        vertical-align: top;\n",
       "    }\n",
       "\n",
       "    .dataframe thead th {\n",
       "        text-align: right;\n",
       "    }\n",
       "</style>\n",
       "<table border=\"1\" class=\"dataframe\">\n",
       "  <thead>\n",
       "    <tr style=\"text-align: right;\">\n",
       "      <th></th>\n",
       "      <th>PNAME</th>\n",
       "      <th>NAMEPCAP</th>\n",
       "      <th>PLFUELCT</th>\n",
       "      <th>PLHTIAN</th>\n",
       "      <th>PLNGENAN</th>\n",
       "      <th>PLCO2EQA</th>\n",
       "    </tr>\n",
       "  </thead>\n",
       "  <tbody>\n",
       "    <tr>\n",
       "      <th>2412</th>\n",
       "      <td>Algonquin Power Windsor Locks, LLC</td>\n",
       "      <td>71</td>\n",
       "      <td>GAS</td>\n",
       "      <td>31384.936</td>\n",
       "      <td>124109.56</td>\n",
       "      <td>1955.479</td>\n",
       "    </tr>\n",
       "    <tr>\n",
       "      <th>2415</th>\n",
       "      <td>Backus Microgrid Project</td>\n",
       "      <td>10.4</td>\n",
       "      <td>OIL</td>\n",
       "      <td>10056</td>\n",
       "      <td>991.00</td>\n",
       "      <td>824.013</td>\n",
       "    </tr>\n",
       "    <tr>\n",
       "      <th>2418</th>\n",
       "      <td>Bradley Energy Center</td>\n",
       "      <td>5.8</td>\n",
       "      <td>GAS</td>\n",
       "      <td>97431.883</td>\n",
       "      <td>15274.00</td>\n",
       "      <td>5700.247</td>\n",
       "    </tr>\n",
       "    <tr>\n",
       "      <th>2421</th>\n",
       "      <td>Bridge Street 1 &amp; 2</td>\n",
       "      <td>5.2</td>\n",
       "      <td>OIL</td>\n",
       "      <td>4815</td>\n",
       "      <td>484.00</td>\n",
       "      <td>394.553</td>\n",
       "    </tr>\n",
       "    <tr>\n",
       "      <th>2422</th>\n",
       "      <td>Bridgeport Energy</td>\n",
       "      <td>520</td>\n",
       "      <td>GAS</td>\n",
       "      <td>17151757</td>\n",
       "      <td>2462934.00</td>\n",
       "      <td>1020354.717</td>\n",
       "    </tr>\n",
       "  </tbody>\n",
       "</table>\n",
       "</div>"
      ],
      "text/plain": [
       "                                   PNAME NAMEPCAP PLFUELCT    PLHTIAN  \\\n",
       "2412  Algonquin Power Windsor Locks, LLC       71      GAS  31384.936   \n",
       "2415            Backus Microgrid Project     10.4      OIL      10056   \n",
       "2418               Bradley Energy Center      5.8      GAS  97431.883   \n",
       "2421                 Bridge Street 1 & 2      5.2      OIL       4815   \n",
       "2422                   Bridgeport Energy      520      GAS   17151757   \n",
       "\n",
       "        PLNGENAN     PLCO2EQA  \n",
       "2412   124109.56     1955.479  \n",
       "2415      991.00      824.013  \n",
       "2418    15274.00     5700.247  \n",
       "2421      484.00      394.553  \n",
       "2422  2462934.00  1020354.717  "
      ]
     },
     "execution_count": 147,
     "metadata": {},
     "output_type": "execute_result"
    }
   ],
   "source": [
    "#8. Q2b. Plot the supply curve assuming all plants are those in the subsetSub\n",
    "# Before proceeding let's take just the columns that will be used\n",
    "subsetSub=subsetSub.loc[:,[\"PNAME\",\"NAMEPCAP\",\"PLFUELCT\",\"PLHTIAN\",\"PLNGENAN\",\"PLCO2EQA\"]]\n",
    "subsetSub.head(5)"
   ]
  },
  {
   "cell_type": "code",
   "execution_count": 148,
   "metadata": {},
   "outputs": [
    {
     "data": {
      "text/plain": [
       "dtype('O')"
      ]
     },
     "execution_count": 148,
     "metadata": {},
     "output_type": "execute_result"
    }
   ],
   "source": [
    "# check the type of PLHTIAN\n",
    "subsetSub[\"PLHTIAN\"].dtype"
   ]
  },
  {
   "cell_type": "code",
   "execution_count": 149,
   "metadata": {},
   "outputs": [
    {
     "data": {
      "text/plain": [
       "dtype('float64')"
      ]
     },
     "execution_count": 149,
     "metadata": {},
     "output_type": "execute_result"
    }
   ],
   "source": [
    "# convert PLHTIAN to numeric\n",
    "subsetSub[\"PLHTIAN\"]=pd.to_numeric(subsetSub[\"PLHTIAN\"])\n",
    "subsetSub[\"PLHTIAN\"].dtype"
   ]
  },
  {
   "cell_type": "code",
   "execution_count": 150,
   "metadata": {},
   "outputs": [],
   "source": [
    "# To build the supply curve we need to find the marginal cost of each plant first\n",
    "# will assume marginal cost for coal/gas plants is fuel cost only\n",
    "# Need to calculate fuel cost by multiplying heat-rate and fuel price\n",
    "# First calculate HEAT RATE -->HEAT RATE (MMBTU/MWH) = ANNUAL HEAT INPUT (MMBTU)/ANNUAL GENERATION (MWH)\n",
    "# Add heat-rate as a new column to pjmSub\n",
    "subsetSub[\"HEATRATE\"]=subsetSub[\"PLHTIAN\"] / subsetSub[\"PLNGENAN\"]"
   ]
  },
  {
   "cell_type": "code",
   "execution_count": 151,
   "metadata": {},
   "outputs": [
    {
     "data": {
      "text/html": [
       "<div>\n",
       "<style scoped>\n",
       "    .dataframe tbody tr th:only-of-type {\n",
       "        vertical-align: middle;\n",
       "    }\n",
       "\n",
       "    .dataframe tbody tr th {\n",
       "        vertical-align: top;\n",
       "    }\n",
       "\n",
       "    .dataframe thead th {\n",
       "        text-align: right;\n",
       "    }\n",
       "</style>\n",
       "<table border=\"1\" class=\"dataframe\">\n",
       "  <thead>\n",
       "    <tr style=\"text-align: right;\">\n",
       "      <th></th>\n",
       "      <th>PNAME</th>\n",
       "      <th>NAMEPCAP</th>\n",
       "      <th>PLFUELCT</th>\n",
       "      <th>PLHTIAN</th>\n",
       "      <th>PLNGENAN</th>\n",
       "      <th>PLCO2EQA</th>\n",
       "      <th>HEATRATE</th>\n",
       "    </tr>\n",
       "  </thead>\n",
       "  <tbody>\n",
       "    <tr>\n",
       "      <th>2412</th>\n",
       "      <td>Algonquin Power Windsor Locks, LLC</td>\n",
       "      <td>71</td>\n",
       "      <td>GAS</td>\n",
       "      <td>3.138494e+04</td>\n",
       "      <td>124109.56</td>\n",
       "      <td>1955.479</td>\n",
       "      <td>0.252881</td>\n",
       "    </tr>\n",
       "    <tr>\n",
       "      <th>2415</th>\n",
       "      <td>Backus Microgrid Project</td>\n",
       "      <td>10.4</td>\n",
       "      <td>OIL</td>\n",
       "      <td>1.005600e+04</td>\n",
       "      <td>991.00</td>\n",
       "      <td>824.013</td>\n",
       "      <td>10.147326</td>\n",
       "    </tr>\n",
       "    <tr>\n",
       "      <th>2418</th>\n",
       "      <td>Bradley Energy Center</td>\n",
       "      <td>5.8</td>\n",
       "      <td>GAS</td>\n",
       "      <td>9.743188e+04</td>\n",
       "      <td>15274.00</td>\n",
       "      <td>5700.247</td>\n",
       "      <td>6.378937</td>\n",
       "    </tr>\n",
       "    <tr>\n",
       "      <th>2421</th>\n",
       "      <td>Bridge Street 1 &amp; 2</td>\n",
       "      <td>5.2</td>\n",
       "      <td>OIL</td>\n",
       "      <td>4.815000e+03</td>\n",
       "      <td>484.00</td>\n",
       "      <td>394.553</td>\n",
       "      <td>9.948347</td>\n",
       "    </tr>\n",
       "    <tr>\n",
       "      <th>2422</th>\n",
       "      <td>Bridgeport Energy</td>\n",
       "      <td>520</td>\n",
       "      <td>GAS</td>\n",
       "      <td>1.715176e+07</td>\n",
       "      <td>2462934.00</td>\n",
       "      <td>1020354.717</td>\n",
       "      <td>6.963953</td>\n",
       "    </tr>\n",
       "  </tbody>\n",
       "</table>\n",
       "</div>"
      ],
      "text/plain": [
       "                                   PNAME NAMEPCAP PLFUELCT       PLHTIAN  \\\n",
       "2412  Algonquin Power Windsor Locks, LLC       71      GAS  3.138494e+04   \n",
       "2415            Backus Microgrid Project     10.4      OIL  1.005600e+04   \n",
       "2418               Bradley Energy Center      5.8      GAS  9.743188e+04   \n",
       "2421                 Bridge Street 1 & 2      5.2      OIL  4.815000e+03   \n",
       "2422                   Bridgeport Energy      520      GAS  1.715176e+07   \n",
       "\n",
       "        PLNGENAN     PLCO2EQA   HEATRATE  \n",
       "2412   124109.56     1955.479   0.252881  \n",
       "2415      991.00      824.013  10.147326  \n",
       "2418    15274.00     5700.247   6.378937  \n",
       "2421      484.00      394.553   9.948347  \n",
       "2422  2462934.00  1020354.717   6.963953  "
      ]
     },
     "execution_count": 151,
     "metadata": {},
     "output_type": "execute_result"
    }
   ],
   "source": [
    "# let's check that we added the new column heat rate by looking at the first 5 rows\n",
    "#The non-thermal plants (e.g., nucclear did not consume BTUs as fuel so the heatrate will be meaningless but that is ok)\n",
    "subsetSub.head(5)"
   ]
  },
  {
   "cell_type": "code",
   "execution_count": 152,
   "metadata": {},
   "outputs": [
    {
     "data": {
      "text/html": [
       "<div>\n",
       "<style scoped>\n",
       "    .dataframe tbody tr th:only-of-type {\n",
       "        vertical-align: middle;\n",
       "    }\n",
       "\n",
       "    .dataframe tbody tr th {\n",
       "        vertical-align: top;\n",
       "    }\n",
       "\n",
       "    .dataframe thead th {\n",
       "        text-align: right;\n",
       "    }\n",
       "</style>\n",
       "<table border=\"1\" class=\"dataframe\">\n",
       "  <thead>\n",
       "    <tr style=\"text-align: right;\">\n",
       "      <th></th>\n",
       "      <th>PNAME</th>\n",
       "      <th>NAMEPCAP</th>\n",
       "      <th>PLFUELCT</th>\n",
       "      <th>PLHTIAN</th>\n",
       "      <th>PLNGENAN</th>\n",
       "      <th>PLCO2EQA</th>\n",
       "      <th>HEATRATE</th>\n",
       "      <th>MARGCOST</th>\n",
       "    </tr>\n",
       "  </thead>\n",
       "  <tbody>\n",
       "    <tr>\n",
       "      <th>2412</th>\n",
       "      <td>Algonquin Power Windsor Locks, LLC</td>\n",
       "      <td>71</td>\n",
       "      <td>GAS</td>\n",
       "      <td>3.138494e+04</td>\n",
       "      <td>124109.56</td>\n",
       "      <td>1955.479</td>\n",
       "      <td>0.252881</td>\n",
       "      <td>0</td>\n",
       "    </tr>\n",
       "    <tr>\n",
       "      <th>2415</th>\n",
       "      <td>Backus Microgrid Project</td>\n",
       "      <td>10.4</td>\n",
       "      <td>OIL</td>\n",
       "      <td>1.005600e+04</td>\n",
       "      <td>991.00</td>\n",
       "      <td>824.013</td>\n",
       "      <td>10.147326</td>\n",
       "      <td>0</td>\n",
       "    </tr>\n",
       "    <tr>\n",
       "      <th>2418</th>\n",
       "      <td>Bradley Energy Center</td>\n",
       "      <td>5.8</td>\n",
       "      <td>GAS</td>\n",
       "      <td>9.743188e+04</td>\n",
       "      <td>15274.00</td>\n",
       "      <td>5700.247</td>\n",
       "      <td>6.378937</td>\n",
       "      <td>0</td>\n",
       "    </tr>\n",
       "    <tr>\n",
       "      <th>2421</th>\n",
       "      <td>Bridge Street 1 &amp; 2</td>\n",
       "      <td>5.2</td>\n",
       "      <td>OIL</td>\n",
       "      <td>4.815000e+03</td>\n",
       "      <td>484.00</td>\n",
       "      <td>394.553</td>\n",
       "      <td>9.948347</td>\n",
       "      <td>0</td>\n",
       "    </tr>\n",
       "    <tr>\n",
       "      <th>2422</th>\n",
       "      <td>Bridgeport Energy</td>\n",
       "      <td>520</td>\n",
       "      <td>GAS</td>\n",
       "      <td>1.715176e+07</td>\n",
       "      <td>2462934.00</td>\n",
       "      <td>1020354.717</td>\n",
       "      <td>6.963953</td>\n",
       "      <td>0</td>\n",
       "    </tr>\n",
       "  </tbody>\n",
       "</table>\n",
       "</div>"
      ],
      "text/plain": [
       "                                   PNAME NAMEPCAP PLFUELCT       PLHTIAN  \\\n",
       "2412  Algonquin Power Windsor Locks, LLC       71      GAS  3.138494e+04   \n",
       "2415            Backus Microgrid Project     10.4      OIL  1.005600e+04   \n",
       "2418               Bradley Energy Center      5.8      GAS  9.743188e+04   \n",
       "2421                 Bridge Street 1 & 2      5.2      OIL  4.815000e+03   \n",
       "2422                   Bridgeport Energy      520      GAS  1.715176e+07   \n",
       "\n",
       "        PLNGENAN     PLCO2EQA   HEATRATE  MARGCOST  \n",
       "2412   124109.56     1955.479   0.252881         0  \n",
       "2415      991.00      824.013  10.147326         0  \n",
       "2418    15274.00     5700.247   6.378937         0  \n",
       "2421      484.00      394.553   9.948347         0  \n",
       "2422  2462934.00  1020354.717   6.963953         0  "
      ]
     },
     "execution_count": 152,
     "metadata": {},
     "output_type": "execute_result"
    }
   ],
   "source": [
    "# Now lets create a column of marginal cost in $MWh\n",
    "# Initialize the new column in zeros\n",
    "subsetSub[\"MARGCOST\"]=0      \n",
    "subsetSub.head(5)"
   ]
  },
  {
   "cell_type": "code",
   "execution_count": 153,
   "metadata": {},
   "outputs": [
    {
     "data": {
      "text/html": [
       "<div>\n",
       "<style scoped>\n",
       "    .dataframe tbody tr th:only-of-type {\n",
       "        vertical-align: middle;\n",
       "    }\n",
       "\n",
       "    .dataframe tbody tr th {\n",
       "        vertical-align: top;\n",
       "    }\n",
       "\n",
       "    .dataframe thead th {\n",
       "        text-align: right;\n",
       "    }\n",
       "</style>\n",
       "<table border=\"1\" class=\"dataframe\">\n",
       "  <thead>\n",
       "    <tr style=\"text-align: right;\">\n",
       "      <th></th>\n",
       "      <th>PNAME</th>\n",
       "      <th>NAMEPCAP</th>\n",
       "      <th>PLFUELCT</th>\n",
       "      <th>PLHTIAN</th>\n",
       "      <th>PLNGENAN</th>\n",
       "      <th>PLCO2EQA</th>\n",
       "      <th>HEATRATE</th>\n",
       "      <th>MARGCOST</th>\n",
       "    </tr>\n",
       "  </thead>\n",
       "  <tbody>\n",
       "    <tr>\n",
       "      <th>2412</th>\n",
       "      <td>Algonquin Power Windsor Locks, LLC</td>\n",
       "      <td>71</td>\n",
       "      <td>GAS</td>\n",
       "      <td>3.138494e+04</td>\n",
       "      <td>124109.56</td>\n",
       "      <td>1955.479</td>\n",
       "      <td>0.252881</td>\n",
       "      <td>0.730826</td>\n",
       "    </tr>\n",
       "    <tr>\n",
       "      <th>2415</th>\n",
       "      <td>Backus Microgrid Project</td>\n",
       "      <td>10.4</td>\n",
       "      <td>OIL</td>\n",
       "      <td>1.005600e+04</td>\n",
       "      <td>991.00</td>\n",
       "      <td>824.013</td>\n",
       "      <td>10.147326</td>\n",
       "      <td>152.209889</td>\n",
       "    </tr>\n",
       "    <tr>\n",
       "      <th>2418</th>\n",
       "      <td>Bradley Energy Center</td>\n",
       "      <td>5.8</td>\n",
       "      <td>GAS</td>\n",
       "      <td>9.743188e+04</td>\n",
       "      <td>15274.00</td>\n",
       "      <td>5700.247</td>\n",
       "      <td>6.378937</td>\n",
       "      <td>18.435128</td>\n",
       "    </tr>\n",
       "    <tr>\n",
       "      <th>2421</th>\n",
       "      <td>Bridge Street 1 &amp; 2</td>\n",
       "      <td>5.2</td>\n",
       "      <td>OIL</td>\n",
       "      <td>4.815000e+03</td>\n",
       "      <td>484.00</td>\n",
       "      <td>394.553</td>\n",
       "      <td>9.948347</td>\n",
       "      <td>149.225207</td>\n",
       "    </tr>\n",
       "    <tr>\n",
       "      <th>2422</th>\n",
       "      <td>Bridgeport Energy</td>\n",
       "      <td>520</td>\n",
       "      <td>GAS</td>\n",
       "      <td>1.715176e+07</td>\n",
       "      <td>2462934.00</td>\n",
       "      <td>1020354.717</td>\n",
       "      <td>6.963953</td>\n",
       "      <td>20.125825</td>\n",
       "    </tr>\n",
       "  </tbody>\n",
       "</table>\n",
       "</div>"
      ],
      "text/plain": [
       "                                   PNAME NAMEPCAP PLFUELCT       PLHTIAN  \\\n",
       "2412  Algonquin Power Windsor Locks, LLC       71      GAS  3.138494e+04   \n",
       "2415            Backus Microgrid Project     10.4      OIL  1.005600e+04   \n",
       "2418               Bradley Energy Center      5.8      GAS  9.743188e+04   \n",
       "2421                 Bridge Street 1 & 2      5.2      OIL  4.815000e+03   \n",
       "2422                   Bridgeport Energy      520      GAS  1.715176e+07   \n",
       "\n",
       "        PLNGENAN     PLCO2EQA   HEATRATE    MARGCOST  \n",
       "2412   124109.56     1955.479   0.252881    0.730826  \n",
       "2415      991.00      824.013  10.147326  152.209889  \n",
       "2418    15274.00     5700.247   6.378937   18.435128  \n",
       "2421      484.00      394.553   9.948347  149.225207  \n",
       "2422  2462934.00  1020354.717   6.963953   20.125825  "
      ]
     },
     "execution_count": 153,
     "metadata": {},
     "output_type": "execute_result"
    }
   ],
   "source": [
    "coal_price=2.02 # $/MMBTU\n",
    "gas_price=2.89 # $/MMBTU\n",
    "nuclear_mc=9 # $/MWh\n",
    "hydro_mc=6 # $/MWh\n",
    "oil_price=15 #$MMBTU\n",
    "biomass_price=11.69 #$/MMBTU\n",
    "# walk through all the rows of plants and change the MARGCOST depending on fuel\n",
    "\n",
    "for i in range(0,len(subsetSub)):\n",
    "    if subsetSub.iloc[i,2]==\"COAL\":                     # Remember to use == to compare and = to assign\n",
    "        subsetSub.iloc[i,7]=coal_price*subsetSub.iloc[i,6] # MARGCOST is column 7 because python starts counting from 0\n",
    "    elif subsetSub.iloc[i,2]==\"GAS\":                     \n",
    "         subsetSub.iloc[i,7]=gas_price*subsetSub.iloc[i,6]\n",
    "    elif subsetSub.iloc[i,2]==\"NUCLEAR\":                     \n",
    "         subsetSub.iloc[i,7]=nuclear_mc \n",
    "    elif subsetSub.iloc[i,2]==\"HYDRO\":                     \n",
    "         subsetSub.iloc[i,7]=hydro_mc \n",
    "    elif subsetSub.iloc[i,2]==\"BIOMASS\":                     \n",
    "         subsetSub.iloc[i,7]=biomass_price*subsetSub.iloc[i,6]\n",
    "    else:                   \n",
    "         subsetSub.iloc[i,7]=oil_price*subsetSub.iloc[i,6] \n",
    "subsetSub.head(5)"
   ]
  },
  {
   "cell_type": "code",
   "execution_count": 154,
   "metadata": {},
   "outputs": [
    {
     "data": {
      "text/html": [
       "<div>\n",
       "<style scoped>\n",
       "    .dataframe tbody tr th:only-of-type {\n",
       "        vertical-align: middle;\n",
       "    }\n",
       "\n",
       "    .dataframe tbody tr th {\n",
       "        vertical-align: top;\n",
       "    }\n",
       "\n",
       "    .dataframe thead th {\n",
       "        text-align: right;\n",
       "    }\n",
       "</style>\n",
       "<table border=\"1\" class=\"dataframe\">\n",
       "  <thead>\n",
       "    <tr style=\"text-align: right;\">\n",
       "      <th></th>\n",
       "      <th>PNAME</th>\n",
       "      <th>NAMEPCAP</th>\n",
       "      <th>PLFUELCT</th>\n",
       "      <th>PLHTIAN</th>\n",
       "      <th>PLNGENAN</th>\n",
       "      <th>PLCO2EQA</th>\n",
       "      <th>HEATRATE</th>\n",
       "      <th>MARGCOST</th>\n",
       "      <th>CUMCAP</th>\n",
       "    </tr>\n",
       "  </thead>\n",
       "  <tbody>\n",
       "    <tr>\n",
       "      <th>2412</th>\n",
       "      <td>Algonquin Power Windsor Locks, LLC</td>\n",
       "      <td>71</td>\n",
       "      <td>GAS</td>\n",
       "      <td>31384.936</td>\n",
       "      <td>124109.560</td>\n",
       "      <td>1955.479</td>\n",
       "      <td>0.252881</td>\n",
       "      <td>0.730826</td>\n",
       "      <td>0</td>\n",
       "    </tr>\n",
       "    <tr>\n",
       "      <th>5133</th>\n",
       "      <td>Orono Hydro Station</td>\n",
       "      <td>2.7</td>\n",
       "      <td>HYDRO</td>\n",
       "      <td>NaN</td>\n",
       "      <td>9689.000</td>\n",
       "      <td></td>\n",
       "      <td>NaN</td>\n",
       "      <td>6.000000</td>\n",
       "      <td>0</td>\n",
       "    </tr>\n",
       "    <tr>\n",
       "      <th>5134</th>\n",
       "      <td>Otis Hydro</td>\n",
       "      <td>10.2</td>\n",
       "      <td>HYDRO</td>\n",
       "      <td>NaN</td>\n",
       "      <td>55817.000</td>\n",
       "      <td></td>\n",
       "      <td>NaN</td>\n",
       "      <td>6.000000</td>\n",
       "      <td>0</td>\n",
       "    </tr>\n",
       "    <tr>\n",
       "      <th>5137</th>\n",
       "      <td>Pejepscot Hydroelectric Project</td>\n",
       "      <td>13.5</td>\n",
       "      <td>HYDRO</td>\n",
       "      <td>NaN</td>\n",
       "      <td>42702.000</td>\n",
       "      <td></td>\n",
       "      <td>NaN</td>\n",
       "      <td>6.000000</td>\n",
       "      <td>0</td>\n",
       "    </tr>\n",
       "    <tr>\n",
       "      <th>5141</th>\n",
       "      <td>Pittsfield Hydro</td>\n",
       "      <td>1.1</td>\n",
       "      <td>HYDRO</td>\n",
       "      <td>NaN</td>\n",
       "      <td>4228.001</td>\n",
       "      <td></td>\n",
       "      <td>NaN</td>\n",
       "      <td>6.000000</td>\n",
       "      <td>0</td>\n",
       "    </tr>\n",
       "  </tbody>\n",
       "</table>\n",
       "</div>"
      ],
      "text/plain": [
       "                                   PNAME NAMEPCAP PLFUELCT    PLHTIAN  \\\n",
       "2412  Algonquin Power Windsor Locks, LLC       71      GAS  31384.936   \n",
       "5133                 Orono Hydro Station      2.7    HYDRO        NaN   \n",
       "5134                          Otis Hydro     10.2    HYDRO        NaN   \n",
       "5137     Pejepscot Hydroelectric Project     13.5    HYDRO        NaN   \n",
       "5141                    Pittsfield Hydro      1.1    HYDRO        NaN   \n",
       "\n",
       "        PLNGENAN  PLCO2EQA  HEATRATE  MARGCOST  CUMCAP  \n",
       "2412  124109.560  1955.479  0.252881  0.730826       0  \n",
       "5133    9689.000                 NaN  6.000000       0  \n",
       "5134   55817.000                 NaN  6.000000       0  \n",
       "5137   42702.000                 NaN  6.000000       0  \n",
       "5141    4228.001                 NaN  6.000000       0  "
      ]
     },
     "execution_count": 154,
     "metadata": {},
     "output_type": "execute_result"
    }
   ],
   "source": [
    "# Now create three new datasets of baseload plants with the new columns\n",
    "coal2=subsetSub[subsetSub[\"PLFUELCT\"]==\"COAL\"]\n",
    "gas2=subsetSub[subsetSub[\"PLFUELCT\"]==\"GAS\"]\n",
    "nuclear2=subsetSub[subsetSub[\"PLFUELCT\"]==\"NUCLEAR\"]\n",
    "oil2=subsetSub[subsetSub[\"PLFUELCT\"]==\"OIL\"]\n",
    "hydro2=subsetSub[subsetSub[\"PLFUELCT\"]==\"HYDRO\"]\n",
    "biomass2=subsetSub[subsetSub[\"PLFUELCT\"]==\"BIOMASS\"]\n",
    "# now sort all the plants in ASCENDING order by MARGCOST using sort_values\n",
    "subsetSubSorted=subsetSub.sort_values(\"MARGCOST\")\n",
    "# now create a column with the cummulative capacity [MW] offered at that MARGCOST or less and initialize in zero\n",
    "subsetSubSorted[\"CUMCAP\"]=0\n",
    "subsetSubSorted.head(5)"
   ]
  },
  {
   "cell_type": "code",
   "execution_count": 160,
   "metadata": {},
   "outputs": [
    {
     "data": {
      "text/html": [
       "<div>\n",
       "<style scoped>\n",
       "    .dataframe tbody tr th:only-of-type {\n",
       "        vertical-align: middle;\n",
       "    }\n",
       "\n",
       "    .dataframe tbody tr th {\n",
       "        vertical-align: top;\n",
       "    }\n",
       "\n",
       "    .dataframe thead th {\n",
       "        text-align: right;\n",
       "    }\n",
       "</style>\n",
       "<table border=\"1\" class=\"dataframe\">\n",
       "  <thead>\n",
       "    <tr style=\"text-align: right;\">\n",
       "      <th></th>\n",
       "      <th>PNAME</th>\n",
       "      <th>NAMEPCAP</th>\n",
       "      <th>PLFUELCT</th>\n",
       "      <th>PLHTIAN</th>\n",
       "      <th>PLNGENAN</th>\n",
       "      <th>PLCO2EQA</th>\n",
       "      <th>HEATRATE</th>\n",
       "      <th>MARGCOST</th>\n",
       "      <th>CUMCAP</th>\n",
       "    </tr>\n",
       "  </thead>\n",
       "  <tbody>\n",
       "    <tr>\n",
       "      <th>4603</th>\n",
       "      <td>GRS Fall River</td>\n",
       "      <td>7.3</td>\n",
       "      <td>BIOMASS</td>\n",
       "      <td>351579.000</td>\n",
       "      <td>16361.0</td>\n",
       "      <td>0.001</td>\n",
       "      <td>21.488845</td>\n",
       "      <td>251.204603</td>\n",
       "      <td>30716.1</td>\n",
       "    </tr>\n",
       "    <tr>\n",
       "      <th>2449</th>\n",
       "      <td>CT Resource Rec Authority Facility</td>\n",
       "      <td>90</td>\n",
       "      <td>BIOMASS</td>\n",
       "      <td>5464231.250</td>\n",
       "      <td>252925.0</td>\n",
       "      <td>312898.956</td>\n",
       "      <td>21.604156</td>\n",
       "      <td>252.552588</td>\n",
       "      <td>30806.1</td>\n",
       "    </tr>\n",
       "    <tr>\n",
       "      <th>5149</th>\n",
       "      <td>Regional Waste Systems</td>\n",
       "      <td>13.3</td>\n",
       "      <td>BIOMASS</td>\n",
       "      <td>1785627.875</td>\n",
       "      <td>79415.0</td>\n",
       "      <td>102246</td>\n",
       "      <td>22.484768</td>\n",
       "      <td>262.846941</td>\n",
       "      <td>30819.4</td>\n",
       "    </tr>\n",
       "    <tr>\n",
       "      <th>4755</th>\n",
       "      <td>Pioneer Valley Resource Recovery</td>\n",
       "      <td>9.4</td>\n",
       "      <td>BIOMASS</td>\n",
       "      <td>1044714.000</td>\n",
       "      <td>33448.0</td>\n",
       "      <td>60097.424</td>\n",
       "      <td>31.233975</td>\n",
       "      <td>365.125169</td>\n",
       "      <td>30828.8</td>\n",
       "    </tr>\n",
       "    <tr>\n",
       "      <th>5128</th>\n",
       "      <td>MMWAC Resource Recovery Facility</td>\n",
       "      <td>5</td>\n",
       "      <td>BIOMASS</td>\n",
       "      <td>748706.000</td>\n",
       "      <td>16100.0</td>\n",
       "      <td>43038.482</td>\n",
       "      <td>46.503478</td>\n",
       "      <td>543.625661</td>\n",
       "      <td>30833.8</td>\n",
       "    </tr>\n",
       "  </tbody>\n",
       "</table>\n",
       "</div>"
      ],
      "text/plain": [
       "                                   PNAME NAMEPCAP PLFUELCT      PLHTIAN  \\\n",
       "4603                      GRS Fall River      7.3  BIOMASS   351579.000   \n",
       "2449  CT Resource Rec Authority Facility       90  BIOMASS  5464231.250   \n",
       "5149              Regional Waste Systems     13.3  BIOMASS  1785627.875   \n",
       "4755    Pioneer Valley Resource Recovery      9.4  BIOMASS  1044714.000   \n",
       "5128    MMWAC Resource Recovery Facility        5  BIOMASS   748706.000   \n",
       "\n",
       "      PLNGENAN    PLCO2EQA   HEATRATE    MARGCOST   CUMCAP  \n",
       "4603   16361.0       0.001  21.488845  251.204603  30716.1  \n",
       "2449  252925.0  312898.956  21.604156  252.552588  30806.1  \n",
       "5149   79415.0      102246  22.484768  262.846941  30819.4  \n",
       "4755   33448.0   60097.424  31.233975  365.125169  30828.8  \n",
       "5128   16100.0   43038.482  46.503478  543.625661  30833.8  "
      ]
     },
     "execution_count": 160,
     "metadata": {},
     "output_type": "execute_result"
    }
   ],
   "source": [
    "# The first row of the CUMCAP column is just the NAMECAP of that plant (in that row)\n",
    "subsetSubSorted.iloc[0,8]=subsetSubSorted.iloc[0,1]\n",
    "# Now walk through all the rows adding the cumulative capacity. Start at row 1 since row 0 has already the right CUMCAP\n",
    "for i in range (1,len(subsetSubSorted)):  \n",
    "               subsetSubSorted.iloc[i,8]=subsetSubSorted.iloc[i-1,8]+subsetSubSorted.iloc[i,1]\n",
    "#Lets find the total installed power capacity. The last value in the CUMCAP column is the maximum demand that can be served\n",
    "subsetSubSorted.tail(5)"
   ]
  },
  {
   "cell_type": "code",
   "execution_count": 162,
   "metadata": {},
   "outputs": [
    {
     "name": "stdout",
     "output_type": "stream",
     "text": [
      "The maximum demand that can be served in ISO New England with the power plants contained in the PLNT19 tab of eGRID2019, that had a capacity of more than 1 MW and a CF f more than 1% is 30833.8 MW\n"
     ]
    }
   ],
   "source": [
    "\n",
    "print(\"The maximum demand that can be served in\", ISOName,\"with the power plants contained in the PLNT19 tab of eGRID2019, that had a capacity of more than 1 MW and a CF f more than 1% is\", subsetSubSorted.iloc[321,8], \"MW\")"
   ]
  },
  {
   "cell_type": "code",
   "execution_count": 163,
   "metadata": {},
   "outputs": [],
   "source": [
    "# Now create three new datasets of coal and gas with the new columns MARGCOST and CUMCAP sorted so we can differentiate them\n",
    "# in the plot\n",
    "coalSorted=subsetSubSorted[subsetSubSorted[\"PLFUELCT\"]==\"COAL\"]\n",
    "gasSorted=subsetSubSorted[subsetSubSorted[\"PLFUELCT\"]==\"GAS\"]\n",
    "nuclearSorted=subsetSubSorted[subsetSubSorted[\"PLFUELCT\"]==\"NUCLEAR\"]\n",
    "oilSorted=subsetSubSorted[subsetSubSorted[\"PLFUELCT\"]==\"OIL\"]\n",
    "hydroSorted=subsetSubSorted[subsetSubSorted[\"PLFUELCT\"]==\"HYDRO\"]\n",
    "bioSorted=subsetSubSorted[subsetSubSorted[\"PLFUELCT\"]==\"BIOMASS\"]"
   ]
  },
  {
   "cell_type": "code",
   "execution_count": 164,
   "metadata": {},
   "outputs": [
    {
     "data": {
      "text/html": [
       "<div>\n",
       "<style scoped>\n",
       "    .dataframe tbody tr th:only-of-type {\n",
       "        vertical-align: middle;\n",
       "    }\n",
       "\n",
       "    .dataframe tbody tr th {\n",
       "        vertical-align: top;\n",
       "    }\n",
       "\n",
       "    .dataframe thead th {\n",
       "        text-align: right;\n",
       "    }\n",
       "</style>\n",
       "<table border=\"1\" class=\"dataframe\">\n",
       "  <thead>\n",
       "    <tr style=\"text-align: right;\">\n",
       "      <th></th>\n",
       "      <th>PNAME</th>\n",
       "      <th>NAMEPCAP</th>\n",
       "      <th>PLFUELCT</th>\n",
       "      <th>PLHTIAN</th>\n",
       "      <th>PLNGENAN</th>\n",
       "      <th>PLCO2EQA</th>\n",
       "      <th>HEATRATE</th>\n",
       "      <th>MARGCOST</th>\n",
       "      <th>CUMCAP</th>\n",
       "    </tr>\n",
       "  </thead>\n",
       "  <tbody>\n",
       "    <tr>\n",
       "      <th>4526</th>\n",
       "      <td>Deer Island Treatment</td>\n",
       "      <td>85</td>\n",
       "      <td>BIOMASS</td>\n",
       "      <td>218526.698</td>\n",
       "      <td>43366.55</td>\n",
       "      <td>1617.463</td>\n",
       "      <td>5.039061</td>\n",
       "      <td>58.906625</td>\n",
       "      <td>27244.6</td>\n",
       "    </tr>\n",
       "    <tr>\n",
       "      <th>7563</th>\n",
       "      <td>UNH 7.9 MW Plant</td>\n",
       "      <td>7.9</td>\n",
       "      <td>BIOMASS</td>\n",
       "      <td>261545.814</td>\n",
       "      <td>51648.00</td>\n",
       "      <td>3761.652</td>\n",
       "      <td>5.064007</td>\n",
       "      <td>59.198237</td>\n",
       "      <td>27252.5</td>\n",
       "    </tr>\n",
       "    <tr>\n",
       "      <th>5164</th>\n",
       "      <td>Somerset Plant</td>\n",
       "      <td>107.1</td>\n",
       "      <td>BIOMASS</td>\n",
       "      <td>2951756.118</td>\n",
       "      <td>531715.00</td>\n",
       "      <td>31454.329</td>\n",
       "      <td>5.551388</td>\n",
       "      <td>64.895722</td>\n",
       "      <td>29184.6</td>\n",
       "    </tr>\n",
       "    <tr>\n",
       "      <th>5065</th>\n",
       "      <td>Androscoggin Mill</td>\n",
       "      <td>80</td>\n",
       "      <td>BIOMASS</td>\n",
       "      <td>2152056.213</td>\n",
       "      <td>387253.00</td>\n",
       "      <td>7983.59</td>\n",
       "      <td>5.557236</td>\n",
       "      <td>64.964086</td>\n",
       "      <td>29264.6</td>\n",
       "    </tr>\n",
       "    <tr>\n",
       "      <th>11309</th>\n",
       "      <td>Middlebury College</td>\n",
       "      <td>1.6</td>\n",
       "      <td>BIOMASS</td>\n",
       "      <td>19050.523</td>\n",
       "      <td>3395.00</td>\n",
       "      <td>658.936</td>\n",
       "      <td>5.611347</td>\n",
       "      <td>65.596646</td>\n",
       "      <td>29266.2</td>\n",
       "    </tr>\n",
       "  </tbody>\n",
       "</table>\n",
       "</div>"
      ],
      "text/plain": [
       "                       PNAME NAMEPCAP PLFUELCT      PLHTIAN   PLNGENAN  \\\n",
       "4526   Deer Island Treatment       85  BIOMASS   218526.698   43366.55   \n",
       "7563        UNH 7.9 MW Plant      7.9  BIOMASS   261545.814   51648.00   \n",
       "5164          Somerset Plant    107.1  BIOMASS  2951756.118  531715.00   \n",
       "5065       Androscoggin Mill       80  BIOMASS  2152056.213  387253.00   \n",
       "11309     Middlebury College      1.6  BIOMASS    19050.523    3395.00   \n",
       "\n",
       "        PLCO2EQA  HEATRATE   MARGCOST   CUMCAP  \n",
       "4526    1617.463  5.039061  58.906625  27244.6  \n",
       "7563    3761.652  5.064007  59.198237  27252.5  \n",
       "5164   31454.329  5.551388  64.895722  29184.6  \n",
       "5065     7983.59  5.557236  64.964086  29264.6  \n",
       "11309    658.936  5.611347  65.596646  29266.2  "
      ]
     },
     "execution_count": 164,
     "metadata": {},
     "output_type": "execute_result"
    }
   ],
   "source": [
    "bioSorted.head(5)"
   ]
  },
  {
   "cell_type": "code",
   "execution_count": 165,
   "metadata": {},
   "outputs": [
    {
     "data": {
      "image/png": "[encoded data removed]",
      "text/plain": [
       "<Figure size 432x288 with 1 Axes>"
      ]
     },
     "metadata": {
      "needs_background": "light"
     },
     "output_type": "display_data"
    }
   ],
   "source": [
    "plt.scatter(coalSorted[\"CUMCAP\"],coalSorted[\"MARGCOST\"],marker=\"o\",label=\"COAL PLANTS\")\n",
    "plt.scatter(gasSorted[\"CUMCAP\"],gasSorted[\"MARGCOST\"],marker=\"+\",label=\"GAS PLANTS\")\n",
    "plt.scatter(oilSorted[\"CUMCAP\"],oilSorted[\"MARGCOST\"],marker=\"*\",label=\"OIL PLANTS\")\n",
    "plt.scatter(nuclearSorted[\"CUMCAP\"],nuclearSorted[\"MARGCOST\"],marker=\".\",label=\"NUCLEAR PLANTS\")\n",
    "plt.scatter(hydroSorted[\"CUMCAP\"],hydroSorted[\"MARGCOST\"],marker=\"s\",label=\"HYDRO PLANTS\")\n",
    "plt.scatter(bioSorted[\"CUMCAP\"],bioSorted[\"MARGCOST\"],marker=\"v\",label=\"BIOMASS PLANTS\")\n",
    "plt.title(ISOName+\" Power supply curve from coal, gas, oil, nuclear, hydro, and biomass\",fontsize=16)\n",
    "plt.xlabel(\"Cumulative Power Capacity (MW))\", fontsize=14)\n",
    "plt.ylabel(\"$/MWh\",fontsize=14)\n",
    "plt.legend(fontsize=12)\n",
    "plt.show()\n"
   ]
  },
  {
   "cell_type": "code",
   "execution_count": 166,
   "metadata": {},
   "outputs": [
    {
     "name": "stdout",
     "output_type": "stream",
     "text": [
      "ISO New England Power supply curve from coal, gas, oil, nuclear, hydro, and biomass\n"
     ]
    }
   ],
   "source": [
    "title = ISOName+\" Power supply curve from coal, gas, oil, nuclear, hydro, and biomass\"\n",
    "print(title)"
   ]
  },
  {
   "cell_type": "code",
   "execution_count": 168,
   "metadata": {},
   "outputs": [
    {
     "name": "stdout",
     "output_type": "stream",
     "text": [
      "there are a total of 322 baseload plants with CF > 1% and Capacity > 1MW\n"
     ]
    }
   ],
   "source": [
    "#Let's remove the last two plants in the merit order so we can see the distribution of prices more clearly without these outliers\n",
    "print(\"there are a total of\", len(subsetSubSorted),\"baseload plants with CF > 1% and Capacity > 1MW\")"
   ]
  },
  {
   "cell_type": "code",
   "execution_count": 169,
   "metadata": {},
   "outputs": [],
   "source": [
    "subsetSubSorted2=subsetSubSorted.iloc[0:len(subsetSubSorted)-2]"
   ]
  },
  {
   "cell_type": "code",
   "execution_count": 170,
   "metadata": {},
   "outputs": [
    {
     "data": {
      "text/plain": [
       "320"
      ]
     },
     "execution_count": 170,
     "metadata": {},
     "output_type": "execute_result"
    }
   ],
   "source": [
    "len(subsetSubSorted2)"
   ]
  },
  {
   "cell_type": "code",
   "execution_count": 171,
   "metadata": {},
   "outputs": [],
   "source": [
    "coalSorted=subsetSubSorted2[subsetSubSorted2[\"PLFUELCT\"]==\"COAL\"]\n",
    "gasSorted=subsetSubSorted2[subsetSubSorted2[\"PLFUELCT\"]==\"GAS\"]\n",
    "nuclearSorted=subsetSubSorted2[subsetSubSorted2[\"PLFUELCT\"]==\"NUCLEAR\"]\n",
    "oilSorted=subsetSubSorted2[subsetSubSorted2[\"PLFUELCT\"]==\"OIL\"]\n",
    "hydroSorted=subsetSubSorted2[subsetSubSorted2[\"PLFUELCT\"]==\"HYDRO\"]\n",
    "bioSorted=subsetSubSorted2[subsetSubSorted2[\"PLFUELCT\"]==\"BIOMASS\"]"
   ]
  },
  {
   "cell_type": "code",
   "execution_count": 172,
   "metadata": {},
   "outputs": [
    {
     "data": {
      "image/png": "[encoded data removed]",
      "text/plain": [
       "<Figure size 432x288 with 1 Axes>"
      ]
     },
     "metadata": {
      "needs_background": "light"
     },
     "output_type": "display_data"
    }
   ],
   "source": [
    "plt.scatter(coalSorted[\"CUMCAP\"],coalSorted[\"MARGCOST\"],marker=\"o\",label=\"COAL PLANTS\")\n",
    "plt.scatter(gasSorted[\"CUMCAP\"],gasSorted[\"MARGCOST\"],marker=\"+\",label=\"GAS PLANTS\")\n",
    "plt.scatter(oilSorted[\"CUMCAP\"],oilSorted[\"MARGCOST\"],marker=\"*\",label=\"OIL PLANTS\")\n",
    "plt.scatter(nuclearSorted[\"CUMCAP\"],nuclearSorted[\"MARGCOST\"],marker=\".\",label=\"NUCLEAR PLANTS\")\n",
    "plt.scatter(hydroSorted[\"CUMCAP\"],hydroSorted[\"MARGCOST\"],marker=\"s\",label=\"HYDRO PLANTS\")\n",
    "plt.scatter(bioSorted[\"CUMCAP\"],bioSorted[\"MARGCOST\"],marker=\"v\",label=\"BIOMASS PLANTS\")\n",
    "plt.title(ISOName+\" power supply curve from coal, gas, oil, nuclear, hydro, and biomass\",fontsize=16)\n",
    "plt.xlabel(\"Cumulative Power Capacity (MW))\", fontsize=14)\n",
    "plt.ylabel(\"$/MWh\",fontsize=14)\n",
    "plt.legend(fontsize=12)\n",
    "#Make sure to add a caption that makes this plot a stand-alone piece of information\n",
    "txt=\"Based on eGRID2019 data. Excluding plants with capacity < 1MW or Capacity Factor < 1%, and the 5 most expensive plants\"\n",
    "plt.figtext(0.5, -0.05, txt, wrap=True, horizontalalignment='center', fontsize=10)\n",
    "txt2=\"Assumes the following prices: Coal 2.02 $/MMBTU, Natural Gas 2.89 $/MMBTU, Oil 15 $/MMBTU, Nuclear 9/MWh, Hydro 6/MWh \"\n",
    "plt.figtext(0.5, -0.1, txt2, wrap=True, horizontalalignment='center', fontsize=10)\n",
    "plt.show()"
   ]
  }
 ],
 "metadata": {
  "kernelspec": {
   "display_name": "Python 3",
   "language": "python",
   "name": "python3"
  },
  "language_info": {
   "codemirror_mode": {
    "name": "ipython",
    "version": 3
   },
   "file_extension": ".py",
   "mimetype": "text/x-python",
   "name": "python",
   "nbconvert_exporter": "python",
   "pygments_lexer": "ipython3",
   "version": "3.8.8"
  }
 },
 "nbformat": 4,
 "nbformat_minor": 2
}
