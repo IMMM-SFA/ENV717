{
 "cells": [
  {
   "cell_type": "markdown",
   "id": "bda6029f",
   "metadata": {},
   "source": [
    "# Let's compare the electricity average retail prices in restructured and not restructured states"
   ]
  },
  {
   "cell_type": "markdown",
   "id": "b1c55922",
   "metadata": {},
   "source": [
    "# We will use the data from State Electricity Profiles available at: https://www.eia.gov/electricity/state/"
   ]
  },
  {
   "cell_type": "code",
   "execution_count": 10,
   "id": "7ae1fa85",
   "metadata": {},
   "outputs": [
    {
     "data": {
      "text/html": [
       "<div>\n",
       "<style scoped>\n",
       "    .dataframe tbody tr th:only-of-type {\n",
       "        vertical-align: middle;\n",
       "    }\n",
       "\n",
       "    .dataframe tbody tr th {\n",
       "        vertical-align: top;\n",
       "    }\n",
       "\n",
       "    .dataframe thead th {\n",
       "        text-align: right;\n",
       "    }\n",
       "</style>\n",
       "<table border=\"1\" class=\"dataframe\">\n",
       "  <thead>\n",
       "    <tr style=\"text-align: right;\">\n",
       "      <th></th>\n",
       "      <th>Name</th>\n",
       "      <th>Average retail price (cents/kWh)</th>\n",
       "      <th>Net summer capacity (MW)</th>\n",
       "      <th>Net generation (MWh)</th>\n",
       "      <th>Total retail sales (MWh)</th>\n",
       "      <th>Restructured</th>\n",
       "    </tr>\n",
       "  </thead>\n",
       "  <tbody>\n",
       "    <tr>\n",
       "      <th>0</th>\n",
       "      <td>Alabama</td>\n",
       "      <td>9.84</td>\n",
       "      <td>28739</td>\n",
       "      <td>137542702</td>\n",
       "      <td>83395605</td>\n",
       "      <td>No</td>\n",
       "    </tr>\n",
       "    <tr>\n",
       "      <th>1</th>\n",
       "      <td>Alaska</td>\n",
       "      <td>19.82</td>\n",
       "      <td>2767</td>\n",
       "      <td>6276441</td>\n",
       "      <td>5917577</td>\n",
       "      <td>No</td>\n",
       "    </tr>\n",
       "    <tr>\n",
       "      <th>2</th>\n",
       "      <td>Arizona</td>\n",
       "      <td>10.44</td>\n",
       "      <td>27115</td>\n",
       "      <td>109305057</td>\n",
       "      <td>81960074</td>\n",
       "      <td>No</td>\n",
       "    </tr>\n",
       "    <tr>\n",
       "      <th>3</th>\n",
       "      <td>Arkansas</td>\n",
       "      <td>8.32</td>\n",
       "      <td>14835</td>\n",
       "      <td>54641259</td>\n",
       "      <td>45851003</td>\n",
       "      <td>Yes</td>\n",
       "    </tr>\n",
       "    <tr>\n",
       "      <th>4</th>\n",
       "      <td>California</td>\n",
       "      <td>18.00</td>\n",
       "      <td>78055</td>\n",
       "      <td>193074930</td>\n",
       "      <td>250174672</td>\n",
       "      <td>Yes</td>\n",
       "    </tr>\n",
       "  </tbody>\n",
       "</table>\n",
       "</div>"
      ],
      "text/plain": [
       "         Name  Average retail price (cents/kWh)  Net summer capacity (MW)  \\\n",
       "0     Alabama                              9.84                     28739   \n",
       "1      Alaska                             19.82                      2767   \n",
       "2     Arizona                             10.44                     27115   \n",
       "3    Arkansas                              8.32                     14835   \n",
       "4  California                             18.00                     78055   \n",
       "\n",
       "   Net generation (MWh)  Total retail sales (MWh) Restructured  \n",
       "0             137542702                  83395605           No  \n",
       "1               6276441                   5917577           No  \n",
       "2             109305057                  81960074           No  \n",
       "3              54641259                  45851003          Yes  \n",
       "4             193074930                 250174672          Yes  "
      ]
     },
     "execution_count": 10,
     "metadata": {},
     "output_type": "execute_result"
    }
   ],
   "source": [
    "import pandas as pd\n",
    "import numpy as np\n",
    "df_states = pd.read_excel(io=\"StatesData2020.xlsx\",sheet_name=\"Data\")\n",
    "df_states.head(5)"
   ]
  },
  {
   "cell_type": "code",
   "execution_count": 11,
   "id": "d48ccbac",
   "metadata": {},
   "outputs": [
    {
     "data": {
      "text/plain": [
       "Index(['Name', 'Average retail price (cents/kWh)', 'Net summer capacity (MW)',\n",
       "       'Net generation (MWh)', 'Total retail sales (MWh)', 'Restructured'],\n",
       "      dtype='object')"
      ]
     },
     "execution_count": 11,
     "metadata": {},
     "output_type": "execute_result"
    }
   ],
   "source": [
    "df_states.columns"
   ]
  },
  {
   "cell_type": "code",
   "execution_count": 12,
   "id": "69b9ccb1",
   "metadata": {},
   "outputs": [],
   "source": [
    "df_restructured = df_states[(df_states.Restructured==\"Yes\")]"
   ]
  },
  {
   "cell_type": "code",
   "execution_count": 17,
   "id": "6e5ced8f",
   "metadata": {},
   "outputs": [
    {
     "data": {
      "text/html": [
       "<div>\n",
       "<style scoped>\n",
       "    .dataframe tbody tr th:only-of-type {\n",
       "        vertical-align: middle;\n",
       "    }\n",
       "\n",
       "    .dataframe tbody tr th {\n",
       "        vertical-align: top;\n",
       "    }\n",
       "\n",
       "    .dataframe thead th {\n",
       "        text-align: right;\n",
       "    }\n",
       "</style>\n",
       "<table border=\"1\" class=\"dataframe\">\n",
       "  <thead>\n",
       "    <tr style=\"text-align: right;\">\n",
       "      <th></th>\n",
       "      <th>Name</th>\n",
       "      <th>Average retail price (cents/kWh)</th>\n",
       "      <th>Net summer capacity (MW)</th>\n",
       "      <th>Net generation (MWh)</th>\n",
       "      <th>Total retail sales (MWh)</th>\n",
       "      <th>Restructured</th>\n",
       "    </tr>\n",
       "  </thead>\n",
       "  <tbody>\n",
       "    <tr>\n",
       "      <th>3</th>\n",
       "      <td>Arkansas</td>\n",
       "      <td>8.32</td>\n",
       "      <td>14835</td>\n",
       "      <td>54641259</td>\n",
       "      <td>45851003</td>\n",
       "      <td>Yes</td>\n",
       "    </tr>\n",
       "    <tr>\n",
       "      <th>4</th>\n",
       "      <td>California</td>\n",
       "      <td>18.00</td>\n",
       "      <td>78055</td>\n",
       "      <td>193074930</td>\n",
       "      <td>250174672</td>\n",
       "      <td>Yes</td>\n",
       "    </tr>\n",
       "    <tr>\n",
       "      <th>6</th>\n",
       "      <td>Connecticut</td>\n",
       "      <td>19.13</td>\n",
       "      <td>10276</td>\n",
       "      <td>41190572</td>\n",
       "      <td>27113673</td>\n",
       "      <td>Yes</td>\n",
       "    </tr>\n",
       "    <tr>\n",
       "      <th>7</th>\n",
       "      <td>Delaware</td>\n",
       "      <td>10.24</td>\n",
       "      <td>3372</td>\n",
       "      <td>5205372</td>\n",
       "      <td>11129051</td>\n",
       "      <td>Yes</td>\n",
       "    </tr>\n",
       "    <tr>\n",
       "      <th>8</th>\n",
       "      <td>District of Columbia</td>\n",
       "      <td>11.90</td>\n",
       "      <td>42</td>\n",
       "      <td>201104</td>\n",
       "      <td>9785775</td>\n",
       "      <td>Yes</td>\n",
       "    </tr>\n",
       "  </tbody>\n",
       "</table>\n",
       "</div>"
      ],
      "text/plain": [
       "                   Name  Average retail price (cents/kWh)  \\\n",
       "3              Arkansas                              8.32   \n",
       "4            California                             18.00   \n",
       "6           Connecticut                             19.13   \n",
       "7              Delaware                             10.24   \n",
       "8  District of Columbia                             11.90   \n",
       "\n",
       "   Net summer capacity (MW)  Net generation (MWh)  Total retail sales (MWh)  \\\n",
       "3                     14835              54641259                  45851003   \n",
       "4                     78055             193074930                 250174672   \n",
       "6                     10276              41190572                  27113673   \n",
       "7                      3372               5205372                  11129051   \n",
       "8                        42                201104                   9785775   \n",
       "\n",
       "  Restructured  \n",
       "3          Yes  \n",
       "4          Yes  \n",
       "6          Yes  \n",
       "7          Yes  \n",
       "8          Yes  "
      ]
     },
     "execution_count": 17,
     "metadata": {},
     "output_type": "execute_result"
    }
   ],
   "source": [
    "df_restructured.head(5)"
   ]
  },
  {
   "cell_type": "code",
   "execution_count": 15,
   "id": "386a2201",
   "metadata": {},
   "outputs": [],
   "source": [
    "df_notrestructured = df_states[(df_states.Restructured==\"No\")]"
   ]
  },
  {
   "cell_type": "code",
   "execution_count": 16,
   "id": "d60f7116",
   "metadata": {},
   "outputs": [
    {
     "data": {
      "text/html": [
       "<div>\n",
       "<style scoped>\n",
       "    .dataframe tbody tr th:only-of-type {\n",
       "        vertical-align: middle;\n",
       "    }\n",
       "\n",
       "    .dataframe tbody tr th {\n",
       "        vertical-align: top;\n",
       "    }\n",
       "\n",
       "    .dataframe thead th {\n",
       "        text-align: right;\n",
       "    }\n",
       "</style>\n",
       "<table border=\"1\" class=\"dataframe\">\n",
       "  <thead>\n",
       "    <tr style=\"text-align: right;\">\n",
       "      <th></th>\n",
       "      <th>Name</th>\n",
       "      <th>Average retail price (cents/kWh)</th>\n",
       "      <th>Net summer capacity (MW)</th>\n",
       "      <th>Net generation (MWh)</th>\n",
       "      <th>Total retail sales (MWh)</th>\n",
       "      <th>Restructured</th>\n",
       "    </tr>\n",
       "  </thead>\n",
       "  <tbody>\n",
       "    <tr>\n",
       "      <th>0</th>\n",
       "      <td>Alabama</td>\n",
       "      <td>9.84</td>\n",
       "      <td>28739</td>\n",
       "      <td>137542702</td>\n",
       "      <td>83395605</td>\n",
       "      <td>No</td>\n",
       "    </tr>\n",
       "    <tr>\n",
       "      <th>1</th>\n",
       "      <td>Alaska</td>\n",
       "      <td>19.82</td>\n",
       "      <td>2767</td>\n",
       "      <td>6276441</td>\n",
       "      <td>5917577</td>\n",
       "      <td>No</td>\n",
       "    </tr>\n",
       "    <tr>\n",
       "      <th>2</th>\n",
       "      <td>Arizona</td>\n",
       "      <td>10.44</td>\n",
       "      <td>27115</td>\n",
       "      <td>109305057</td>\n",
       "      <td>81960074</td>\n",
       "      <td>No</td>\n",
       "    </tr>\n",
       "    <tr>\n",
       "      <th>5</th>\n",
       "      <td>Colorado</td>\n",
       "      <td>10.27</td>\n",
       "      <td>17632</td>\n",
       "      <td>54115011</td>\n",
       "      <td>56050264</td>\n",
       "      <td>No</td>\n",
       "    </tr>\n",
       "    <tr>\n",
       "      <th>9</th>\n",
       "      <td>Florida</td>\n",
       "      <td>10.06</td>\n",
       "      <td>61833</td>\n",
       "      <td>250827799</td>\n",
       "      <td>242440171</td>\n",
       "      <td>No</td>\n",
       "    </tr>\n",
       "  </tbody>\n",
       "</table>\n",
       "</div>"
      ],
      "text/plain": [
       "       Name  Average retail price (cents/kWh)  Net summer capacity (MW)  \\\n",
       "0   Alabama                              9.84                     28739   \n",
       "1    Alaska                             19.82                      2767   \n",
       "2   Arizona                             10.44                     27115   \n",
       "5  Colorado                             10.27                     17632   \n",
       "9   Florida                             10.06                     61833   \n",
       "\n",
       "   Net generation (MWh)  Total retail sales (MWh) Restructured  \n",
       "0             137542702                  83395605           No  \n",
       "1               6276441                   5917577           No  \n",
       "2             109305057                  81960074           No  \n",
       "5              54115011                  56050264           No  \n",
       "9             250827799                 242440171           No  "
      ]
     },
     "execution_count": 16,
     "metadata": {},
     "output_type": "execute_result"
    }
   ],
   "source": [
    "df_notrestructured.head(5)"
   ]
  },
  {
   "cell_type": "code",
   "execution_count": 21,
   "id": "b3c5ad67",
   "metadata": {},
   "outputs": [],
   "source": [
    "Restructured_mean = df_restructured['Average retail price (cents/kWh)'].mean()\n",
    "Restructured_std = df_restructured['Average retail price (cents/kWh)'].std()\n",
    "NotRestructured_mean = df_notrestructured['Average retail price (cents/kWh)'].mean()\n",
    "NotRestructured_std = df_notrestructured['Average retail price (cents/kWh)'].std()"
   ]
  },
  {
   "cell_type": "code",
   "execution_count": 22,
   "id": "6285abdb",
   "metadata": {},
   "outputs": [
    {
     "data": {
      "image/png": "[encoded data removed]",
      "text/plain": [
       "<Figure size 432x288 with 1 Axes>"
      ]
     },
     "metadata": {
      "needs_background": "light"
     },
     "output_type": "display_data"
    }
   ],
   "source": [
    "import matplotlib.pyplot as plt\n",
    "# include if using a Jupyter notebook\n",
    "%matplotlib inline\n",
    "labels = ['Restructured', 'Not Restructured']\n",
    "x_pos = np.arange(len(labels))\n",
    "Prices = [Restructured_mean, NotRestructured_mean]\n",
    "error = [Restructured_std, NotRestructured_std]\n",
    "\n",
    "# Build the plot\n",
    "fig, ax = plt.subplots()\n",
    "ax.bar(x_pos, Prices,\n",
    "       yerr=error,\n",
    "       align='center',\n",
    "       alpha=0.5,\n",
    "       ecolor='black',\n",
    "       capsize=10)\n",
    "ax.set_ylabel('Average retail price (cents/kWh)')\n",
    "ax.set_xticks(x_pos)\n",
    "ax.set_xticklabels(labels)\n",
    "ax.set_title('States Electricity Retail Prices')\n",
    "ax.yaxis.grid(True)\n",
    "\n",
    "# Save the figure and show\n",
    "plt.tight_layout()\n",
    "plt.savefig('bar_plot_with_error_bars.png')\n",
    "plt.show()"
   ]
  },
  {
   "cell_type": "code",
   "execution_count": null,
   "id": "285e8899",
   "metadata": {},
   "outputs": [],
   "source": []
  },
  {
   "cell_type": "code",
   "execution_count": null,
   "id": "009c0225",
   "metadata": {},
   "outputs": [],
   "source": []
  }
 ],
 "metadata": {
  "kernelspec": {
   "display_name": "Python 3",
   "language": "python",
   "name": "python3"
  },
  "language_info": {
   "codemirror_mode": {
    "name": "ipython",
    "version": 3
   },
   "file_extension": ".py",
   "mimetype": "text/x-python",
   "name": "python",
   "nbconvert_exporter": "python",
   "pygments_lexer": "ipython3",
   "version": "3.8.8"
  }
 },
 "nbformat": 4,
 "nbformat_minor": 5
}
