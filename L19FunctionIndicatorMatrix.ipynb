{
 "cells": [
  {
   "cell_type": "code",
   "execution_count": 1,
   "id": "f9b3501a",
   "metadata": {},
   "outputs": [],
   "source": [
    "##Creates a matrix of NumRows rows by NumCols columns\n",
    "##Each entry of the matrix is a one or a zero based on a vector \"dataRows\" \n",
    "# the vector \"dataRows\" has NumRows components and specifyies, for each row, which columns should be 1\n",
    "import numpy as np\n",
    "import pandas as pd\n",
    "def IndicatorMatrix(NumRows,NumCols,dataRows):\n",
    "    matrix = np.zeros((NumRows,NumCols),dtype=int)\n",
    "    for i in range(0,4):\n",
    "        matrix[i,dataRows[i]-1]=1\n",
    "    return matrix\n",
    "r=4\n",
    "c=3\n",
    "data=np.array([1,1,2,3])#One element for each row. It says which column will be one\n",
    "a=IndicatorMatrix(r,c,data)"
   ]
  },
  {
   "cell_type": "code",
   "execution_count": 2,
   "id": "0b380789",
   "metadata": {},
   "outputs": [
    {
     "name": "stdout",
     "output_type": "stream",
     "text": [
      "[[1 0 0]\n",
      " [1 0 0]\n",
      " [0 1 0]\n",
      " [0 0 1]]\n"
     ]
    }
   ],
   "source": [
    "print(a)"
   ]
  },
  {
   "cell_type": "code",
   "execution_count": null,
   "id": "60b4f436",
   "metadata": {},
   "outputs": [],
   "source": []
  }
 ],
 "metadata": {
  "kernelspec": {
   "display_name": "Python 3",
   "language": "python",
   "name": "python3"
  },
  "language_info": {
   "codemirror_mode": {
    "name": "ipython",
    "version": 3
   },
   "file_extension": ".py",
   "mimetype": "text/x-python",
   "name": "python",
   "nbconvert_exporter": "python",
   "pygments_lexer": "ipython3",
   "version": "3.8.8"
  }
 },
 "nbformat": 4,
 "nbformat_minor": 5
}
