{
 "cells": [
  {
   "cell_type": "code",
   "execution_count": 7,
   "metadata": {},
   "outputs": [
    {
     "data": {
      "text/html": [
       "<div>\n",
       "<style scoped>\n",
       "    .dataframe tbody tr th:only-of-type {\n",
       "        vertical-align: middle;\n",
       "    }\n",
       "\n",
       "    .dataframe tbody tr th {\n",
       "        vertical-align: top;\n",
       "    }\n",
       "\n",
       "    .dataframe thead th {\n",
       "        text-align: right;\n",
       "    }\n",
       "</style>\n",
       "<table border=\"1\" class=\"dataframe\">\n",
       "  <thead>\n",
       "    <tr style=\"text-align: right;\">\n",
       "      <th></th>\n",
       "      <th>datetime_beginning_utc</th>\n",
       "      <th>datetime_beginning_ept</th>\n",
       "      <th>area</th>\n",
       "      <th>hrly_da_demand_bid</th>\n",
       "    </tr>\n",
       "  </thead>\n",
       "  <tbody>\n",
       "    <tr>\n",
       "      <th>0</th>\n",
       "      <td>2020-01-01 04:00:00</td>\n",
       "      <td>2019-12-31 23:00:00</td>\n",
       "      <td>PJM_RTO</td>\n",
       "      <td>82421</td>\n",
       "    </tr>\n",
       "    <tr>\n",
       "      <th>1</th>\n",
       "      <td>2020-01-01 03:00:00</td>\n",
       "      <td>2019-12-31 22:00:00</td>\n",
       "      <td>PJM_RTO</td>\n",
       "      <td>86599</td>\n",
       "    </tr>\n",
       "    <tr>\n",
       "      <th>2</th>\n",
       "      <td>2020-01-01 02:00:00</td>\n",
       "      <td>2019-12-31 21:00:00</td>\n",
       "      <td>PJM_RTO</td>\n",
       "      <td>90102</td>\n",
       "    </tr>\n",
       "    <tr>\n",
       "      <th>3</th>\n",
       "      <td>2020-01-01 01:00:00</td>\n",
       "      <td>2019-12-31 20:00:00</td>\n",
       "      <td>PJM_RTO</td>\n",
       "      <td>93359</td>\n",
       "    </tr>\n",
       "    <tr>\n",
       "      <th>4</th>\n",
       "      <td>2020-01-01 00:00:00</td>\n",
       "      <td>2019-12-31 19:00:00</td>\n",
       "      <td>PJM_RTO</td>\n",
       "      <td>94734</td>\n",
       "    </tr>\n",
       "  </tbody>\n",
       "</table>\n",
       "</div>"
      ],
      "text/plain": [
       "  datetime_beginning_utc datetime_beginning_ept     area  hrly_da_demand_bid\n",
       "0    2020-01-01 04:00:00    2019-12-31 23:00:00  PJM_RTO               82421\n",
       "1    2020-01-01 03:00:00    2019-12-31 22:00:00  PJM_RTO               86599\n",
       "2    2020-01-01 02:00:00    2019-12-31 21:00:00  PJM_RTO               90102\n",
       "3    2020-01-01 01:00:00    2019-12-31 20:00:00  PJM_RTO               93359\n",
       "4    2020-01-01 00:00:00    2019-12-31 19:00:00  PJM_RTO               94734"
      ]
     },
     "execution_count": 7,
     "metadata": {},
     "output_type": "execute_result"
    }
   ],
   "source": [
    "##################################################################\n",
    "#       ENV717 - S2021                                           #                            \n",
    "#       This script analyzes the demand of PJM in 2019           #\n",
    "##################################################################\n",
    "import os\n",
    "import pandas as pd\n",
    "import numpy as np\n",
    "import matplotlib.pyplot as plt\n",
    "\n",
    "### OPTIONAL (UNNECESSARY) STEPS MARKED WITH *\n",
    "### INCLUDED TO HELP YOU REMEMBER a Python concept\n",
    "\n",
    "##################################################################################################################\n",
    "## 1. Read the demand file                                                                                       #\n",
    "##   -Read the first row (i.e., row 0) as the headers                                                            #\n",
    "## 2. See the columns in this spreadsheet by printing the first five rows                                                #\n",
    "###################################################################################################################\n",
    "demand=pd.read_excel(\"C://Users//dp52//In USE//Classes//Markets for electricity//2021//A2 hrl_dmd_bids PJM 2019.xlsx\",keep_default_na=False,header=0) #1.\n",
    "demand.head(5) #2."
   ]
  },
  {
   "cell_type": "code",
   "execution_count": 8,
   "metadata": {},
   "outputs": [
    {
     "data": {
      "text/plain": [
       "8760"
      ]
     },
     "execution_count": 8,
     "metadata": {},
     "output_type": "execute_result"
    }
   ],
   "source": [
    "##################################################################################################################\n",
    "# *see how many rows in the database - not counting the row with the headers\n",
    "len(demand)"
   ]
  },
  {
   "cell_type": "code",
   "execution_count": 9,
   "metadata": {},
   "outputs": [
    {
     "data": {
      "text/plain": [
       "datetime_beginning_utc    datetime64[ns]\n",
       "datetime_beginning_ept    datetime64[ns]\n",
       "area                              object\n",
       "hrly_da_demand_bid                 int64\n",
       "dtype: object"
      ]
     },
     "execution_count": 9,
     "metadata": {},
     "output_type": "execute_result"
    }
   ],
   "source": [
    "# We saw thare are 8760 so we have one demand value per hour\n",
    "# *check the types of the columns\n",
    "demand.dtypes"
   ]
  },
  {
   "cell_type": "code",
   "execution_count": 10,
   "metadata": {},
   "outputs": [
    {
     "data": {
      "text/plain": [
       "Index(['datetime_beginning_utc', 'datetime_beginning_ept', 'area',\n",
       "       'hrly_da_demand_bid'],\n",
       "      dtype='object')"
      ]
     },
     "execution_count": 10,
     "metadata": {},
     "output_type": "execute_result"
    }
   ],
   "source": [
    "##################################################################################################################\n",
    "## We see there are two columns for time: 1. UTC, 2. EPC. EPC is the one we want                                 #\n",
    "## pd already identified the UTC and EPT columns as datetime values - that is good\n",
    "# Also, the names of the columns are a bit long for us to manipulate - let's see them again\n",
    "demand.columns"
   ]
  },
  {
   "cell_type": "code",
   "execution_count": 11,
   "metadata": {},
   "outputs": [
    {
     "data": {
      "text/plain": [
       "Index(['utc', 'time', 'area', 'demand'], dtype='object')"
      ]
     },
     "execution_count": 11,
     "metadata": {},
     "output_type": "execute_result"
    }
   ],
   "source": [
    "## We can get rid of the data on the utc column and the area column, so we end with just time and demand\n",
    "# *but first let's rename the columns\n",
    "demand.columns=['utc', 'time','area','demand']\n",
    "demand.columns"
   ]
  },
  {
   "cell_type": "code",
   "execution_count": 12,
   "metadata": {},
   "outputs": [
    {
     "data": {
      "text/html": [
       "<div>\n",
       "<style scoped>\n",
       "    .dataframe tbody tr th:only-of-type {\n",
       "        vertical-align: middle;\n",
       "    }\n",
       "\n",
       "    .dataframe tbody tr th {\n",
       "        vertical-align: top;\n",
       "    }\n",
       "\n",
       "    .dataframe thead th {\n",
       "        text-align: right;\n",
       "    }\n",
       "</style>\n",
       "<table border=\"1\" class=\"dataframe\">\n",
       "  <thead>\n",
       "    <tr style=\"text-align: right;\">\n",
       "      <th></th>\n",
       "      <th>time</th>\n",
       "      <th>demand</th>\n",
       "    </tr>\n",
       "  </thead>\n",
       "  <tbody>\n",
       "    <tr>\n",
       "      <th>0</th>\n",
       "      <td>2019-12-31 23:00:00</td>\n",
       "      <td>82421</td>\n",
       "    </tr>\n",
       "    <tr>\n",
       "      <th>1</th>\n",
       "      <td>2019-12-31 22:00:00</td>\n",
       "      <td>86599</td>\n",
       "    </tr>\n",
       "    <tr>\n",
       "      <th>2</th>\n",
       "      <td>2019-12-31 21:00:00</td>\n",
       "      <td>90102</td>\n",
       "    </tr>\n",
       "    <tr>\n",
       "      <th>3</th>\n",
       "      <td>2019-12-31 20:00:00</td>\n",
       "      <td>93359</td>\n",
       "    </tr>\n",
       "    <tr>\n",
       "      <th>4</th>\n",
       "      <td>2019-12-31 19:00:00</td>\n",
       "      <td>94734</td>\n",
       "    </tr>\n",
       "  </tbody>\n",
       "</table>\n",
       "</div>"
      ],
      "text/plain": [
       "                 time  demand\n",
       "0 2019-12-31 23:00:00   82421\n",
       "1 2019-12-31 22:00:00   86599\n",
       "2 2019-12-31 21:00:00   90102\n",
       "3 2019-12-31 20:00:00   93359\n",
       "4 2019-12-31 19:00:00   94734"
      ]
     },
     "execution_count": 12,
     "metadata": {},
     "output_type": "execute_result"
    }
   ],
   "source": [
    "# Now let's keep only time and demand\n",
    "# We will use the pandas.DataFrame.loc which uses the labels of the columns or rows\n",
    "demand=demand.loc[:,['time','demand']]  # this keeps all the rows in those two columns\n",
    "demand.head(5)"
   ]
  },
  {
   "cell_type": "code",
   "execution_count": 13,
   "metadata": {},
   "outputs": [],
   "source": [
    "# We see the demand is sorted such that the last hour of the year appears first\n",
    "# let's sort it so that the first hour of 2019 is first row\n",
    "# we can use pandas.DataFrame.sort_values - we do not need more arguments than the name of the column because \n",
    "# this, by default, sorts values in ascending order\n",
    "demand=demand.sort_values('time')"
   ]
  },
  {
   "cell_type": "code",
   "execution_count": 14,
   "metadata": {},
   "outputs": [
    {
     "data": {
      "text/html": [
       "<div>\n",
       "<style scoped>\n",
       "    .dataframe tbody tr th:only-of-type {\n",
       "        vertical-align: middle;\n",
       "    }\n",
       "\n",
       "    .dataframe tbody tr th {\n",
       "        vertical-align: top;\n",
       "    }\n",
       "\n",
       "    .dataframe thead th {\n",
       "        text-align: right;\n",
       "    }\n",
       "</style>\n",
       "<table border=\"1\" class=\"dataframe\">\n",
       "  <thead>\n",
       "    <tr style=\"text-align: right;\">\n",
       "      <th></th>\n",
       "      <th>time</th>\n",
       "      <th>demand</th>\n",
       "    </tr>\n",
       "  </thead>\n",
       "  <tbody>\n",
       "    <tr>\n",
       "      <th>8759</th>\n",
       "      <td>2019-01-01 00:00:00</td>\n",
       "      <td>71887</td>\n",
       "    </tr>\n",
       "    <tr>\n",
       "      <th>8758</th>\n",
       "      <td>2019-01-01 01:00:00</td>\n",
       "      <td>69320</td>\n",
       "    </tr>\n",
       "    <tr>\n",
       "      <th>8757</th>\n",
       "      <td>2019-01-01 02:00:00</td>\n",
       "      <td>67886</td>\n",
       "    </tr>\n",
       "    <tr>\n",
       "      <th>8756</th>\n",
       "      <td>2019-01-01 03:00:00</td>\n",
       "      <td>67251</td>\n",
       "    </tr>\n",
       "    <tr>\n",
       "      <th>8755</th>\n",
       "      <td>2019-01-01 04:00:00</td>\n",
       "      <td>67823</td>\n",
       "    </tr>\n",
       "  </tbody>\n",
       "</table>\n",
       "</div>"
      ],
      "text/plain": [
       "                    time  demand\n",
       "8759 2019-01-01 00:00:00   71887\n",
       "8758 2019-01-01 01:00:00   69320\n",
       "8757 2019-01-01 02:00:00   67886\n",
       "8756 2019-01-01 03:00:00   67251\n",
       "8755 2019-01-01 04:00:00   67823"
      ]
     },
     "execution_count": 14,
     "metadata": {},
     "output_type": "execute_result"
    }
   ],
   "source": [
    "# we can check that the values are now sorted\n",
    "demand.head(5)"
   ]
  },
  {
   "cell_type": "code",
   "execution_count": 15,
   "metadata": {},
   "outputs": [
    {
     "data": {
      "text/html": [
       "<div>\n",
       "<style scoped>\n",
       "    .dataframe tbody tr th:only-of-type {\n",
       "        vertical-align: middle;\n",
       "    }\n",
       "\n",
       "    .dataframe tbody tr th {\n",
       "        vertical-align: top;\n",
       "    }\n",
       "\n",
       "    .dataframe thead th {\n",
       "        text-align: right;\n",
       "    }\n",
       "</style>\n",
       "<table border=\"1\" class=\"dataframe\">\n",
       "  <thead>\n",
       "    <tr style=\"text-align: right;\">\n",
       "      <th></th>\n",
       "      <th>time</th>\n",
       "      <th>demand</th>\n",
       "      <th>hour</th>\n",
       "    </tr>\n",
       "  </thead>\n",
       "  <tbody>\n",
       "    <tr>\n",
       "      <th>8759</th>\n",
       "      <td>2019-01-01 00:00:00</td>\n",
       "      <td>71887</td>\n",
       "      <td>1</td>\n",
       "    </tr>\n",
       "    <tr>\n",
       "      <th>8758</th>\n",
       "      <td>2019-01-01 01:00:00</td>\n",
       "      <td>69320</td>\n",
       "      <td>2</td>\n",
       "    </tr>\n",
       "    <tr>\n",
       "      <th>8757</th>\n",
       "      <td>2019-01-01 02:00:00</td>\n",
       "      <td>67886</td>\n",
       "      <td>3</td>\n",
       "    </tr>\n",
       "    <tr>\n",
       "      <th>8756</th>\n",
       "      <td>2019-01-01 03:00:00</td>\n",
       "      <td>67251</td>\n",
       "      <td>4</td>\n",
       "    </tr>\n",
       "    <tr>\n",
       "      <th>8755</th>\n",
       "      <td>2019-01-01 04:00:00</td>\n",
       "      <td>67823</td>\n",
       "      <td>5</td>\n",
       "    </tr>\n",
       "  </tbody>\n",
       "</table>\n",
       "</div>"
      ],
      "text/plain": [
       "                    time  demand  hour\n",
       "8759 2019-01-01 00:00:00   71887     1\n",
       "8758 2019-01-01 01:00:00   69320     2\n",
       "8757 2019-01-01 02:00:00   67886     3\n",
       "8756 2019-01-01 03:00:00   67251     4\n",
       "8755 2019-01-01 04:00:00   67823     5"
      ]
     },
     "execution_count": 15,
     "metadata": {},
     "output_type": "execute_result"
    }
   ],
   "source": [
    "# To have a nice label for the hours on the x axis, lets create a new column that labels each observation from 1 to 8761\n",
    "demand['hour']=np.arange(1,8761)\n",
    "demand.head(5)"
   ]
  },
  {
   "cell_type": "code",
   "execution_count": 16,
   "metadata": {},
   "outputs": [
    {
     "data": {
      "image/png": "[encoded data removed]",
      "text/plain": [
       "<Figure size 432x288 with 1 Axes>"
      ]
     },
     "metadata": {
      "needs_background": "light"
     },
     "output_type": "display_data"
    }
   ],
   "source": [
    "# Now we can plot the hour of the year on the x axis and the demand on the y axis\n",
    "plt.plot(demand['hour'],demand['demand'])\n",
    "plt.xlabel('Hour of the year', fontsize=16)\n",
    "plt.ylabel('Demand, MW', fontsize=16)\n",
    "plt.title('PJM demand in 2019', fontsize=16)\n",
    "plt.show()"
   ]
  },
  {
   "cell_type": "code",
   "execution_count": 17,
   "metadata": {},
   "outputs": [
    {
     "name": "stdout",
     "output_type": "stream",
     "text": [
      "In 2019, 99% of the hours had a demand higher than 60591.03 MW\n",
      "         50% of the hours had a demand higher than 86665.0 MW\n",
      "         30% of the hours had a demand higher than 95497.1 MW\n",
      "         10% of the hours had a demand higher than 111018.30000000002 MW\n",
      "         5% of the hours had a demand higher than 120025.15 MW\n",
      "         1% of the hours had a demand higher than 132235.99 MW\n"
     ]
    }
   ],
   "source": [
    "# Now lets look at the distribution of the demand by looking at some key percentiles\n",
    "print('In 2019, 99% of the hours had a demand higher than',np.percentile(demand['demand'],1),'MW')\n",
    "print('         50% of the hours had a demand higher than',np.percentile(demand['demand'],50),'MW')\n",
    "print('         30% of the hours had a demand higher than',np.percentile(demand['demand'],70),'MW')\n",
    "print('         10% of the hours had a demand higher than',np.percentile(demand['demand'],90),'MW')\n",
    "print('         5% of the hours had a demand higher than',np.percentile(demand['demand'],95),'MW')\n",
    "print('         1% of the hours had a demand higher than',np.percentile(demand['demand'],99),'MW')"
   ]
  },
  {
   "cell_type": "code",
   "execution_count": 18,
   "metadata": {},
   "outputs": [
    {
     "ename": "SyntaxError",
     "evalue": "invalid syntax (<ipython-input-18-2edef18e1ec9>, line 3)",
     "output_type": "error",
     "traceback": [
      "\u001b[1;36m  File \u001b[1;32m\"<ipython-input-18-2edef18e1ec9>\"\u001b[1;36m, line \u001b[1;32m3\u001b[0m\n\u001b[1;33m    print('In 2019, 99% of the hours had a demand higher than','%.2f' % np.percentile(demand['demand'],1),'MW')np.percentile(demand['demand'],50),'MW')\u001b[0m\n\u001b[1;37m                                                                                                                ^\u001b[0m\n\u001b[1;31mSyntaxError\u001b[0m\u001b[1;31m:\u001b[0m invalid syntax\n"
     ]
    }
   ],
   "source": [
    "# Let's fix it so that we only report 2 decimal points\n",
    "# write '%.2f'% right before the value\n",
    "print('In 2019, 99% of the hours had a demand higher than','%.2f' % np.percentile(demand['demand'],1),'MW')np.percentile(demand['demand'],50),'MW')\n",
    "print('         30% of the hours had a demand higher than',np.percentile(demand['demand'],70),'MW')\n",
    "print('         10% of the hours had a demand higher than',np.percentile(demand['demand'],90),'MW')\n",
    "print('         5% of the hours had a demand higher than',np.percentile(demand['demand'],95),'MW')\n",
    "print('         1% of the hours had a demand higher than',np.percentile(demand['demand'],99),'MW')"
   ]
  },
  {
   "cell_type": "code",
   "execution_count": 20,
   "metadata": {},
   "outputs": [
    {
     "data": {
      "text/html": [
       "<div>\n",
       "<style scoped>\n",
       "    .dataframe tbody tr th:only-of-type {\n",
       "        vertical-align: middle;\n",
       "    }\n",
       "\n",
       "    .dataframe tbody tr th {\n",
       "        vertical-align: top;\n",
       "    }\n",
       "\n",
       "    .dataframe thead th {\n",
       "        text-align: right;\n",
       "    }\n",
       "</style>\n",
       "<table border=\"1\" class=\"dataframe\">\n",
       "  <thead>\n",
       "    <tr style=\"text-align: right;\">\n",
       "      <th></th>\n",
       "      <th>time</th>\n",
       "      <th>demand</th>\n",
       "      <th>hour</th>\n",
       "    </tr>\n",
       "  </thead>\n",
       "  <tbody>\n",
       "    <tr>\n",
       "      <th>1580</th>\n",
       "      <td>2019-10-27 04:00:00</td>\n",
       "      <td>56841</td>\n",
       "      <td>7180</td>\n",
       "    </tr>\n",
       "    <tr>\n",
       "      <th>1581</th>\n",
       "      <td>2019-10-27 03:00:00</td>\n",
       "      <td>56927</td>\n",
       "      <td>7179</td>\n",
       "    </tr>\n",
       "    <tr>\n",
       "      <th>1582</th>\n",
       "      <td>2019-10-27 02:00:00</td>\n",
       "      <td>57573</td>\n",
       "      <td>7178</td>\n",
       "    </tr>\n",
       "    <tr>\n",
       "      <th>1558</th>\n",
       "      <td>2019-10-28 02:00:00</td>\n",
       "      <td>58014</td>\n",
       "      <td>7202</td>\n",
       "    </tr>\n",
       "    <tr>\n",
       "      <th>5250</th>\n",
       "      <td>2019-05-27 06:00:00</td>\n",
       "      <td>58086</td>\n",
       "      <td>3510</td>\n",
       "    </tr>\n",
       "  </tbody>\n",
       "</table>\n",
       "</div>"
      ],
      "text/plain": [
       "                    time  demand  hour\n",
       "1580 2019-10-27 04:00:00   56841  7180\n",
       "1581 2019-10-27 03:00:00   56927  7179\n",
       "1582 2019-10-27 02:00:00   57573  7178\n",
       "1558 2019-10-28 02:00:00   58014  7202\n",
       "5250 2019-05-27 06:00:00   58086  3510"
      ]
     },
     "execution_count": 20,
     "metadata": {},
     "output_type": "execute_result"
    }
   ],
   "source": [
    "# Now let's build the (empirical) CDF of the demand\n",
    "demand_sorted=demand.sort_values('demand') # sorts from least demand to highest demand\n",
    "demand_sorted.head(5)"
   ]
  },
  {
   "cell_type": "code",
   "execution_count": 30,
   "metadata": {},
   "outputs": [
    {
     "name": "stdout",
     "output_type": "stream",
     "text": [
      "The array a that we just created is [0 1 2 3 4]\n"
     ]
    }
   ],
   "source": [
    "#Now, let's create and array that has the percentile corresponding to each (ordered) demand value\n",
    "#The 8760th demand value will be the percentile 100 or have a CDF of 1\n",
    "#The 876th demand value will be the percentile 10 or have a CDF of 0.1\n",
    "#let's first remember how to use np.array - np.array(range(N)) creates an array of elements 0, 1, 2,..N\n",
    "# for example\n",
    "a=np.array(range(5))\n",
    "print(\"The array a that we just created is\",a[:])\n"
   ]
  },
  {
   "cell_type": "code",
   "execution_count": 52,
   "metadata": {},
   "outputs": [
    {
     "name": "stdout",
     "output_type": "stream",
     "text": [
      "The first elements of the CDF array are [0 1 2 3 4 5]\n",
      "The last elements of the CDF array are [8755 8756 8757 8758 8759]\n"
     ]
    }
   ],
   "source": [
    "CDF=np.array(range(8760))\n",
    "print(\"The first elements of the CDF array are\", CDF[0:6])\n",
    "print(\"The last elements of the CDF array are\",CDF[8755:8760])"
   ]
  },
  {
   "cell_type": "code",
   "execution_count": 53,
   "metadata": {},
   "outputs": [
    {
     "name": "stdout",
     "output_type": "stream",
     "text": [
      "The first five elements of the adjusted CDF array are [1 2 3 4 5 6]\n"
     ]
    }
   ],
   "source": [
    "# Now we adjust CDF so the first element has 1, the second has 2 etc.. by adding 1\n",
    "CDF=CDF+1\n",
    "print(\"The first five elements of the adjusted CDF array are\",CDF[0:6])"
   ]
  },
  {
   "cell_type": "code",
   "execution_count": 54,
   "metadata": {},
   "outputs": [
    {
     "data": {
      "image/png": "[encoded data removed]",
      "text/plain": [
       "<Figure size 432x288 with 1 Axes>"
      ]
     },
     "metadata": {
      "needs_background": "light"
     },
     "output_type": "display_data"
    }
   ],
   "source": [
    "CDF = CDF/float(8760)\n",
    "plt.plot(demand_sorted['demand'], CDF)\n",
    "plt.xlabel('y, MW')\n",
    "plt.ylabel('Probability that X<= y')\n",
    "plt.title('Probability that a randomly chosen hour, would have had a demand equal or lower than this value in 2019')\n",
    "plt.show()"
   ]
  },
  {
   "cell_type": "code",
   "execution_count": null,
   "metadata": {},
   "outputs": [],
   "source": []
  }
 ],
 "metadata": {
  "kernelspec": {
   "display_name": "Python 3",
   "language": "python",
   "name": "python3"
  },
  "language_info": {
   "codemirror_mode": {
    "name": "ipython",
    "version": 3
   },
   "file_extension": ".py",
   "mimetype": "text/x-python",
   "name": "python",
   "nbconvert_exporter": "python",
   "pygments_lexer": "ipython3",
   "version": "3.8.8"
  }
 },
 "nbformat": 4,
 "nbformat_minor": 2
}
