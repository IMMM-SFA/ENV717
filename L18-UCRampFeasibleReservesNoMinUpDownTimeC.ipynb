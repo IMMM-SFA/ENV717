{
 "cells": [
  {
   "cell_type": "markdown",
   "id": "45be5654",
   "metadata": {},
   "source": [
    "# ENV717 L18 - UNIT COMMITMENT PROBLEM with RAMP-FEASIBLE RESERVES"
   ]
  },
  {
   "cell_type": "markdown",
   "id": "18ad7778",
   "metadata": {},
   "source": [
    "### Data from Handout Lesson 8 - 9 - 10\n",
    "##### Constraints Included:  Pmin, Pmax, Demand Balance constraints, On-Off logic constraints, No simultaneous Start-up and Shut-down, Ramp, RAMP FEASIBLE reserves\n",
    "#### Costs included: Fixed, variable, startUp and shutDown\n",
    "#### Work on your own to include min up-time and min-down time constraints"
   ]
  },
  {
   "cell_type": "code",
   "execution_count": 1,
   "id": "4f1c411e",
   "metadata": {},
   "outputs": [],
   "source": [
    "import os\n",
    "import pandas as pd\n",
    "import numpy as np\n",
    "import matplotlib.pyplot as plt\n",
    "from pyomo.environ import *\n",
    "opt = SolverFactory('cplex') #The CPLEX license is free for students - In Colab you can use CBC"
   ]
  },
  {
   "cell_type": "code",
   "execution_count": 2,
   "id": "4ed9cb3a",
   "metadata": {},
   "outputs": [],
   "source": [
    "#Read data\n",
    "df_genData=pd.read_excel(io=\"UCData.xlsx\",sheet_name=\"GeneratorsData\",skiprows=1) #read data from generators tab and skip the first row\n",
    "df_demandData=pd.read_excel(io=\"UCData.xlsx\",sheet_name=\"DemandData\",skiprows=1) #read data from demand tab and skip the first row\n",
    "df_reservesData=pd.read_excel(io=\"UCData.xlsx\",sheet_name=\"ReservesData\",skiprows=1) #read data from reserves tab and skip the first row"
   ]
  },
  {
   "cell_type": "code",
   "execution_count": 3,
   "id": "925e990c",
   "metadata": {},
   "outputs": [
    {
     "name": "stdout",
     "output_type": "stream",
     "text": [
      "We read data for 2 power generating units\n",
      "We read data for 24 time periods\n"
     ]
    }
   ],
   "source": [
    "#define the size of the sets\n",
    "NumGen=len(df_genData)\n",
    "NumPeriods=len(df_demandData)\n",
    "T=len(df_demandData)\n",
    "print(\"We read data for\", NumGen, \"power generating units\")\n",
    "print(\"We read data for\", T, \"time periods\")"
   ]
  },
  {
   "cell_type": "code",
   "execution_count": 4,
   "id": "670ac82a",
   "metadata": {},
   "outputs": [],
   "source": [
    "#Define Indexes\n",
    "N=np.array([n for n in range(0,NumGen)]) #This array has 2 components, but the index starts at zero\n",
    "T=np.array([t for t in range(0,NumPeriods)])\n",
    "T2=np.array([t2 for t2 in range(1,NumPeriods)])#Need this t2 index to write the ramp-up constraints"
   ]
  },
  {
   "cell_type": "code",
   "execution_count": 5,
   "id": "76a1828d",
   "metadata": {},
   "outputs": [
    {
     "name": "stdout",
     "output_type": "stream",
     "text": [
      "[ 1  2  3  4  5  6  7  8  9 10 11 12 13 14 15 16 17 18 19 20 21 22 23]\n"
     ]
    }
   ],
   "source": [
    "print(T2)"
   ]
  },
  {
   "cell_type": "code",
   "execution_count": 6,
   "id": "399505a0",
   "metadata": {},
   "outputs": [
    {
     "data": {
      "text/plain": [
       "Index(['FixedCost', 'SDCost', 'SUCost', 'VarCost', 'MaxGen', 'MinGen',\n",
       "       'RampDown', 'RampSD', 'RampSU', 'RampUp', 'MinUpTime', 'MinDownTime',\n",
       "       'ReqUp', 'ReqDown', 'InitialStatus', 'InitialGen'],\n",
       "      dtype='object')"
      ]
     },
     "execution_count": 6,
     "metadata": {},
     "output_type": "execute_result"
    }
   ],
   "source": [
    "df_genData.columns"
   ]
  },
  {
   "cell_type": "code",
   "execution_count": 7,
   "id": "254474ec",
   "metadata": {},
   "outputs": [],
   "source": [
    "##Declare the generator's parameters and assign them the data we read before\n",
    "FixCost=df_genData.loc[:,'FixedCost'].to_numpy()\n",
    "SDCost=df_genData.loc[:,'SDCost'].to_numpy()\n",
    "SUCost=df_genData.loc[:,'SUCost'].to_numpy()\n",
    "VarCost=df_genData.loc[:,'VarCost'].to_numpy()\n",
    "PMax=df_genData.loc[:,'MaxGen'].to_numpy()\n",
    "PMin=df_genData.loc[:,'MinGen'].to_numpy()\n",
    "UpRamp=df_genData.loc[:,'RampUp'].to_numpy()\n",
    "DownRamp=df_genData.loc[:,'RampDown'].to_numpy()\n",
    "SURamp=df_genData.loc[:,'RampSU'].to_numpy()\n",
    "SDRamp=df_genData.loc[:,'RampSD'].to_numpy()\n",
    "MinUpTime=df_genData.loc[:,'MinUpTime'].to_numpy()\n",
    "MinDownTime=df_genData.loc[:,'MinDownTime'].to_numpy()\n",
    "ReqOn=df_genData.loc[:,'ReqUp'].to_numpy()\n",
    "ReqOff=df_genData.loc[:,'ReqDown'].to_numpy()\n",
    "InitialOnOff=df_genData.loc[:,'InitialStatus'].to_numpy()\n",
    "InitialGen=df_genData.loc[:,'InitialGen'].to_numpy()\n",
    "##Declare the system's parameters and assign them the data we read\n",
    "Demand=df_demandData.loc[:,'Demand'].to_numpy()\n",
    "ReqReserves=df_reservesData.loc[:,'Reserves'].to_numpy()"
   ]
  },
  {
   "cell_type": "code",
   "execution_count": 8,
   "id": "2182a4a2",
   "metadata": {},
   "outputs": [],
   "source": [
    "#UC MODEL\n",
    "def Unit_Commitment():\n",
    "    m=ConcreteModel()\n",
    "    m.N=Set(initialize=N)\n",
    "    m.T=Set(initialize=T)\n",
    "    m.T2=Set(initialize=T2)\n",
    "    m.p=Var(m.N, m.T, bounds = (0,3500))#This is power generation\n",
    "    m.pbar=Var(m.N,m.T, bounds=(0,3500))#This is feasible/available power generation \n",
    "    m.u=Var(m.N, m.T, domain=Binary)\n",
    "    m.y=Var(m.N, m.T, domain=Binary)\n",
    "    m.z=Var(m.N, m.T, domain=Binary)\n",
    "    m.system_cost=Objective(expr=sum(m.p[n,t]*VarCost[n]+m.u[n,t]*FixCost[n]+m.y[n,t]*SUCost[n]+m.z[n,t]*SDCost[n] for n in m.N for t in m.T), sense=minimize)\n",
    "    m.DemandConstraint=Constraint(m.T, rule=lambda m, t: sum(m.p[n,t] for n in N) == Demand[t])\n",
    "   # m.Reserves=Constraint(m.T, rule=lambda m, t: sum(m.u[n,t]*PMax[n] for n in N)>= Demand[t]+ReqReserves[t])\n",
    "    m.RampFeasibleReserves=Constraint(m.T, rule=lambda m, t: sum(m.pbar[n,t] for n in N) >= Demand[t]+ReqReserves[t])#replaces the reserves constraint\n",
    "    m.MinPowerPbar=Constraint(m.N, m.T, rule=lambda m, n, t: PMin[n]*m.u[n,t] <= m.pbar[n,t])#for pbar\n",
    "    m.MaxPowerPbar=Constraint(m.N, m.T, rule=lambda m, n, t: PMax[n]*m.u[n,t] >= m.pbar[n,t])#for pbar\n",
    "    m.PlessPbar=Constraint(m.N, m.T, rule=lambda m, n, t: m.p[n,t]<=m.pbar[n,t] )#p must be less than pbar\n",
    "    m.MinPower=Constraint(m.N, m.T, rule=lambda m, n, t: PMin[n]*m.u[n,t] <= m.p[n,t])\n",
    "    m.RampUpt1Pbar=Constraint(m.N, rule=lambda m, n: m.pbar[n,0]-InitialGen[n]<=InitialOnOff[n]*UpRamp[n]+m.y[n,0]*SURamp[n])#for pbar\n",
    "    m.RampUpPbar=Constraint(m.N, m.T2, rule=lambda m, n, t2: m.pbar[n,t2]-m.p[n,t2-1]<=m.u[n,t2-1]*UpRamp[n]+m.y[n,t2]*SURamp[n])#Links pbar & p\n",
    "    m.RampDownt1Pbar=Constraint(m.N, rule=lambda m, n: InitialGen[n]-m.pbar[n,0]<=m.u[n,0]*DownRamp[n]+m.z[n,0]*SDRamp[n])#for pbar\n",
    "    m.RampDownPbar=Constraint(m.N, m.T2, rule=lambda m, n, t2: m.p[n,t2-1]-m.pbar[n,t2]<=m.u[n,t2]*DownRamp[n]+m.z[n,t2]*SDRamp[n])#Links pbar & p\n",
    "    m.RampDownt1=Constraint(m.N, rule=lambda m, n: InitialGen[n]-m.p[n,0]<=m.u[n,0]*DownRamp[n]+m.z[n,0]*SDRamp[n])\n",
    "    m.RampDown=Constraint(m.N, m.T2, rule=lambda m, n, t2: m.p[n,t2-1]-m.p[n,t2]<=m.u[n,t2]*DownRamp[n]+m.z[n,t2]*SDRamp[n])#Links\n",
    "    m.OnOfflogict1=Constraint(m.N, rule=lambda m, n: m.y[n,0]-m.z[n,0]==m.u[n,0]-InitialOnOff[n])\n",
    "    m.OnOfflogic=Constraint(m.N, m.T2, rule=lambda m, n, t2: m.y[n,t2]-m.z[n,t2]==m.u[n,t2]-m.u[n,t2-1])   \n",
    "    m.NoSuSD=Constraint(m.N,m.T, rule=lambda m,n,t: m.y[n,t]+m.z[n,t]<=1) \n",
    "    return m"
   ]
  },
  {
   "cell_type": "code",
   "execution_count": 9,
   "id": "12df3ab3",
   "metadata": {},
   "outputs": [
    {
     "name": "stdout",
     "output_type": "stream",
     "text": [
      "# ==========================================================\n",
      "# = Solver Results                                         =\n",
      "# ==========================================================\n",
      "# ----------------------------------------------------------\n",
      "#   Problem Information\n",
      "# ----------------------------------------------------------\n",
      "Problem: \n",
      "- Name: tmpj61_dzos\n",
      "  Lower bound: 191194.0\n",
      "  Upper bound: 191194.0\n",
      "  Number of objectives: 1\n",
      "  Number of constraints: 481\n",
      "  Number of variables: 241\n",
      "  Number of nonzeros: 1335\n",
      "  Sense: minimize\n",
      "# ----------------------------------------------------------\n",
      "#   Solver Information\n",
      "# ----------------------------------------------------------\n",
      "Solver: \n",
      "- Status: ok\n",
      "  User time: 0.02\n",
      "  Termination condition: optimal\n",
      "  Termination message: MIP - Integer optimal solution\\x3a Objective = 1.9119400000e+05\n",
      "  Statistics: \n",
      "    Branch and bound: \n",
      "      Number of bounded subproblems: 0\n",
      "      Number of created subproblems: 0\n",
      "  Error rc: 0\n",
      "  Time: 0.9958920478820801\n",
      "# ----------------------------------------------------------\n",
      "#   Solution Information\n",
      "# ----------------------------------------------------------\n",
      "Solution: \n",
      "- number of solutions: 0\n",
      "  number of solutions displayed: 0\n"
     ]
    }
   ],
   "source": [
    "m=Unit_Commitment()\n",
    "SolverFactory('cplex').solve(m).write() # Instead of this line, write \"opt.solve(m)\" if model's details are not important"
   ]
  },
  {
   "cell_type": "code",
   "execution_count": 10,
   "id": "e2543438",
   "metadata": {},
   "outputs": [
    {
     "name": "stdout",
     "output_type": "stream",
     "text": [
      "SOLUTION\n",
      "The total system cost is = $ 191194.0\n",
      "Commitment and Generation\n",
      "n =  0  t =  0   u[0,0] 1 y[0,0] 0 z[0,0] 0 140.00\n",
      "n =  0  t =  1   u[0,1] 1 y[0,1] 0 z[0,1] 0 170.00\n",
      "n =  0  t =  2   u[0,2] 1 y[0,2] -0 z[0,2] -0 210.00\n",
      "n =  0  t =  3   u[0,3] 1 y[0,3] -0 z[0,3] -0 220.00\n",
      "n =  0  t =  4   u[0,4] 1 y[0,4] -0 z[0,4] -0 200.00\n",
      "n =  0  t =  5   u[0,5] 1 y[0,5] -0 z[0,5] -0 210.00\n",
      "n =  0  t =  6   u[0,6] 1 y[0,6] -0 z[0,6] -0 230.00\n",
      "n =  0  t =  7   u[0,7] 1 y[0,7] -0 z[0,7] -0 270.00\n",
      "n =  0  t =  8   u[0,8] 1 y[0,8] -0 z[0,8] -0 290.00\n",
      "n =  0  t =  9   u[0,9] 1 y[0,9] -0 z[0,9] -0 300.00\n",
      "n =  0  t = 10   u[0,10] 1 y[0,10] -0 z[0,10] -0 300.00\n",
      "n =  0  t = 11   u[0,11] 1 y[0,11] -0 z[0,11] -0 300.00\n",
      "n =  0  t = 12   u[0,12] 1 y[0,12] -0 z[0,12] -0 300.00\n",
      "n =  0  t = 13   u[0,13] 1 y[0,13] -0 z[0,13] -0 300.00\n",
      "n =  0  t = 14   u[0,14] 1 y[0,14] -0 z[0,14] -0 300.00\n",
      "n =  0  t = 15   u[0,15] 1 y[0,15] -0 z[0,15] -0 300.00\n",
      "n =  0  t = 16   u[0,16] 1 y[0,16] -0 z[0,16] -0 280.00\n",
      "n =  0  t = 17   u[0,17] 1 y[0,17] -0 z[0,17] -0 240.00\n",
      "n =  0  t = 18   u[0,18] 1 y[0,18] -0 z[0,18] -0 240.00\n",
      "n =  0  t = 19   u[0,19] 1 y[0,19] -0 z[0,19] -0 250.00\n",
      "n =  0  t = 20   u[0,20] 1 y[0,20] -0 z[0,20] -0 230.00\n",
      "n =  0  t = 21   u[0,21] 1 y[0,21] -0 z[0,21] -0 220.00\n",
      "n =  0  t = 22   u[0,22] 1 y[0,22] -0 z[0,22] -0 200.00\n",
      "n =  0  t = 23   u[0,23] 1 y[0,23] -0 z[0,23] -0 190.00\n",
      "n =  1  t =  0   u[1,0] 1 y[1,0] 0 z[1,0] 0 60.00\n",
      "n =  1  t =  1   u[1,1] 1 y[1,1] 0 z[1,1] 0 60.00\n",
      "n =  1  t =  2   u[1,2] 1 y[1,2] 0 z[1,2] 0 60.00\n",
      "n =  1  t =  3   u[1,3] 1 y[1,3] 0 z[1,3] 0 60.00\n",
      "n =  1  t =  4   u[1,4] 1 y[1,4] 0 z[1,4] 0 60.00\n",
      "n =  1  t =  5   u[1,5] 1 y[1,5] -0 z[1,5] -0 60.00\n",
      "n =  1  t =  6   u[1,6] 1 y[1,6] 0 z[1,6] 0 60.00\n",
      "n =  1  t =  7   u[1,7] 1 y[1,7] 0 z[1,7] 0 60.00\n",
      "n =  1  t =  8   u[1,8] 1 y[1,8] 0 z[1,8] 0 60.00\n",
      "n =  1  t =  9   u[1,9] 1 y[1,9] 0 z[1,9] 0 70.00\n",
      "n =  1  t = 10   u[1,10] 1 y[1,10] 0 z[1,10] 0 100.00\n",
      "n =  1  t = 11   u[1,11] 1 y[1,11] 0 z[1,11] 0 110.00\n",
      "n =  1  t = 12   u[1,12] 1 y[1,12] 0 z[1,12] 0 120.00\n",
      "n =  1  t = 13   u[1,13] 1 y[1,13] 0 z[1,13] 0 120.00\n",
      "n =  1  t = 14   u[1,14] 1 y[1,14] 0 z[1,14] 0 80.00\n",
      "n =  1  t = 15   u[1,15] 1 y[1,15] 0 z[1,15] 0 60.00\n",
      "n =  1  t = 16   u[1,16] 1 y[1,16] 0 z[1,16] 0 60.00\n",
      "n =  1  t = 17   u[1,17] 1 y[1,17] 0 z[1,17] 0 60.00\n",
      "n =  1  t = 18   u[1,18] 1 y[1,18] 0 z[1,18] 0 60.00\n",
      "n =  1  t = 19   u[1,19] 1 y[1,19] 0 z[1,19] 0 60.00\n",
      "n =  1  t = 20   u[1,20] 1 y[1,20] 0 z[1,20] 0 60.00\n",
      "n =  1  t = 21   u[1,21] 1 y[1,21] 0 z[1,21] 0 60.00\n",
      "n =  1  t = 22   u[1,22] 1 y[1,22] 0 z[1,22] 0 60.00\n",
      "n =  1  t = 23   u[1,23] 1 y[1,23] -0 z[1,23] -0 60.00\n"
     ]
    }
   ],
   "source": [
    "print('SOLUTION')\n",
    "print('The total system cost is = $',m.system_cost())\n",
    "print('Commitment and Generation')\n",
    "for n in N:\n",
    "    for t in T:\n",
    "        print(\"n = {0:2d}  t = {1:2d}   {2} {3:.0f} {4} {5:.0f} {6} {7:.0f} {8:.2f}\".format(n, t, m.u[n,t], m.u[n,t](), m.y[n,t], m.y[n,t](), m.z[n,t], m.z[n,t](),m.p[n,t]()))"
   ]
  },
  {
   "cell_type": "code",
   "execution_count": 11,
   "id": "4b6b4ee4",
   "metadata": {},
   "outputs": [
    {
     "data": {
      "image/png": "[encoded data removed]",
      "text/plain": [
       "<Figure size 576x180 with 2 Axes>"
      ]
     },
     "metadata": {
      "needs_background": "light"
     },
     "output_type": "display_data"
    }
   ],
   "source": [
    "#Graph solution\n",
    "fig, ax = plt.subplots(max(N)+1, 1, figsize=(8, 1.5*max(N)+1))\n",
    "for n in N:\n",
    "    ax[n].bar(T+1, [m.p[n,t]() for t in T])\n",
    "    ax[n].set_xlim(0, max(T)+2)\n",
    "    ax[n].set_ylim(0, 1.1*PMax[n])\n",
    "    ax[n].plot(ax[n].get_xlim(), np.array([PMax[n], PMax[n]]), 'r--')\n",
    "    ax[n].plot(ax[n].get_xlim(), np.array([PMin[n], PMin[n]]), 'r--')\n",
    "    ax[n].set_title('Unit ' + str(n+1))\n",
    "fig.tight_layout()"
   ]
  },
  {
   "cell_type": "code",
   "execution_count": null,
   "id": "4438de54",
   "metadata": {},
   "outputs": [],
   "source": []
  },
  {
   "cell_type": "code",
   "execution_count": null,
   "id": "cfc62f8c",
   "metadata": {},
   "outputs": [],
   "source": []
  }
 ],
 "metadata": {
  "kernelspec": {
   "display_name": "Python 3",
   "language": "python",
   "name": "python3"
  },
  "language_info": {
   "codemirror_mode": {
    "name": "ipython",
    "version": 3
   },
   "file_extension": ".py",
   "mimetype": "text/x-python",
   "name": "python",
   "nbconvert_exporter": "python",
   "pygments_lexer": "ipython3",
   "version": "3.8.8"
  }
 },
 "nbformat": 4,
 "nbformat_minor": 5
}
