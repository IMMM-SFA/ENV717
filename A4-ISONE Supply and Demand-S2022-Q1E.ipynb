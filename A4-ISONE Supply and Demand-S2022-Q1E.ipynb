{
 "cells": [
  {
   "cell_type": "markdown",
   "metadata": {
    "scrolled": true
   },
   "source": [
    "# ENV717 - S2022\n",
    "A4\n",
    "Q1. e"
   ]
  },
  {
   "cell_type": "code",
   "execution_count": 6,
   "metadata": {},
   "outputs": [],
   "source": [
    "##################################################################################################\n",
    "#       ENV717 - S2022                                                                           #                            \n",
    "#       This script explores eGRID and \n",
    "#       finds the power supply curve from ISO NEW ENGLAND's baseload generators                #\n",
    "##################################################################################################\n",
    "import os\n",
    "import pandas as pd\n",
    "import numpy as np\n",
    "import matplotlib.pyplot as plt\n",
    "\n",
    "### THIS IS NOT THE MOST ELEGANT SOLUTION OF THIS ASSIGNMENT. MANY OF THE LINES OF CODE COULD HAVE BEEN OBVIATED IF WE \n",
    "### HAD DEFINED SOME BETTER DATA STRUCTURES TO HANDLE PLANTS BY TYPE AND HAD DEFINED THE FUNCTIONS THAT WILL BE USED \n",
    "### MORE THAN ONCE.\n",
    "\n",
    "##################################################################################################################\n",
    "## 1. Read eGRID19 file                                                                                          #\n",
    "##         Read the PLNT19 sheet of the excel file into a pandas DataFrame.                                      #\n",
    "##         A DataFrame is a two-dimensional labeled data structure with columns of potentially different types   #\n",
    "##         Specify that the headers are on the second row of the excel file (i.e., row 1 in Python)              #\n",
    "## 2. Confirm we read all columns by printing the first five rows                                                #\n",
    "###################################################################################################################\n",
    "egrid=pd.read_excel(\"egrid2019_data.xlsx\",sheet_name=\"PLNT19\",keep_default_na=False,header=1)"
   ]
  },
  {
   "cell_type": "code",
   "execution_count": 7,
   "metadata": {},
   "outputs": [
    {
     "name": "stdout",
     "output_type": "stream",
     "text": [
      "There are 1009 plants in  ISO New England\n"
     ]
    }
   ],
   "source": [
    "## 4. Extract the plants using BACODE\n",
    "subset=egrid[egrid['BACODE']==\"ISNE\"]\n",
    "ISOName=\"ISO New England\"\n",
    "print(\"There are\",len(subset),\"plants in \", ISOName)"
   ]
  },
  {
   "cell_type": "code",
   "execution_count": 8,
   "metadata": {},
   "outputs": [
    {
     "data": {
      "text/plain": [
       "dtype('O')"
      ]
     },
     "execution_count": 8,
     "metadata": {},
     "output_type": "execute_result"
    }
   ],
   "source": [
    "#7. Q2a. Find the total installed capacity of a subset of PJM plants that meet these requirements:\n",
    "# Fuel = Coal Gas Nuclear Hydro Oil biomass wind solar\n",
    "# Plant Capacity Factor >= 0.01\n",
    "# Plant Nameplate capacity >= 1 MW\n",
    "# before filtering, need to make sure the type of CAPFAC is numeric\n",
    "subset[\"CAPFAC\"].dtype"
   ]
  },
  {
   "cell_type": "code",
   "execution_count": 9,
   "metadata": {},
   "outputs": [
    {
     "name": "stderr",
     "output_type": "stream",
     "text": [
      "C:\\ProgramData\\Anaconda3\\lib\\site-packages\\pandas\\core\\indexing.py:1676: SettingWithCopyWarning: \n",
      "A value is trying to be set on a copy of a slice from a DataFrame.\n",
      "Try using .loc[row_indexer,col_indexer] = value instead\n",
      "\n",
      "See the caveats in the documentation: https://pandas.pydata.org/pandas-docs/stable/user_guide/indexing.html#returning-a-view-versus-a-copy\n",
      "  self._setitem_single_column(ilocs[0], value, pi)\n"
     ]
    }
   ],
   "source": [
    "# Change CAPFAC to numeric\n",
    "subset.loc[:,\"CAPFAC\"]=pd.to_numeric(subset[\"CAPFAC\"])"
   ]
  },
  {
   "cell_type": "code",
   "execution_count": 10,
   "metadata": {},
   "outputs": [
    {
     "name": "stdout",
     "output_type": "stream",
     "text": [
      "The subset contains 967 plants\n"
     ]
    }
   ],
   "source": [
    "# We will filter by one criteria each time to see how many plants are excluded at each time\n",
    "# but you can combine the criteria using &\n",
    "subsetSub=subset[(subset.PLFUELCT==\"GAS\")|(subset.PLFUELCT==\"COAL\")|(subset.PLFUELCT==\"NUCLEAR\")|(subset.PLFUELCT==\"OIL\")|(subset.PLFUELCT==\"HYDRO\")|(subset.PLFUELCT==\"BIOMASS\")|(subset.PLFUELCT==\"SOLAR\")|(subset.PLFUELCT==\"WIND\")]\n",
    "print(\"The subset contains\",len(subsetSub),\"plants\")"
   ]
  },
  {
   "cell_type": "code",
   "execution_count": 11,
   "metadata": {},
   "outputs": [
    {
     "name": "stdout",
     "output_type": "stream",
     "text": [
      "The subset contains 894 plants\n"
     ]
    }
   ],
   "source": [
    "subsetSub=subsetSub[subsetSub.NAMEPCAP>1]\n",
    "print(\"The subset contains\",len(subsetSub),\"plants\")"
   ]
  },
  {
   "cell_type": "code",
   "execution_count": 12,
   "metadata": {},
   "outputs": [
    {
     "name": "stdout",
     "output_type": "stream",
     "text": [
      "The subset contains 744 plants\n"
     ]
    }
   ],
   "source": [
    "subsetSub=subsetSub[subsetSub.CAPFAC>0.01]  # This excludes plants that have blanks as CF (which is ok)\n",
    "print(\"The subset contains\",len(subsetSub),\"plants\")"
   ]
  },
  {
   "cell_type": "code",
   "execution_count": 13,
   "metadata": {},
   "outputs": [
    {
     "name": "stdout",
     "output_type": "stream",
     "text": [
      "The total installed capacity of ISO New England plants with more than 1% of CF and more than 1 MW of nameplate is 33340.60 MW\n"
     ]
    }
   ],
   "source": [
    "subsetSubCap=subsetSub.NAMEPCAP.sum()\n",
    "print(\"The total installed capacity of\",ISOName,\"plants with more than 1% of CF and more than 1 MW of nameplate is\",'%.2f' %subsetSubCap,\"MW\")"
   ]
  },
  {
   "cell_type": "code",
   "execution_count": 14,
   "metadata": {},
   "outputs": [
    {
     "data": {
      "text/html": [
       "<div>\n",
       "<style scoped>\n",
       "    .dataframe tbody tr th:only-of-type {\n",
       "        vertical-align: middle;\n",
       "    }\n",
       "\n",
       "    .dataframe tbody tr th {\n",
       "        vertical-align: top;\n",
       "    }\n",
       "\n",
       "    .dataframe thead th {\n",
       "        text-align: right;\n",
       "    }\n",
       "</style>\n",
       "<table border=\"1\" class=\"dataframe\">\n",
       "  <thead>\n",
       "    <tr style=\"text-align: right;\">\n",
       "      <th></th>\n",
       "      <th>PNAME</th>\n",
       "      <th>NAMEPCAP</th>\n",
       "      <th>PLFUELCT</th>\n",
       "      <th>PLHTIAN</th>\n",
       "      <th>PLNGENAN</th>\n",
       "      <th>PLCO2EQA</th>\n",
       "      <th>CAPFAC</th>\n",
       "    </tr>\n",
       "  </thead>\n",
       "  <tbody>\n",
       "    <tr>\n",
       "      <th>2410</th>\n",
       "      <td>ALDI DC 2</td>\n",
       "      <td>1.2</td>\n",
       "      <td>SOLAR</td>\n",
       "      <td></td>\n",
       "      <td>1683</td>\n",
       "      <td></td>\n",
       "      <td>0.16010</td>\n",
       "    </tr>\n",
       "    <tr>\n",
       "      <th>2412</th>\n",
       "      <td>Algonquin Power Windsor Locks, LLC</td>\n",
       "      <td>71</td>\n",
       "      <td>GAS</td>\n",
       "      <td>31384.936</td>\n",
       "      <td>124109.56</td>\n",
       "      <td>1955.479</td>\n",
       "      <td>0.19955</td>\n",
       "    </tr>\n",
       "    <tr>\n",
       "      <th>2414</th>\n",
       "      <td>Antares-GRE 314 East Lyme LLC</td>\n",
       "      <td>4</td>\n",
       "      <td>SOLAR</td>\n",
       "      <td></td>\n",
       "      <td>5868</td>\n",
       "      <td></td>\n",
       "      <td>0.16747</td>\n",
       "    </tr>\n",
       "    <tr>\n",
       "      <th>2415</th>\n",
       "      <td>Backus Microgrid Project</td>\n",
       "      <td>10.4</td>\n",
       "      <td>OIL</td>\n",
       "      <td>10056</td>\n",
       "      <td>991</td>\n",
       "      <td>824.013</td>\n",
       "      <td>0.01088</td>\n",
       "    </tr>\n",
       "    <tr>\n",
       "      <th>2416</th>\n",
       "      <td>Barrett Farm Solar - Phase I</td>\n",
       "      <td>1.7</td>\n",
       "      <td>SOLAR</td>\n",
       "      <td></td>\n",
       "      <td>2710</td>\n",
       "      <td></td>\n",
       "      <td>0.18198</td>\n",
       "    </tr>\n",
       "  </tbody>\n",
       "</table>\n",
       "</div>"
      ],
      "text/plain": [
       "                                   PNAME NAMEPCAP PLFUELCT    PLHTIAN  \\\n",
       "2410                           ALDI DC 2      1.2    SOLAR              \n",
       "2412  Algonquin Power Windsor Locks, LLC       71      GAS  31384.936   \n",
       "2414       Antares-GRE 314 East Lyme LLC        4    SOLAR              \n",
       "2415            Backus Microgrid Project     10.4      OIL      10056   \n",
       "2416        Barrett Farm Solar - Phase I      1.7    SOLAR              \n",
       "\n",
       "       PLNGENAN  PLCO2EQA   CAPFAC  \n",
       "2410       1683            0.16010  \n",
       "2412  124109.56  1955.479  0.19955  \n",
       "2414       5868            0.16747  \n",
       "2415        991   824.013  0.01088  \n",
       "2416       2710            0.18198  "
      ]
     },
     "execution_count": 14,
     "metadata": {},
     "output_type": "execute_result"
    }
   ],
   "source": [
    "#8. Q2c. Plot the supply curve assuming all plants are those in the subsetSub\n",
    "# Before proceeding let's take just the columns that will be used - we need CAPFAC\n",
    "subsetSub=subsetSub.loc[:,[\"PNAME\",\"NAMEPCAP\",\"PLFUELCT\",\"PLHTIAN\",\"PLNGENAN\",\"PLCO2EQA\",\"CAPFAC\"]]\n",
    "subsetSub.head(5)"
   ]
  },
  {
   "cell_type": "code",
   "execution_count": 15,
   "metadata": {},
   "outputs": [
    {
     "data": {
      "text/plain": [
       "dtype('O')"
      ]
     },
     "execution_count": 15,
     "metadata": {},
     "output_type": "execute_result"
    }
   ],
   "source": [
    "# check the type of PLHTIAN\n",
    "subsetSub[\"PLHTIAN\"].dtype"
   ]
  },
  {
   "cell_type": "code",
   "execution_count": 16,
   "metadata": {},
   "outputs": [
    {
     "data": {
      "text/plain": [
       "dtype('float64')"
      ]
     },
     "execution_count": 16,
     "metadata": {},
     "output_type": "execute_result"
    }
   ],
   "source": [
    "# convert PLHTIAN to numeric\n",
    "subsetSub[\"PLHTIAN\"]=pd.to_numeric(subsetSub[\"PLHTIAN\"])\n",
    "subsetSub[\"PLHTIAN\"].dtype"
   ]
  },
  {
   "cell_type": "code",
   "execution_count": 17,
   "metadata": {},
   "outputs": [],
   "source": [
    "# To build the supply curve we need to find the marginal cost of each plant first\n",
    "# will assume marginal cost for coal/gas plants is fuel cost only\n",
    "# Need to calculate fuel cost by multiplying heat-rate and fuel price\n",
    "# First calculate HEAT RATE -->HEAT RATE (MMBTU/MWH) = ANNUAL HEAT INPUT (MMBTU)/ANNUAL GENERATION (MWH)\n",
    "# Add heat-rate as a new column to pjmSub\n",
    "subsetSub[\"HEATRATE\"]=subsetSub[\"PLHTIAN\"] / subsetSub[\"PLNGENAN\"]"
   ]
  },
  {
   "cell_type": "code",
   "execution_count": 18,
   "metadata": {},
   "outputs": [
    {
     "data": {
      "text/html": [
       "<div>\n",
       "<style scoped>\n",
       "    .dataframe tbody tr th:only-of-type {\n",
       "        vertical-align: middle;\n",
       "    }\n",
       "\n",
       "    .dataframe tbody tr th {\n",
       "        vertical-align: top;\n",
       "    }\n",
       "\n",
       "    .dataframe thead th {\n",
       "        text-align: right;\n",
       "    }\n",
       "</style>\n",
       "<table border=\"1\" class=\"dataframe\">\n",
       "  <thead>\n",
       "    <tr style=\"text-align: right;\">\n",
       "      <th></th>\n",
       "      <th>PNAME</th>\n",
       "      <th>NAMEPCAP</th>\n",
       "      <th>PLFUELCT</th>\n",
       "      <th>PLHTIAN</th>\n",
       "      <th>PLNGENAN</th>\n",
       "      <th>PLCO2EQA</th>\n",
       "      <th>CAPFAC</th>\n",
       "      <th>HEATRATE</th>\n",
       "    </tr>\n",
       "  </thead>\n",
       "  <tbody>\n",
       "    <tr>\n",
       "      <th>2410</th>\n",
       "      <td>ALDI DC 2</td>\n",
       "      <td>1.2</td>\n",
       "      <td>SOLAR</td>\n",
       "      <td>NaN</td>\n",
       "      <td>1683</td>\n",
       "      <td></td>\n",
       "      <td>0.16010</td>\n",
       "      <td>NaN</td>\n",
       "    </tr>\n",
       "    <tr>\n",
       "      <th>2412</th>\n",
       "      <td>Algonquin Power Windsor Locks, LLC</td>\n",
       "      <td>71</td>\n",
       "      <td>GAS</td>\n",
       "      <td>31384.936</td>\n",
       "      <td>124109.56</td>\n",
       "      <td>1955.479</td>\n",
       "      <td>0.19955</td>\n",
       "      <td>0.252881</td>\n",
       "    </tr>\n",
       "    <tr>\n",
       "      <th>2414</th>\n",
       "      <td>Antares-GRE 314 East Lyme LLC</td>\n",
       "      <td>4</td>\n",
       "      <td>SOLAR</td>\n",
       "      <td>NaN</td>\n",
       "      <td>5868</td>\n",
       "      <td></td>\n",
       "      <td>0.16747</td>\n",
       "      <td>NaN</td>\n",
       "    </tr>\n",
       "    <tr>\n",
       "      <th>2415</th>\n",
       "      <td>Backus Microgrid Project</td>\n",
       "      <td>10.4</td>\n",
       "      <td>OIL</td>\n",
       "      <td>10056.000</td>\n",
       "      <td>991</td>\n",
       "      <td>824.013</td>\n",
       "      <td>0.01088</td>\n",
       "      <td>10.147326</td>\n",
       "    </tr>\n",
       "    <tr>\n",
       "      <th>2416</th>\n",
       "      <td>Barrett Farm Solar - Phase I</td>\n",
       "      <td>1.7</td>\n",
       "      <td>SOLAR</td>\n",
       "      <td>NaN</td>\n",
       "      <td>2710</td>\n",
       "      <td></td>\n",
       "      <td>0.18198</td>\n",
       "      <td>NaN</td>\n",
       "    </tr>\n",
       "  </tbody>\n",
       "</table>\n",
       "</div>"
      ],
      "text/plain": [
       "                                   PNAME NAMEPCAP PLFUELCT    PLHTIAN  \\\n",
       "2410                           ALDI DC 2      1.2    SOLAR        NaN   \n",
       "2412  Algonquin Power Windsor Locks, LLC       71      GAS  31384.936   \n",
       "2414       Antares-GRE 314 East Lyme LLC        4    SOLAR        NaN   \n",
       "2415            Backus Microgrid Project     10.4      OIL  10056.000   \n",
       "2416        Barrett Farm Solar - Phase I      1.7    SOLAR        NaN   \n",
       "\n",
       "       PLNGENAN  PLCO2EQA   CAPFAC   HEATRATE  \n",
       "2410       1683            0.16010        NaN  \n",
       "2412  124109.56  1955.479  0.19955   0.252881  \n",
       "2414       5868            0.16747        NaN  \n",
       "2415        991   824.013  0.01088  10.147326  \n",
       "2416       2710            0.18198        NaN  "
      ]
     },
     "execution_count": 18,
     "metadata": {},
     "output_type": "execute_result"
    }
   ],
   "source": [
    "# let's check that we added the new column heat rate by looking at the first 5 rows\n",
    "#The non-thermal plants (e.g., nucclear did not consume BTUs as fuel so the heatrate will be meaningless but that is ok)\n",
    "subsetSub.head(5)"
   ]
  },
  {
   "cell_type": "code",
   "execution_count": 19,
   "metadata": {},
   "outputs": [
    {
     "data": {
      "text/html": [
       "<div>\n",
       "<style scoped>\n",
       "    .dataframe tbody tr th:only-of-type {\n",
       "        vertical-align: middle;\n",
       "    }\n",
       "\n",
       "    .dataframe tbody tr th {\n",
       "        vertical-align: top;\n",
       "    }\n",
       "\n",
       "    .dataframe thead th {\n",
       "        text-align: right;\n",
       "    }\n",
       "</style>\n",
       "<table border=\"1\" class=\"dataframe\">\n",
       "  <thead>\n",
       "    <tr style=\"text-align: right;\">\n",
       "      <th></th>\n",
       "      <th>PNAME</th>\n",
       "      <th>NAMEPCAP</th>\n",
       "      <th>PLFUELCT</th>\n",
       "      <th>PLHTIAN</th>\n",
       "      <th>PLNGENAN</th>\n",
       "      <th>PLCO2EQA</th>\n",
       "      <th>CAPFAC</th>\n",
       "      <th>HEATRATE</th>\n",
       "      <th>MARGCOST</th>\n",
       "      <th>ADJCAP</th>\n",
       "    </tr>\n",
       "  </thead>\n",
       "  <tbody>\n",
       "    <tr>\n",
       "      <th>2410</th>\n",
       "      <td>ALDI DC 2</td>\n",
       "      <td>1.2</td>\n",
       "      <td>SOLAR</td>\n",
       "      <td>NaN</td>\n",
       "      <td>1683</td>\n",
       "      <td></td>\n",
       "      <td>0.16010</td>\n",
       "      <td>NaN</td>\n",
       "      <td>0</td>\n",
       "      <td>0</td>\n",
       "    </tr>\n",
       "    <tr>\n",
       "      <th>2412</th>\n",
       "      <td>Algonquin Power Windsor Locks, LLC</td>\n",
       "      <td>71</td>\n",
       "      <td>GAS</td>\n",
       "      <td>31384.936</td>\n",
       "      <td>124109.56</td>\n",
       "      <td>1955.479</td>\n",
       "      <td>0.19955</td>\n",
       "      <td>0.252881</td>\n",
       "      <td>0</td>\n",
       "      <td>0</td>\n",
       "    </tr>\n",
       "    <tr>\n",
       "      <th>2414</th>\n",
       "      <td>Antares-GRE 314 East Lyme LLC</td>\n",
       "      <td>4</td>\n",
       "      <td>SOLAR</td>\n",
       "      <td>NaN</td>\n",
       "      <td>5868</td>\n",
       "      <td></td>\n",
       "      <td>0.16747</td>\n",
       "      <td>NaN</td>\n",
       "      <td>0</td>\n",
       "      <td>0</td>\n",
       "    </tr>\n",
       "    <tr>\n",
       "      <th>2415</th>\n",
       "      <td>Backus Microgrid Project</td>\n",
       "      <td>10.4</td>\n",
       "      <td>OIL</td>\n",
       "      <td>10056.000</td>\n",
       "      <td>991</td>\n",
       "      <td>824.013</td>\n",
       "      <td>0.01088</td>\n",
       "      <td>10.147326</td>\n",
       "      <td>0</td>\n",
       "      <td>0</td>\n",
       "    </tr>\n",
       "    <tr>\n",
       "      <th>2416</th>\n",
       "      <td>Barrett Farm Solar - Phase I</td>\n",
       "      <td>1.7</td>\n",
       "      <td>SOLAR</td>\n",
       "      <td>NaN</td>\n",
       "      <td>2710</td>\n",
       "      <td></td>\n",
       "      <td>0.18198</td>\n",
       "      <td>NaN</td>\n",
       "      <td>0</td>\n",
       "      <td>0</td>\n",
       "    </tr>\n",
       "  </tbody>\n",
       "</table>\n",
       "</div>"
      ],
      "text/plain": [
       "                                   PNAME NAMEPCAP PLFUELCT    PLHTIAN  \\\n",
       "2410                           ALDI DC 2      1.2    SOLAR        NaN   \n",
       "2412  Algonquin Power Windsor Locks, LLC       71      GAS  31384.936   \n",
       "2414       Antares-GRE 314 East Lyme LLC        4    SOLAR        NaN   \n",
       "2415            Backus Microgrid Project     10.4      OIL  10056.000   \n",
       "2416        Barrett Farm Solar - Phase I      1.7    SOLAR        NaN   \n",
       "\n",
       "       PLNGENAN  PLCO2EQA   CAPFAC   HEATRATE  MARGCOST  ADJCAP  \n",
       "2410       1683            0.16010        NaN         0       0  \n",
       "2412  124109.56  1955.479  0.19955   0.252881         0       0  \n",
       "2414       5868            0.16747        NaN         0       0  \n",
       "2415        991   824.013  0.01088  10.147326         0       0  \n",
       "2416       2710            0.18198        NaN         0       0  "
      ]
     },
     "execution_count": 19,
     "metadata": {},
     "output_type": "execute_result"
    }
   ],
   "source": [
    "# Now lets create a column of marginal cost in $MWh\n",
    "# Initialize the new column in zeros\n",
    "subsetSub[\"MARGCOST\"]=0      \n",
    "#lets create also a new column with adjusted capacity, and initialize it in 0\n",
    "subsetSub[\"ADJCAP\"]=0\n",
    "subsetSub.head(5)"
   ]
  },
  {
   "cell_type": "code",
   "execution_count": 20,
   "metadata": {},
   "outputs": [
    {
     "data": {
      "text/html": [
       "<div>\n",
       "<style scoped>\n",
       "    .dataframe tbody tr th:only-of-type {\n",
       "        vertical-align: middle;\n",
       "    }\n",
       "\n",
       "    .dataframe tbody tr th {\n",
       "        vertical-align: top;\n",
       "    }\n",
       "\n",
       "    .dataframe thead th {\n",
       "        text-align: right;\n",
       "    }\n",
       "</style>\n",
       "<table border=\"1\" class=\"dataframe\">\n",
       "  <thead>\n",
       "    <tr style=\"text-align: right;\">\n",
       "      <th></th>\n",
       "      <th>PNAME</th>\n",
       "      <th>NAMEPCAP</th>\n",
       "      <th>PLFUELCT</th>\n",
       "      <th>PLHTIAN</th>\n",
       "      <th>PLNGENAN</th>\n",
       "      <th>PLCO2EQA</th>\n",
       "      <th>CAPFAC</th>\n",
       "      <th>HEATRATE</th>\n",
       "      <th>MARGCOST</th>\n",
       "      <th>ADJCAP</th>\n",
       "    </tr>\n",
       "  </thead>\n",
       "  <tbody>\n",
       "    <tr>\n",
       "      <th>2410</th>\n",
       "      <td>ALDI DC 2</td>\n",
       "      <td>1.2</td>\n",
       "      <td>SOLAR</td>\n",
       "      <td>NaN</td>\n",
       "      <td>1683</td>\n",
       "      <td></td>\n",
       "      <td>0.16010</td>\n",
       "      <td>NaN</td>\n",
       "      <td>0.000000</td>\n",
       "      <td>1.2</td>\n",
       "    </tr>\n",
       "    <tr>\n",
       "      <th>2412</th>\n",
       "      <td>Algonquin Power Windsor Locks, LLC</td>\n",
       "      <td>71</td>\n",
       "      <td>GAS</td>\n",
       "      <td>31384.936</td>\n",
       "      <td>124109.56</td>\n",
       "      <td>1955.479</td>\n",
       "      <td>0.19955</td>\n",
       "      <td>0.252881</td>\n",
       "      <td>0.730826</td>\n",
       "      <td>71.0</td>\n",
       "    </tr>\n",
       "    <tr>\n",
       "      <th>2414</th>\n",
       "      <td>Antares-GRE 314 East Lyme LLC</td>\n",
       "      <td>4</td>\n",
       "      <td>SOLAR</td>\n",
       "      <td>NaN</td>\n",
       "      <td>5868</td>\n",
       "      <td></td>\n",
       "      <td>0.16747</td>\n",
       "      <td>NaN</td>\n",
       "      <td>0.000000</td>\n",
       "      <td>4.0</td>\n",
       "    </tr>\n",
       "    <tr>\n",
       "      <th>2415</th>\n",
       "      <td>Backus Microgrid Project</td>\n",
       "      <td>10.4</td>\n",
       "      <td>OIL</td>\n",
       "      <td>10056.000</td>\n",
       "      <td>991</td>\n",
       "      <td>824.013</td>\n",
       "      <td>0.01088</td>\n",
       "      <td>10.147326</td>\n",
       "      <td>152.209889</td>\n",
       "      <td>10.4</td>\n",
       "    </tr>\n",
       "    <tr>\n",
       "      <th>2416</th>\n",
       "      <td>Barrett Farm Solar - Phase I</td>\n",
       "      <td>1.7</td>\n",
       "      <td>SOLAR</td>\n",
       "      <td>NaN</td>\n",
       "      <td>2710</td>\n",
       "      <td></td>\n",
       "      <td>0.18198</td>\n",
       "      <td>NaN</td>\n",
       "      <td>0.000000</td>\n",
       "      <td>1.7</td>\n",
       "    </tr>\n",
       "  </tbody>\n",
       "</table>\n",
       "</div>"
      ],
      "text/plain": [
       "                                   PNAME NAMEPCAP PLFUELCT    PLHTIAN  \\\n",
       "2410                           ALDI DC 2      1.2    SOLAR        NaN   \n",
       "2412  Algonquin Power Windsor Locks, LLC       71      GAS  31384.936   \n",
       "2414       Antares-GRE 314 East Lyme LLC        4    SOLAR        NaN   \n",
       "2415            Backus Microgrid Project     10.4      OIL  10056.000   \n",
       "2416        Barrett Farm Solar - Phase I      1.7    SOLAR        NaN   \n",
       "\n",
       "       PLNGENAN  PLCO2EQA   CAPFAC   HEATRATE    MARGCOST  ADJCAP  \n",
       "2410       1683            0.16010        NaN    0.000000     1.2  \n",
       "2412  124109.56  1955.479  0.19955   0.252881    0.730826    71.0  \n",
       "2414       5868            0.16747        NaN    0.000000     4.0  \n",
       "2415        991   824.013  0.01088  10.147326  152.209889    10.4  \n",
       "2416       2710            0.18198        NaN    0.000000     1.7  "
      ]
     },
     "execution_count": 20,
     "metadata": {},
     "output_type": "execute_result"
    }
   ],
   "source": [
    "coal_price=2.02 # $/MMBTU\n",
    "gas_price=2.89 # $/MMBTU\n",
    "nuclear_mc=9 # $/MWh\n",
    "hydro_mc=6 # $/MWh\n",
    "oil_price=15 #$MMBTU\n",
    "biomass_price=11.69 #$/MMBTU\n",
    "wind_mc=0\n",
    "solar_mc=0\n",
    "# walk through all the rows of plants and change the MARGCOST and ADJCAP depending on fuel and the A\n",
    "\n",
    "for i in range(0,len(subsetSub)):\n",
    "    if subsetSub.iloc[i,2]==\"COAL\":                     # Remember to use == to compare and = to assign\n",
    "        subsetSub.iloc[i,8]=coal_price*subsetSub.iloc[i,7] # MARGCOST is column 8 because python starts counting from 0\n",
    "        subsetSub.iloc[i,9]=subsetSub.iloc[i,1]\n",
    "    elif subsetSub.iloc[i,2]==\"GAS\":                     \n",
    "         subsetSub.iloc[i,8]=gas_price*subsetSub.iloc[i,7]\n",
    "         subsetSub.iloc[i,9]=subsetSub.iloc[i,1]\n",
    "    elif subsetSub.iloc[i,2]==\"NUCLEAR\":                     \n",
    "         subsetSub.iloc[i,8]=nuclear_mc \n",
    "         subsetSub.iloc[i,9]=subsetSub.iloc[i,1]*0.7#de rating by 70%\n",
    "    elif subsetSub.iloc[i,2]==\"HYDRO\":                     \n",
    "         subsetSub.iloc[i,8]=hydro_mc\n",
    "         subsetSub.iloc[i,9]=subsetSub.iloc[i,1]\n",
    "    elif subsetSub.iloc[i,2]==\"BIOMASS\":                     \n",
    "         subsetSub.iloc[i,8]=biomass_price*subsetSub.iloc[i,7]\n",
    "         subsetSub.iloc[i,9]=subsetSub.iloc[i,1]\n",
    "    elif subsetSub.iloc[i,2]==\"OIL\":                    \n",
    "         subsetSub.iloc[i,8]=oil_price*subsetSub.iloc[i,7] \n",
    "         subsetSub.iloc[i,9]=subsetSub.iloc[i,1]\n",
    "    elif subsetSub.iloc[i,2]==\"WIND\":                    \n",
    "         subsetSub.iloc[i,8]=wind_mc \n",
    "         subsetSub.iloc[i,9]=subsetSub.iloc[i,1]\n",
    "    else:                    ##i.e., solar\n",
    "         subsetSub.iloc[i,8]=solar_mc\n",
    "         subsetSub.iloc[i,9]=subsetSub.iloc[i,1]\n",
    "subsetSub.head(5)"
   ]
  },
  {
   "cell_type": "code",
   "execution_count": 21,
   "metadata": {},
   "outputs": [
    {
     "data": {
      "text/html": [
       "<div>\n",
       "<style scoped>\n",
       "    .dataframe tbody tr th:only-of-type {\n",
       "        vertical-align: middle;\n",
       "    }\n",
       "\n",
       "    .dataframe tbody tr th {\n",
       "        vertical-align: top;\n",
       "    }\n",
       "\n",
       "    .dataframe thead th {\n",
       "        text-align: right;\n",
       "    }\n",
       "</style>\n",
       "<table border=\"1\" class=\"dataframe\">\n",
       "  <thead>\n",
       "    <tr style=\"text-align: right;\">\n",
       "      <th></th>\n",
       "      <th>PNAME</th>\n",
       "      <th>NAMEPCAP</th>\n",
       "      <th>PLFUELCT</th>\n",
       "      <th>PLHTIAN</th>\n",
       "      <th>PLNGENAN</th>\n",
       "      <th>PLCO2EQA</th>\n",
       "      <th>CAPFAC</th>\n",
       "      <th>HEATRATE</th>\n",
       "      <th>MARGCOST</th>\n",
       "      <th>ADJCAP</th>\n",
       "      <th>CUMCAP</th>\n",
       "    </tr>\n",
       "  </thead>\n",
       "  <tbody>\n",
       "    <tr>\n",
       "      <th>2410</th>\n",
       "      <td>ALDI DC 2</td>\n",
       "      <td>1.2</td>\n",
       "      <td>SOLAR</td>\n",
       "      <td>NaN</td>\n",
       "      <td>1683</td>\n",
       "      <td></td>\n",
       "      <td>0.16010</td>\n",
       "      <td>NaN</td>\n",
       "      <td>0.0</td>\n",
       "      <td>1.2</td>\n",
       "      <td>0</td>\n",
       "    </tr>\n",
       "    <tr>\n",
       "      <th>4802</th>\n",
       "      <td>Solten Plainville 6000, LLC</td>\n",
       "      <td>4.9</td>\n",
       "      <td>SOLAR</td>\n",
       "      <td>NaN</td>\n",
       "      <td>7536</td>\n",
       "      <td></td>\n",
       "      <td>0.17557</td>\n",
       "      <td>NaN</td>\n",
       "      <td>0.0</td>\n",
       "      <td>4.9</td>\n",
       "      <td>0</td>\n",
       "    </tr>\n",
       "    <tr>\n",
       "      <th>4798</th>\n",
       "      <td>Smith &amp; Wesson at Springfield MA PV</td>\n",
       "      <td>1.9</td>\n",
       "      <td>SOLAR</td>\n",
       "      <td>NaN</td>\n",
       "      <td>2653</td>\n",
       "      <td></td>\n",
       "      <td>0.15940</td>\n",
       "      <td>NaN</td>\n",
       "      <td>0.0</td>\n",
       "      <td>1.9</td>\n",
       "      <td>0</td>\n",
       "    </tr>\n",
       "    <tr>\n",
       "      <th>4797</th>\n",
       "      <td>SJA Solar LLC-Solterra Monastery CSG</td>\n",
       "      <td>20.1</td>\n",
       "      <td>SOLAR</td>\n",
       "      <td>NaN</td>\n",
       "      <td>23374</td>\n",
       "      <td></td>\n",
       "      <td>0.13275</td>\n",
       "      <td>NaN</td>\n",
       "      <td>0.0</td>\n",
       "      <td>20.1</td>\n",
       "      <td>0</td>\n",
       "    </tr>\n",
       "    <tr>\n",
       "      <th>4795</th>\n",
       "      <td>Silver Lake Solar Photovoltaic Facility</td>\n",
       "      <td>1.8</td>\n",
       "      <td>SOLAR</td>\n",
       "      <td>NaN</td>\n",
       "      <td>1857</td>\n",
       "      <td></td>\n",
       "      <td>0.11777</td>\n",
       "      <td>NaN</td>\n",
       "      <td>0.0</td>\n",
       "      <td>1.8</td>\n",
       "      <td>0</td>\n",
       "    </tr>\n",
       "  </tbody>\n",
       "</table>\n",
       "</div>"
      ],
      "text/plain": [
       "                                        PNAME NAMEPCAP PLFUELCT  PLHTIAN  \\\n",
       "2410                                ALDI DC 2      1.2    SOLAR      NaN   \n",
       "4802              Solten Plainville 6000, LLC      4.9    SOLAR      NaN   \n",
       "4798      Smith & Wesson at Springfield MA PV      1.9    SOLAR      NaN   \n",
       "4797     SJA Solar LLC-Solterra Monastery CSG     20.1    SOLAR      NaN   \n",
       "4795  Silver Lake Solar Photovoltaic Facility      1.8    SOLAR      NaN   \n",
       "\n",
       "     PLNGENAN PLCO2EQA   CAPFAC HEATRATE  MARGCOST  ADJCAP  CUMCAP  \n",
       "2410     1683           0.16010      NaN       0.0     1.2       0  \n",
       "4802     7536           0.17557      NaN       0.0     4.9       0  \n",
       "4798     2653           0.15940      NaN       0.0     1.9       0  \n",
       "4797    23374           0.13275      NaN       0.0    20.1       0  \n",
       "4795     1857           0.11777      NaN       0.0     1.8       0  "
      ]
     },
     "execution_count": 21,
     "metadata": {},
     "output_type": "execute_result"
    }
   ],
   "source": [
    "# Now create three new datasets of baseload plants with the new columns\n",
    "coal2=subsetSub[subsetSub[\"PLFUELCT\"]==\"COAL\"]\n",
    "gas2=subsetSub[subsetSub[\"PLFUELCT\"]==\"GAS\"]\n",
    "nuclear2=subsetSub[subsetSub[\"PLFUELCT\"]==\"NUCLEAR\"]\n",
    "oil2=subsetSub[subsetSub[\"PLFUELCT\"]==\"OIL\"]\n",
    "hydro2=subsetSub[subsetSub[\"PLFUELCT\"]==\"HYDRO\"]\n",
    "biomass2=subsetSub[subsetSub[\"PLFUELCT\"]==\"BIOMASS\"]\n",
    "solar2=subsetSub[subsetSub[\"PLFUELCT\"]==\"SOLAR\"]\n",
    "wind2=subsetSub[subsetSub[\"PLFUELCT\"]==\"WIND\"]\n",
    "# now sort all the plants in ASCENDING order by MARGCOST using sort_values\n",
    "subsetSubSorted=subsetSub.sort_values(\"MARGCOST\")\n",
    "# now create a column with the cummulative capacity [MW] offered at that MARGCOST or less and initialize in zero\n",
    "subsetSubSorted[\"CUMCAP\"]=0\n",
    "subsetSubSorted.head(5)"
   ]
  },
  {
   "cell_type": "code",
   "execution_count": 22,
   "metadata": {},
   "outputs": [
    {
     "data": {
      "text/html": [
       "<div>\n",
       "<style scoped>\n",
       "    .dataframe tbody tr th:only-of-type {\n",
       "        vertical-align: middle;\n",
       "    }\n",
       "\n",
       "    .dataframe tbody tr th {\n",
       "        vertical-align: top;\n",
       "    }\n",
       "\n",
       "    .dataframe thead th {\n",
       "        text-align: right;\n",
       "    }\n",
       "</style>\n",
       "<table border=\"1\" class=\"dataframe\">\n",
       "  <thead>\n",
       "    <tr style=\"text-align: right;\">\n",
       "      <th></th>\n",
       "      <th>PNAME</th>\n",
       "      <th>NAMEPCAP</th>\n",
       "      <th>PLFUELCT</th>\n",
       "      <th>PLHTIAN</th>\n",
       "      <th>PLNGENAN</th>\n",
       "      <th>PLCO2EQA</th>\n",
       "      <th>CAPFAC</th>\n",
       "      <th>HEATRATE</th>\n",
       "      <th>MARGCOST</th>\n",
       "      <th>ADJCAP</th>\n",
       "      <th>CUMCAP</th>\n",
       "    </tr>\n",
       "  </thead>\n",
       "  <tbody>\n",
       "    <tr>\n",
       "      <th>4754</th>\n",
       "      <td>Pinetree Power Fitchburg, LLC</td>\n",
       "      <td>18</td>\n",
       "      <td>BIOMASS</td>\n",
       "      <td>1819010.875</td>\n",
       "      <td>91658</td>\n",
       "      <td>4124.081</td>\n",
       "      <td>0.58129</td>\n",
       "      <td>19.845631</td>\n",
       "      <td>231.995430</td>\n",
       "      <td>18.0</td>\n",
       "      <td>31859.83</td>\n",
       "    </tr>\n",
       "    <tr>\n",
       "      <th>7565</th>\n",
       "      <td>Wheelabrator Concord Facility</td>\n",
       "      <td>14</td>\n",
       "      <td>BIOMASS</td>\n",
       "      <td>1978210.125</td>\n",
       "      <td>99344</td>\n",
       "      <td>113252.839</td>\n",
       "      <td>0.81005</td>\n",
       "      <td>19.912729</td>\n",
       "      <td>232.779799</td>\n",
       "      <td>14.0</td>\n",
       "      <td>31873.83</td>\n",
       "    </tr>\n",
       "    <tr>\n",
       "      <th>5138</th>\n",
       "      <td>Penobscot Energy Recovery</td>\n",
       "      <td>25.3</td>\n",
       "      <td>BIOMASS</td>\n",
       "      <td>1719223.000</td>\n",
       "      <td>85303</td>\n",
       "      <td>99563.505</td>\n",
       "      <td>0.38489</td>\n",
       "      <td>20.154309</td>\n",
       "      <td>235.603869</td>\n",
       "      <td>25.3</td>\n",
       "      <td>31899.13</td>\n",
       "    </tr>\n",
       "    <tr>\n",
       "      <th>4897</th>\n",
       "      <td>Wheelabrator North Andover</td>\n",
       "      <td>40.3</td>\n",
       "      <td>BIOMASS</td>\n",
       "      <td>4412512.250</td>\n",
       "      <td>218375</td>\n",
       "      <td>252617.407</td>\n",
       "      <td>0.61858</td>\n",
       "      <td>20.206124</td>\n",
       "      <td>236.209585</td>\n",
       "      <td>40.3</td>\n",
       "      <td>31939.43</td>\n",
       "    </tr>\n",
       "    <tr>\n",
       "      <th>4898</th>\n",
       "      <td>Wheelabrator Saugus</td>\n",
       "      <td>53.7</td>\n",
       "      <td>BIOMASS</td>\n",
       "      <td>3852075.750</td>\n",
       "      <td>180847</td>\n",
       "      <td>220535.181</td>\n",
       "      <td>0.38444</td>\n",
       "      <td>21.300192</td>\n",
       "      <td>248.999240</td>\n",
       "      <td>53.7</td>\n",
       "      <td>31993.13</td>\n",
       "    </tr>\n",
       "    <tr>\n",
       "      <th>4603</th>\n",
       "      <td>GRS Fall River</td>\n",
       "      <td>7.3</td>\n",
       "      <td>BIOMASS</td>\n",
       "      <td>351579.000</td>\n",
       "      <td>16361</td>\n",
       "      <td>0.001</td>\n",
       "      <td>0.25585</td>\n",
       "      <td>21.488845</td>\n",
       "      <td>251.204603</td>\n",
       "      <td>7.3</td>\n",
       "      <td>32000.43</td>\n",
       "    </tr>\n",
       "    <tr>\n",
       "      <th>2449</th>\n",
       "      <td>CT Resource Rec Authority Facility</td>\n",
       "      <td>90</td>\n",
       "      <td>BIOMASS</td>\n",
       "      <td>5464231.250</td>\n",
       "      <td>252925</td>\n",
       "      <td>312898.956</td>\n",
       "      <td>0.32081</td>\n",
       "      <td>21.604156</td>\n",
       "      <td>252.552588</td>\n",
       "      <td>90.0</td>\n",
       "      <td>32090.43</td>\n",
       "    </tr>\n",
       "    <tr>\n",
       "      <th>5149</th>\n",
       "      <td>Regional Waste Systems</td>\n",
       "      <td>13.3</td>\n",
       "      <td>BIOMASS</td>\n",
       "      <td>1785627.875</td>\n",
       "      <td>79415</td>\n",
       "      <td>102246</td>\n",
       "      <td>0.68163</td>\n",
       "      <td>22.484768</td>\n",
       "      <td>262.846941</td>\n",
       "      <td>13.3</td>\n",
       "      <td>32103.73</td>\n",
       "    </tr>\n",
       "    <tr>\n",
       "      <th>4755</th>\n",
       "      <td>Pioneer Valley Resource Recovery</td>\n",
       "      <td>9.4</td>\n",
       "      <td>BIOMASS</td>\n",
       "      <td>1044714.000</td>\n",
       "      <td>33448</td>\n",
       "      <td>60097.424</td>\n",
       "      <td>0.40620</td>\n",
       "      <td>31.233975</td>\n",
       "      <td>365.125169</td>\n",
       "      <td>9.4</td>\n",
       "      <td>32113.13</td>\n",
       "    </tr>\n",
       "    <tr>\n",
       "      <th>5128</th>\n",
       "      <td>MMWAC Resource Recovery Facility</td>\n",
       "      <td>5</td>\n",
       "      <td>BIOMASS</td>\n",
       "      <td>748706.000</td>\n",
       "      <td>16100</td>\n",
       "      <td>43038.482</td>\n",
       "      <td>0.36758</td>\n",
       "      <td>46.503478</td>\n",
       "      <td>543.625661</td>\n",
       "      <td>5.0</td>\n",
       "      <td>32118.13</td>\n",
       "    </tr>\n",
       "  </tbody>\n",
       "</table>\n",
       "</div>"
      ],
      "text/plain": [
       "                                   PNAME NAMEPCAP PLFUELCT      PLHTIAN  \\\n",
       "4754       Pinetree Power Fitchburg, LLC       18  BIOMASS  1819010.875   \n",
       "7565       Wheelabrator Concord Facility       14  BIOMASS  1978210.125   \n",
       "5138           Penobscot Energy Recovery     25.3  BIOMASS  1719223.000   \n",
       "4897          Wheelabrator North Andover     40.3  BIOMASS  4412512.250   \n",
       "4898                 Wheelabrator Saugus     53.7  BIOMASS  3852075.750   \n",
       "4603                      GRS Fall River      7.3  BIOMASS   351579.000   \n",
       "2449  CT Resource Rec Authority Facility       90  BIOMASS  5464231.250   \n",
       "5149              Regional Waste Systems     13.3  BIOMASS  1785627.875   \n",
       "4755    Pioneer Valley Resource Recovery      9.4  BIOMASS  1044714.000   \n",
       "5128    MMWAC Resource Recovery Facility        5  BIOMASS   748706.000   \n",
       "\n",
       "     PLNGENAN    PLCO2EQA   CAPFAC   HEATRATE    MARGCOST  ADJCAP    CUMCAP  \n",
       "4754    91658    4124.081  0.58129  19.845631  231.995430    18.0  31859.83  \n",
       "7565    99344  113252.839  0.81005  19.912729  232.779799    14.0  31873.83  \n",
       "5138    85303   99563.505  0.38489  20.154309  235.603869    25.3  31899.13  \n",
       "4897   218375  252617.407  0.61858  20.206124  236.209585    40.3  31939.43  \n",
       "4898   180847  220535.181  0.38444  21.300192  248.999240    53.7  31993.13  \n",
       "4603    16361       0.001  0.25585  21.488845  251.204603     7.3  32000.43  \n",
       "2449   252925  312898.956  0.32081  21.604156  252.552588    90.0  32090.43  \n",
       "5149    79415      102246  0.68163  22.484768  262.846941    13.3  32103.73  \n",
       "4755    33448   60097.424  0.40620  31.233975  365.125169     9.4  32113.13  \n",
       "5128    16100   43038.482  0.36758  46.503478  543.625661     5.0  32118.13  "
      ]
     },
     "execution_count": 22,
     "metadata": {},
     "output_type": "execute_result"
    }
   ],
   "source": [
    "# The first row of the CUMCAP column is just the ADJCAP of that plant (in that row)\n",
    "subsetSubSorted.iloc[0,10]=subsetSubSorted.iloc[0,9]\n",
    "# Now walk through all the rows adding the cumulative capacity. Start at row 1 since row 0 has already the right CUMCAP\n",
    "for i in range (1,len(subsetSubSorted)):  \n",
    "               subsetSubSorted.iloc[i,10]=subsetSubSorted.iloc[i-1,10]+subsetSubSorted.iloc[i,9]\n",
    "#Lets find the total installed power capacity. The last value in the CUMCAP column is the maximum demand that can be served\n",
    "subsetSubSorted.tail(10)"
   ]
  },
  {
   "cell_type": "code",
   "execution_count": 34,
   "metadata": {},
   "outputs": [
    {
     "name": "stdout",
     "output_type": "stream",
     "text": [
      "The maximum demand that can be served in ISO New England with the power plants contained in the PLNT19 tab of eGRID2019, that had a capacity of more than 1 MW and a CF f more than 1%, without derating WIND AND SOLAR and derating the capacity of NUCLEAR plants to 70% of nameplate is     32118.13 MW\n"
     ]
    }
   ],
   "source": [
    "\n",
    "print(\"The maximum demand that can be served in\", ISOName,\"with the power plants contained in the PLNT19 tab of eGRID2019, that had a capacity of more than 1 MW and a CF f more than 1%, without derating WIND AND SOLAR and derating the capacity of NUCLEAR plants to 70% of nameplate is    \", '%.2f' %subsetSubSorted.iloc[len(subsetSubSorted)-1,10], \"MW\")"
   ]
  },
  {
   "cell_type": "code",
   "execution_count": 24,
   "metadata": {},
   "outputs": [],
   "source": [
    "# Now create three new datasets of coal and gas with the new columns MARGCOST and CUMCAP sorted so we can differentiate them\n",
    "# in the plot\n",
    "coalSorted=subsetSubSorted[subsetSubSorted[\"PLFUELCT\"]==\"COAL\"]\n",
    "gasSorted=subsetSubSorted[subsetSubSorted[\"PLFUELCT\"]==\"GAS\"]\n",
    "nuclearSorted=subsetSubSorted[subsetSubSorted[\"PLFUELCT\"]==\"NUCLEAR\"]\n",
    "oilSorted=subsetSubSorted[subsetSubSorted[\"PLFUELCT\"]==\"OIL\"]\n",
    "hydroSorted=subsetSubSorted[subsetSubSorted[\"PLFUELCT\"]==\"HYDRO\"]\n",
    "bioSorted=subsetSubSorted[subsetSubSorted[\"PLFUELCT\"]==\"BIOMASS\"]\n",
    "windSorted=subsetSubSorted[subsetSubSorted[\"PLFUELCT\"]==\"WIND\"]\n",
    "solarSorted=subsetSubSorted[subsetSubSorted[\"PLFUELCT\"]==\"SOLAR\"]"
   ]
  },
  {
   "cell_type": "code",
   "execution_count": 25,
   "metadata": {},
   "outputs": [
    {
     "data": {
      "text/html": [
       "<div>\n",
       "<style scoped>\n",
       "    .dataframe tbody tr th:only-of-type {\n",
       "        vertical-align: middle;\n",
       "    }\n",
       "\n",
       "    .dataframe tbody tr th {\n",
       "        vertical-align: top;\n",
       "    }\n",
       "\n",
       "    .dataframe thead th {\n",
       "        text-align: right;\n",
       "    }\n",
       "</style>\n",
       "<table border=\"1\" class=\"dataframe\">\n",
       "  <thead>\n",
       "    <tr style=\"text-align: right;\">\n",
       "      <th></th>\n",
       "      <th>PNAME</th>\n",
       "      <th>NAMEPCAP</th>\n",
       "      <th>PLFUELCT</th>\n",
       "      <th>PLHTIAN</th>\n",
       "      <th>PLNGENAN</th>\n",
       "      <th>PLCO2EQA</th>\n",
       "      <th>CAPFAC</th>\n",
       "      <th>HEATRATE</th>\n",
       "      <th>MARGCOST</th>\n",
       "      <th>ADJCAP</th>\n",
       "      <th>CUMCAP</th>\n",
       "    </tr>\n",
       "  </thead>\n",
       "  <tbody>\n",
       "    <tr>\n",
       "      <th>4526</th>\n",
       "      <td>Deer Island Treatment</td>\n",
       "      <td>85</td>\n",
       "      <td>BIOMASS</td>\n",
       "      <td>218526.698</td>\n",
       "      <td>43366.55</td>\n",
       "      <td>1617.463</td>\n",
       "      <td>0.05824</td>\n",
       "      <td>5.039061</td>\n",
       "      <td>58.906625</td>\n",
       "      <td>85.0</td>\n",
       "      <td>28528.93</td>\n",
       "    </tr>\n",
       "    <tr>\n",
       "      <th>7563</th>\n",
       "      <td>UNH 7.9 MW Plant</td>\n",
       "      <td>7.9</td>\n",
       "      <td>BIOMASS</td>\n",
       "      <td>261545.814</td>\n",
       "      <td>51648</td>\n",
       "      <td>3761.652</td>\n",
       "      <td>0.74632</td>\n",
       "      <td>5.064007</td>\n",
       "      <td>59.198237</td>\n",
       "      <td>7.9</td>\n",
       "      <td>28536.83</td>\n",
       "    </tr>\n",
       "    <tr>\n",
       "      <th>5164</th>\n",
       "      <td>Somerset Plant</td>\n",
       "      <td>107.1</td>\n",
       "      <td>BIOMASS</td>\n",
       "      <td>2951756.118</td>\n",
       "      <td>531715</td>\n",
       "      <td>31454.329</td>\n",
       "      <td>0.56674</td>\n",
       "      <td>5.551388</td>\n",
       "      <td>64.895722</td>\n",
       "      <td>107.1</td>\n",
       "      <td>30468.93</td>\n",
       "    </tr>\n",
       "    <tr>\n",
       "      <th>5065</th>\n",
       "      <td>Androscoggin Mill</td>\n",
       "      <td>80</td>\n",
       "      <td>BIOMASS</td>\n",
       "      <td>2152056.213</td>\n",
       "      <td>387253</td>\n",
       "      <td>7983.59</td>\n",
       "      <td>0.55259</td>\n",
       "      <td>5.557236</td>\n",
       "      <td>64.964086</td>\n",
       "      <td>80.0</td>\n",
       "      <td>30548.93</td>\n",
       "    </tr>\n",
       "    <tr>\n",
       "      <th>11309</th>\n",
       "      <td>Middlebury College</td>\n",
       "      <td>1.6</td>\n",
       "      <td>BIOMASS</td>\n",
       "      <td>19050.523</td>\n",
       "      <td>3395</td>\n",
       "      <td>658.936</td>\n",
       "      <td>0.24222</td>\n",
       "      <td>5.611347</td>\n",
       "      <td>65.596646</td>\n",
       "      <td>1.6</td>\n",
       "      <td>30550.53</td>\n",
       "    </tr>\n",
       "  </tbody>\n",
       "</table>\n",
       "</div>"
      ],
      "text/plain": [
       "                       PNAME NAMEPCAP PLFUELCT      PLHTIAN  PLNGENAN  \\\n",
       "4526   Deer Island Treatment       85  BIOMASS   218526.698  43366.55   \n",
       "7563        UNH 7.9 MW Plant      7.9  BIOMASS   261545.814     51648   \n",
       "5164          Somerset Plant    107.1  BIOMASS  2951756.118    531715   \n",
       "5065       Androscoggin Mill       80  BIOMASS  2152056.213    387253   \n",
       "11309     Middlebury College      1.6  BIOMASS    19050.523      3395   \n",
       "\n",
       "        PLCO2EQA   CAPFAC  HEATRATE   MARGCOST  ADJCAP    CUMCAP  \n",
       "4526    1617.463  0.05824  5.039061  58.906625    85.0  28528.93  \n",
       "7563    3761.652  0.74632  5.064007  59.198237     7.9  28536.83  \n",
       "5164   31454.329  0.56674  5.551388  64.895722   107.1  30468.93  \n",
       "5065     7983.59  0.55259  5.557236  64.964086    80.0  30548.93  \n",
       "11309    658.936  0.24222  5.611347  65.596646     1.6  30550.53  "
      ]
     },
     "execution_count": 25,
     "metadata": {},
     "output_type": "execute_result"
    }
   ],
   "source": [
    "bioSorted.head(5)"
   ]
  },
  {
   "cell_type": "code",
   "execution_count": 26,
   "metadata": {},
   "outputs": [
    {
     "data": {
      "image/png": "[encoded data removed]",
      "text/plain": [
       "<Figure size 432x288 with 1 Axes>"
      ]
     },
     "metadata": {
      "needs_background": "light"
     },
     "output_type": "display_data"
    }
   ],
   "source": [
    "plt.scatter(coalSorted[\"CUMCAP\"],coalSorted[\"MARGCOST\"],marker=\"o\",label=\"COAL PLANTS\")\n",
    "plt.scatter(gasSorted[\"CUMCAP\"],gasSorted[\"MARGCOST\"],marker=\"+\",label=\"GAS PLANTS\")\n",
    "plt.scatter(oilSorted[\"CUMCAP\"],oilSorted[\"MARGCOST\"],marker=\"*\",label=\"OIL PLANTS\")\n",
    "plt.scatter(nuclearSorted[\"CUMCAP\"],nuclearSorted[\"MARGCOST\"],marker=\".\",label=\"NUCLEAR PLANTS\")\n",
    "plt.scatter(hydroSorted[\"CUMCAP\"],hydroSorted[\"MARGCOST\"],marker=\"s\",label=\"HYDRO PLANTS\")\n",
    "plt.scatter(bioSorted[\"CUMCAP\"],bioSorted[\"MARGCOST\"],marker=\"v\",label=\"BIOMASS PLANTS\")\n",
    "plt.scatter(windSorted[\"CUMCAP\"],windSorted[\"MARGCOST\"],marker=\"2\",label=\"WIND PLANTS\")\n",
    "plt.scatter(solarSorted[\"CUMCAP\"],solarSorted[\"MARGCOST\"],marker=\"3\",label=\"SOLAR PLANTS\")\n",
    "plt.title(ISOName+\" Power supply curve from coal, gas, oil, nuclear, hydro, biomass, wind, and solar\",fontsize=16)\n",
    "plt.xlabel(\"Cumulative Power Capacity (MW))\", fontsize=14)\n",
    "plt.ylabel(\"$/MWh\",fontsize=14)\n",
    "plt.legend(fontsize=12)\n",
    "plt.show()\n"
   ]
  },
  {
   "cell_type": "code",
   "execution_count": 27,
   "metadata": {},
   "outputs": [
    {
     "name": "stdout",
     "output_type": "stream",
     "text": [
      "ISO New England Power supply curve from coal, gas, oil, nuclear, hydro, biomass, solar and wind\n"
     ]
    }
   ],
   "source": [
    "title = ISOName+\" Power supply curve from coal, gas, oil, nuclear, hydro, biomass, solar and wind\"\n",
    "print(title)"
   ]
  },
  {
   "cell_type": "code",
   "execution_count": 28,
   "metadata": {},
   "outputs": [
    {
     "name": "stdout",
     "output_type": "stream",
     "text": [
      "there are a total of 744 baseload plants with CF > 1% and Capacity > 1MW\n"
     ]
    }
   ],
   "source": [
    "#Let's remove the last two plants in the merit order so we can see the distribution of prices more clearly without these outliers\n",
    "print(\"there are a total of\", len(subsetSubSorted),\"baseload plants with CF > 1% and Capacity > 1MW\")"
   ]
  },
  {
   "cell_type": "code",
   "execution_count": 29,
   "metadata": {},
   "outputs": [],
   "source": [
    "subsetSubSorted2=subsetSubSorted.iloc[0:len(subsetSubSorted)-2]"
   ]
  },
  {
   "cell_type": "code",
   "execution_count": 30,
   "metadata": {},
   "outputs": [
    {
     "data": {
      "text/plain": [
       "742"
      ]
     },
     "execution_count": 30,
     "metadata": {},
     "output_type": "execute_result"
    }
   ],
   "source": [
    "len(subsetSubSorted2)"
   ]
  },
  {
   "cell_type": "code",
   "execution_count": 31,
   "metadata": {},
   "outputs": [],
   "source": [
    "coalSorted=subsetSubSorted2[subsetSubSorted2[\"PLFUELCT\"]==\"COAL\"]\n",
    "gasSorted=subsetSubSorted2[subsetSubSorted2[\"PLFUELCT\"]==\"GAS\"]\n",
    "nuclearSorted=subsetSubSorted2[subsetSubSorted2[\"PLFUELCT\"]==\"NUCLEAR\"]\n",
    "oilSorted=subsetSubSorted2[subsetSubSorted2[\"PLFUELCT\"]==\"OIL\"]\n",
    "hydroSorted=subsetSubSorted2[subsetSubSorted2[\"PLFUELCT\"]==\"HYDRO\"]\n",
    "bioSorted=subsetSubSorted2[subsetSubSorted2[\"PLFUELCT\"]==\"BIOMASS\"]\n",
    "windSorted=subsetSubSorted[subsetSubSorted[\"PLFUELCT\"]==\"WIND\"]\n",
    "solarSorted=subsetSubSorted[subsetSubSorted[\"PLFUELCT\"]==\"SOLAR\"]"
   ]
  },
  {
   "cell_type": "code",
   "execution_count": 32,
   "metadata": {},
   "outputs": [
    {
     "data": {
      "image/png": "[encoded data removed]",
      "text/plain": [
       "<Figure size 432x288 with 1 Axes>"
      ]
     },
     "metadata": {
      "needs_background": "light"
     },
     "output_type": "display_data"
    }
   ],
   "source": [
    "plt.scatter(coalSorted[\"CUMCAP\"],coalSorted[\"MARGCOST\"],marker=\"o\",label=\"COAL PLANTS\")\n",
    "plt.scatter(gasSorted[\"CUMCAP\"],gasSorted[\"MARGCOST\"],marker=\"+\",label=\"GAS PLANTS\")\n",
    "plt.scatter(oilSorted[\"CUMCAP\"],oilSorted[\"MARGCOST\"],marker=\"*\",label=\"OIL PLANTS\")\n",
    "plt.scatter(nuclearSorted[\"CUMCAP\"],nuclearSorted[\"MARGCOST\"],marker=\".\",label=\"NUCLEAR PLANTS\")\n",
    "plt.scatter(hydroSorted[\"CUMCAP\"],hydroSorted[\"MARGCOST\"],marker=\"s\",label=\"HYDRO PLANTS\")\n",
    "plt.scatter(bioSorted[\"CUMCAP\"],bioSorted[\"MARGCOST\"],marker=\"v\",label=\"BIOMASS PLANTS\")\n",
    "plt.scatter(windSorted[\"CUMCAP\"],windSorted[\"MARGCOST\"],marker=\"2\",label=\"WIND PLANTS\")\n",
    "plt.scatter(solarSorted[\"CUMCAP\"],solarSorted[\"MARGCOST\"],marker=\"3\",label=\"SOLAR PLANTS\")\n",
    "plt.title(ISOName+\" Power supply curve from coal, gas, oil, nuclear, hydro, biomass, wind, and solar\",fontsize=16)\n",
    "plt.xlabel(\"Cumulative Power Capacity (MW))\", fontsize=14)\n",
    "plt.ylabel(\"$/MWh\",fontsize=14)\n",
    "plt.legend(fontsize=12)\n",
    "#Make sure to add a caption that makes this plot a stand-alone piece of information\n",
    "txt=\"Based on eGRID2019 data. Excluding plants with capacity < 1MW or Capacity Factor < 1%, and the 2 most expensive plants\"\n",
    "plt.figtext(0.5, -0.05, txt, wrap=True, horizontalalignment='center', fontsize=10)\n",
    "txt2=\"Assumes the following prices: Coal 2.02 $/MMBTU, Natural Gas 2.89 $/MMBTU, Oil 15 $/MMBTU, Nuclear 9/MWh, Hydro 6/MWh \"\n",
    "txt3=\"Wind and solar are assumed to have a 0 marginal cost\"\n",
    "txt4=\"NUCLEAR CAPACITY IS DERATED to 70% of nameplate\"\n",
    "plt.figtext(0.5, -0.1, txt2, wrap=True, horizontalalignment='center', fontsize=10)\n",
    "plt.figtext(0.5, -0.15, txt3, wrap=True, horizontalalignment='center', fontsize=10)\n",
    "plt.figtext(0.5, -0.2, txt4, wrap=True, horizontalalignment='center', fontsize=10)\n",
    "plt.show()"
   ]
  },
  {
   "cell_type": "code",
   "execution_count": null,
   "metadata": {},
   "outputs": [],
   "source": []
  }
 ],
 "metadata": {
  "kernelspec": {
   "display_name": "Python 3",
   "language": "python",
   "name": "python3"
  },
  "language_info": {
   "codemirror_mode": {
    "name": "ipython",
    "version": 3
   },
   "file_extension": ".py",
   "mimetype": "text/x-python",
   "name": "python",
   "nbconvert_exporter": "python",
   "pygments_lexer": "ipython3",
   "version": "3.8.8"
  }
 },
 "nbformat": 4,
 "nbformat_minor": 2
}
